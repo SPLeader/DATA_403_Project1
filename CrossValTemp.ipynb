{
 "cells": [
  {
   "cell_type": "code",
   "execution_count": 88,
   "id": "fd0623d7-1a8d-4eab-8dbf-a4eb0af41504",
   "metadata": {},
   "outputs": [],
   "source": [
    "import pandas as pd\n",
    "from sklearn.preprocessing import StandardScaler\n",
    "from sklearn.preprocessing import OneHotEncoder\n",
    "from sklearn.compose import make_column_transformer\n",
    "import numpy as np\n",
    "from sklearn.model_selection import train_test_split\n",
    "from sklearn.metrics import mean_squared_error"
   ]
  },
  {
   "cell_type": "code",
   "execution_count": 28,
   "id": "8941e0fa-6696-4e73-9619-eedc9cd01107",
   "metadata": {},
   "outputs": [],
   "source": [
    "df = pd.read_csv(\"harlech_data_proportions.csv\").dropna()"
   ]
  },
  {
   "cell_type": "code",
   "execution_count": 29,
   "id": "5841890f-feb1-4b16-84ae-a93abd2fd1fa",
   "metadata": {},
   "outputs": [
    {
     "data": {
      "text/html": [
       "<div>\n",
       "<style scoped>\n",
       "    .dataframe tbody tr th:only-of-type {\n",
       "        vertical-align: middle;\n",
       "    }\n",
       "\n",
       "    .dataframe tbody tr th {\n",
       "        vertical-align: top;\n",
       "    }\n",
       "\n",
       "    .dataframe thead th {\n",
       "        text-align: right;\n",
       "    }\n",
       "</style>\n",
       "<table border=\"1\" class=\"dataframe\">\n",
       "  <thead>\n",
       "    <tr style=\"text-align: right;\">\n",
       "      <th></th>\n",
       "      <th>Unnamed: 0</th>\n",
       "      <th>Date</th>\n",
       "      <th>Year</th>\n",
       "      <th>Poverty</th>\n",
       "      <th>Population</th>\n",
       "      <th>Bottles Sold PC</th>\n",
       "      <th>Sales Volume PC</th>\n",
       "      <th>Volume Sold PC</th>\n",
       "      <th>Vodka Sold PC</th>\n",
       "      <th>Gin Sold PC</th>\n",
       "      <th>...</th>\n",
       "      <th>Pacific Prop</th>\n",
       "      <th>Two+ Prop</th>\n",
       "      <th>Other Prop</th>\n",
       "      <th>HighIncome Prop</th>\n",
       "      <th>LowIncome Prop</th>\n",
       "      <th>MidIncome Prop</th>\n",
       "      <th>Middle-Old Prop</th>\n",
       "      <th>Middle-Young Prop</th>\n",
       "      <th>Old Prop</th>\n",
       "      <th>Young Prop</th>\n",
       "    </tr>\n",
       "  </thead>\n",
       "  <tbody>\n",
       "    <tr>\n",
       "      <th>0</th>\n",
       "      <td>0</td>\n",
       "      <td>2012-01-03</td>\n",
       "      <td>2012</td>\n",
       "      <td>10.6</td>\n",
       "      <td>7466.0</td>\n",
       "      <td>0.045406</td>\n",
       "      <td>0.572024</td>\n",
       "      <td>0.042743</td>\n",
       "      <td>0.005224</td>\n",
       "      <td>0.000268</td>\n",
       "      <td>...</td>\n",
       "      <td>0.000000</td>\n",
       "      <td>0.006464</td>\n",
       "      <td>0.001751</td>\n",
       "      <td>0.104878</td>\n",
       "      <td>0.262927</td>\n",
       "      <td>0.632195</td>\n",
       "      <td>0.290708</td>\n",
       "      <td>0.205457</td>\n",
       "      <td>0.391118</td>\n",
       "      <td>0.112716</td>\n",
       "    </tr>\n",
       "    <tr>\n",
       "      <th>1</th>\n",
       "      <td>1</td>\n",
       "      <td>2012-01-03</td>\n",
       "      <td>2012</td>\n",
       "      <td>10.2</td>\n",
       "      <td>3910.0</td>\n",
       "      <td>0.028900</td>\n",
       "      <td>0.381381</td>\n",
       "      <td>0.028885</td>\n",
       "      <td>0.004604</td>\n",
       "      <td>0.000767</td>\n",
       "      <td>...</td>\n",
       "      <td>0.000000</td>\n",
       "      <td>0.016444</td>\n",
       "      <td>0.000000</td>\n",
       "      <td>0.102477</td>\n",
       "      <td>0.222886</td>\n",
       "      <td>0.674637</td>\n",
       "      <td>0.308361</td>\n",
       "      <td>0.197993</td>\n",
       "      <td>0.366555</td>\n",
       "      <td>0.127090</td>\n",
       "    </tr>\n",
       "    <tr>\n",
       "      <th>2</th>\n",
       "      <td>2</td>\n",
       "      <td>2012-01-03</td>\n",
       "      <td>2012</td>\n",
       "      <td>9.7</td>\n",
       "      <td>5861.0</td>\n",
       "      <td>0.045897</td>\n",
       "      <td>0.496417</td>\n",
       "      <td>0.040203</td>\n",
       "      <td>0.012967</td>\n",
       "      <td>0.000000</td>\n",
       "      <td>...</td>\n",
       "      <td>0.000000</td>\n",
       "      <td>0.010223</td>\n",
       "      <td>0.000000</td>\n",
       "      <td>0.126021</td>\n",
       "      <td>0.324971</td>\n",
       "      <td>0.549008</td>\n",
       "      <td>0.305332</td>\n",
       "      <td>0.186828</td>\n",
       "      <td>0.402554</td>\n",
       "      <td>0.105287</td>\n",
       "    </tr>\n",
       "    <tr>\n",
       "      <th>3</th>\n",
       "      <td>3</td>\n",
       "      <td>2012-01-03</td>\n",
       "      <td>2012</td>\n",
       "      <td>9.6</td>\n",
       "      <td>25829.0</td>\n",
       "      <td>0.004181</td>\n",
       "      <td>0.049647</td>\n",
       "      <td>0.003659</td>\n",
       "      <td>0.001161</td>\n",
       "      <td>0.000000</td>\n",
       "      <td>...</td>\n",
       "      <td>0.000000</td>\n",
       "      <td>0.010386</td>\n",
       "      <td>0.002519</td>\n",
       "      <td>0.173219</td>\n",
       "      <td>0.200028</td>\n",
       "      <td>0.626754</td>\n",
       "      <td>0.327041</td>\n",
       "      <td>0.246467</td>\n",
       "      <td>0.307464</td>\n",
       "      <td>0.119027</td>\n",
       "    </tr>\n",
       "    <tr>\n",
       "      <th>4</th>\n",
       "      <td>4</td>\n",
       "      <td>2012-01-03</td>\n",
       "      <td>2012</td>\n",
       "      <td>15.7</td>\n",
       "      <td>131904.0</td>\n",
       "      <td>0.000970</td>\n",
       "      <td>0.010843</td>\n",
       "      <td>0.000835</td>\n",
       "      <td>0.000273</td>\n",
       "      <td>0.000000</td>\n",
       "      <td>...</td>\n",
       "      <td>0.000174</td>\n",
       "      <td>0.021593</td>\n",
       "      <td>0.015072</td>\n",
       "      <td>0.127840</td>\n",
       "      <td>0.284954</td>\n",
       "      <td>0.587206</td>\n",
       "      <td>0.253147</td>\n",
       "      <td>0.240095</td>\n",
       "      <td>0.287378</td>\n",
       "      <td>0.219379</td>\n",
       "    </tr>\n",
       "  </tbody>\n",
       "</table>\n",
       "<p>5 rows × 30 columns</p>\n",
       "</div>"
      ],
      "text/plain": [
       "   Unnamed: 0        Date  Year  Poverty   Population  Bottles Sold PC  \\\n",
       "0           0  2012-01-03  2012      10.6      7466.0         0.045406   \n",
       "1           1  2012-01-03  2012      10.2      3910.0         0.028900   \n",
       "2           2  2012-01-03  2012       9.7      5861.0         0.045897   \n",
       "3           3  2012-01-03  2012       9.6     25829.0         0.004181   \n",
       "4           4  2012-01-03  2012      15.7    131904.0         0.000970   \n",
       "\n",
       "   Sales Volume PC  Volume Sold PC  Vodka Sold PC  Gin Sold PC  ...  \\\n",
       "0         0.572024        0.042743       0.005224     0.000268  ...   \n",
       "1         0.381381        0.028885       0.004604     0.000767  ...   \n",
       "2         0.496417        0.040203       0.012967     0.000000  ...   \n",
       "3         0.049647        0.003659       0.001161     0.000000  ...   \n",
       "4         0.010843        0.000835       0.000273     0.000000  ...   \n",
       "\n",
       "   Pacific Prop  Two+ Prop  Other Prop  HighIncome Prop LowIncome Prop  \\\n",
       "0      0.000000   0.006464    0.001751         0.104878       0.262927   \n",
       "1      0.000000   0.016444    0.000000         0.102477       0.222886   \n",
       "2      0.000000   0.010223    0.000000         0.126021       0.324971   \n",
       "3      0.000000   0.010386    0.002519         0.173219       0.200028   \n",
       "4      0.000174   0.021593    0.015072         0.127840       0.284954   \n",
       "\n",
       "   MidIncome Prop  Middle-Old Prop  Middle-Young Prop  Old Prop  Young Prop  \n",
       "0        0.632195         0.290708           0.205457  0.391118    0.112716  \n",
       "1        0.674637         0.308361           0.197993  0.366555    0.127090  \n",
       "2        0.549008         0.305332           0.186828  0.402554    0.105287  \n",
       "3        0.626754         0.327041           0.246467  0.307464    0.119027  \n",
       "4        0.587206         0.253147           0.240095  0.287378    0.219379  \n",
       "\n",
       "[5 rows x 30 columns]"
      ]
     },
     "execution_count": 29,
     "metadata": {},
     "output_type": "execute_result"
    }
   ],
   "source": [
    "df.head()"
   ]
  },
  {
   "cell_type": "code",
   "execution_count": 30,
   "id": "6660a81c-9841-44e9-bcf3-16e7a649af9d",
   "metadata": {},
   "outputs": [],
   "source": [
    "df['Date'] = pd.to_datetime(df['Date'])\n",
    "df['Month'] = df['Date'].dt.month"
   ]
  },
  {
   "cell_type": "code",
   "execution_count": 31,
   "id": "a4a909e0-8c4b-4685-b378-d18f4bc31f7a",
   "metadata": {},
   "outputs": [],
   "source": [
    "predictive_df = df.drop([\n",
    "    # Those we want to remove for all analyses\n",
    "    'Unnamed: 0', 'Date',\n",
    "    \n",
    "    # Those we want to remove for the predictive model\n",
    "    'Gin Sold PC', 'Rum Sold PC', 'Whiskey Sold PC', 'Tequila Sold PC', 'Other Alc Sold PC',\n",
    "    \n",
    "    # Remove targets\n",
    "    'Sales Volume PC','Volume Sold PC', 'Bottles Sold PC', 'Vodka Sold PC',\n",
    "    \n",
    "    # Remove linearly dependent columns\n",
    "    'DOW', 'Young Prop', 'LowIncome Prop', 'Other Prop'], axis = 1)"
   ]
  },
  {
   "cell_type": "code",
   "execution_count": 32,
   "id": "e880e326-f99e-43c0-8972-301d8b5397dd",
   "metadata": {},
   "outputs": [
    {
     "data": {
      "text/plain": [
       "0        0.042743\n",
       "1        0.028885\n",
       "2        0.040203\n",
       "3        0.003659\n",
       "4        0.000835\n",
       "           ...   \n",
       "69438    0.051261\n",
       "69439    0.021340\n",
       "69440    0.040369\n",
       "69441    0.111520\n",
       "69442    0.096138\n",
       "Name: Volume Sold PC, Length: 69443, dtype: float64"
      ]
     },
     "execution_count": 32,
     "metadata": {},
     "output_type": "execute_result"
    }
   ],
   "source": [
    "df['Volume Sold PC']"
   ]
  },
  {
   "cell_type": "code",
   "execution_count": 33,
   "id": "a4666816-f2a7-41cd-b5c8-bfc3be9438e8",
   "metadata": {},
   "outputs": [
    {
     "data": {
      "text/html": [
       "<div>\n",
       "<style scoped>\n",
       "    .dataframe tbody tr th:only-of-type {\n",
       "        vertical-align: middle;\n",
       "    }\n",
       "\n",
       "    .dataframe tbody tr th {\n",
       "        vertical-align: top;\n",
       "    }\n",
       "\n",
       "    .dataframe thead th {\n",
       "        text-align: right;\n",
       "    }\n",
       "</style>\n",
       "<table border=\"1\" class=\"dataframe\">\n",
       "  <thead>\n",
       "    <tr style=\"text-align: right;\">\n",
       "      <th></th>\n",
       "      <th>Year</th>\n",
       "      <th>Poverty</th>\n",
       "      <th>Population</th>\n",
       "      <th>is_weekend</th>\n",
       "      <th>White Prop</th>\n",
       "      <th>Black Prop</th>\n",
       "      <th>Native American Prop</th>\n",
       "      <th>Asian Prop</th>\n",
       "      <th>Pacific Prop</th>\n",
       "      <th>Two+ Prop</th>\n",
       "      <th>HighIncome Prop</th>\n",
       "      <th>MidIncome Prop</th>\n",
       "      <th>Middle-Old Prop</th>\n",
       "      <th>Middle-Young Prop</th>\n",
       "      <th>Old Prop</th>\n",
       "      <th>Month</th>\n",
       "    </tr>\n",
       "  </thead>\n",
       "  <tbody>\n",
       "    <tr>\n",
       "      <th>0</th>\n",
       "      <td>2012</td>\n",
       "      <td>10.6</td>\n",
       "      <td>7466.0</td>\n",
       "      <td>0</td>\n",
       "      <td>0.984649</td>\n",
       "      <td>0.003636</td>\n",
       "      <td>0.000269</td>\n",
       "      <td>0.003232</td>\n",
       "      <td>0.000000</td>\n",
       "      <td>0.006464</td>\n",
       "      <td>0.104878</td>\n",
       "      <td>0.632195</td>\n",
       "      <td>0.290708</td>\n",
       "      <td>0.205457</td>\n",
       "      <td>0.391118</td>\n",
       "      <td>1</td>\n",
       "    </tr>\n",
       "    <tr>\n",
       "      <th>1</th>\n",
       "      <td>2012</td>\n",
       "      <td>10.2</td>\n",
       "      <td>3910.0</td>\n",
       "      <td>0</td>\n",
       "      <td>0.973279</td>\n",
       "      <td>0.006937</td>\n",
       "      <td>0.000514</td>\n",
       "      <td>0.002826</td>\n",
       "      <td>0.000000</td>\n",
       "      <td>0.016444</td>\n",
       "      <td>0.102477</td>\n",
       "      <td>0.674637</td>\n",
       "      <td>0.308361</td>\n",
       "      <td>0.197993</td>\n",
       "      <td>0.366555</td>\n",
       "      <td>1</td>\n",
       "    </tr>\n",
       "    <tr>\n",
       "      <th>2</th>\n",
       "      <td>2012</td>\n",
       "      <td>9.7</td>\n",
       "      <td>5861.0</td>\n",
       "      <td>0</td>\n",
       "      <td>0.976657</td>\n",
       "      <td>0.003237</td>\n",
       "      <td>0.006645</td>\n",
       "      <td>0.003237</td>\n",
       "      <td>0.000000</td>\n",
       "      <td>0.010223</td>\n",
       "      <td>0.126021</td>\n",
       "      <td>0.549008</td>\n",
       "      <td>0.305332</td>\n",
       "      <td>0.186828</td>\n",
       "      <td>0.402554</td>\n",
       "      <td>1</td>\n",
       "    </tr>\n",
       "    <tr>\n",
       "      <th>3</th>\n",
       "      <td>2012</td>\n",
       "      <td>9.6</td>\n",
       "      <td>25829.0</td>\n",
       "      <td>0</td>\n",
       "      <td>0.977638</td>\n",
       "      <td>0.007015</td>\n",
       "      <td>0.000310</td>\n",
       "      <td>0.002132</td>\n",
       "      <td>0.000000</td>\n",
       "      <td>0.010386</td>\n",
       "      <td>0.173219</td>\n",
       "      <td>0.626754</td>\n",
       "      <td>0.327041</td>\n",
       "      <td>0.246467</td>\n",
       "      <td>0.307464</td>\n",
       "      <td>1</td>\n",
       "    </tr>\n",
       "    <tr>\n",
       "      <th>4</th>\n",
       "      <td>2012</td>\n",
       "      <td>15.7</td>\n",
       "      <td>131904.0</td>\n",
       "      <td>0</td>\n",
       "      <td>0.852192</td>\n",
       "      <td>0.091550</td>\n",
       "      <td>0.002468</td>\n",
       "      <td>0.016951</td>\n",
       "      <td>0.000174</td>\n",
       "      <td>0.021593</td>\n",
       "      <td>0.127840</td>\n",
       "      <td>0.587206</td>\n",
       "      <td>0.253147</td>\n",
       "      <td>0.240095</td>\n",
       "      <td>0.287378</td>\n",
       "      <td>1</td>\n",
       "    </tr>\n",
       "  </tbody>\n",
       "</table>\n",
       "</div>"
      ],
      "text/plain": [
       "   Year  Poverty   Population  is_weekend  White Prop  Black Prop  \\\n",
       "0  2012      10.6      7466.0           0    0.984649    0.003636   \n",
       "1  2012      10.2      3910.0           0    0.973279    0.006937   \n",
       "2  2012       9.7      5861.0           0    0.976657    0.003237   \n",
       "3  2012       9.6     25829.0           0    0.977638    0.007015   \n",
       "4  2012      15.7    131904.0           0    0.852192    0.091550   \n",
       "\n",
       "   Native American Prop  Asian Prop  Pacific Prop  Two+ Prop  HighIncome Prop  \\\n",
       "0              0.000269    0.003232      0.000000   0.006464         0.104878   \n",
       "1              0.000514    0.002826      0.000000   0.016444         0.102477   \n",
       "2              0.006645    0.003237      0.000000   0.010223         0.126021   \n",
       "3              0.000310    0.002132      0.000000   0.010386         0.173219   \n",
       "4              0.002468    0.016951      0.000174   0.021593         0.127840   \n",
       "\n",
       "   MidIncome Prop  Middle-Old Prop  Middle-Young Prop  Old Prop  Month  \n",
       "0        0.632195         0.290708           0.205457  0.391118      1  \n",
       "1        0.674637         0.308361           0.197993  0.366555      1  \n",
       "2        0.549008         0.305332           0.186828  0.402554      1  \n",
       "3        0.626754         0.327041           0.246467  0.307464      1  \n",
       "4        0.587206         0.253147           0.240095  0.287378      1  "
      ]
     },
     "execution_count": 33,
     "metadata": {},
     "output_type": "execute_result"
    }
   ],
   "source": [
    "predictive_df.head()"
   ]
  },
  {
   "cell_type": "code",
   "execution_count": 34,
   "id": "b2bf49ae-a824-4bbf-b3f6-58c7bfa7a9b0",
   "metadata": {},
   "outputs": [],
   "source": [
    "# get dummies for year \n",
    "year_dummies = pd.get_dummies(df['Year'])\n",
    "year_columns = []\n",
    "for i in range(2012, 2021):\n",
    "    year_columns.append('year_{}'.format(i))\n",
    "year_dummies.columns = year_columns\n",
    "predictive_df = pd.concat([predictive_df, year_dummies], axis=1)\n",
    "predictive_df= predictive_df.drop(columns=['year_2012', 'Year'])"
   ]
  },
  {
   "cell_type": "code",
   "execution_count": 35,
   "id": "6a0f3e79-62ae-49f6-9743-52e89700df02",
   "metadata": {},
   "outputs": [],
   "source": [
    "# get dummies for month\n",
    "month_dummies = pd.get_dummies(df['Month'])\n",
    "month_columns = []\n",
    "for i in range(1, 13):\n",
    "    month_columns.append('month_{}'.format(i))\n",
    "month_dummies.columns = month_columns\n",
    "predictive_df = pd.concat([predictive_df, month_dummies], axis=1)\n",
    "predictive_df= predictive_df.drop(columns=['month_1', 'Month'])"
   ]
  },
  {
   "cell_type": "code",
   "execution_count": 36,
   "id": "20b5b340-c281-4373-a47a-3c5f50a1f8bd",
   "metadata": {},
   "outputs": [
    {
     "data": {
      "text/plain": [
       "Index(['Poverty ', 'Population', 'is_weekend', 'White Prop', 'Black Prop',\n",
       "       'Native American Prop', 'Asian Prop', 'Pacific Prop', 'Two+ Prop',\n",
       "       'HighIncome Prop', 'MidIncome Prop', 'Middle-Old Prop',\n",
       "       'Middle-Young Prop', 'Old Prop', 'year_2013', 'year_2014', 'year_2015',\n",
       "       'year_2016', 'year_2017', 'year_2018', 'year_2019', 'year_2020',\n",
       "       'month_2', 'month_3', 'month_4', 'month_5', 'month_6', 'month_7',\n",
       "       'month_8', 'month_9', 'month_10', 'month_11', 'month_12'],\n",
       "      dtype='object')"
      ]
     },
     "execution_count": 36,
     "metadata": {},
     "output_type": "execute_result"
    }
   ],
   "source": [
    "predictive_df.columns"
   ]
  },
  {
   "cell_type": "code",
   "execution_count": 37,
   "id": "977a2828-79fb-46ef-9f57-86ae4534ec21",
   "metadata": {},
   "outputs": [],
   "source": [
    "# standard scale non categorical columns\n",
    "ct = make_column_transformer(\n",
    "        (StandardScaler(), ['Poverty ', 'Population', 'White Prop', 'Black Prop',\n",
    "                            'Native American Prop', 'Asian Prop', 'Pacific Prop', 'Two+ Prop',\n",
    "                            'HighIncome Prop', 'MidIncome Prop', 'Middle-Old Prop','Middle-Young Prop', 'Old Prop'])\n",
    "        , remainder='passthrough')\n",
    "\n",
    "ct_array = ct.fit_transform(predictive_df)"
   ]
  },
  {
   "cell_type": "code",
   "execution_count": 38,
   "id": "6d289d17-3f88-40ce-a68b-a4ef9c45de86",
   "metadata": {},
   "outputs": [],
   "source": [
    "# make numpy array\n",
    "x_matrix = np.asmatrix(ct_array)"
   ]
  },
  {
   "cell_type": "code",
   "execution_count": 39,
   "id": "e39f1ab8-e79b-4711-a23e-f117cdf3ad9a",
   "metadata": {},
   "outputs": [
    {
     "data": {
      "text/plain": [
       "(69443, 33)"
      ]
     },
     "execution_count": 39,
     "metadata": {},
     "output_type": "execute_result"
    }
   ],
   "source": [
    "# check dimensions of matrix\n",
    "n_rows = x_matrix.shape[0]\n",
    "x_matrix.shape"
   ]
  },
  {
   "cell_type": "code",
   "execution_count": 40,
   "id": "a0e60169-67f2-4dba-ba95-2700f2d09f64",
   "metadata": {},
   "outputs": [],
   "source": [
    "# named columns of matrix in order (including intercept)\n",
    "x_mat_columns = ['Intercept', 'Poverty ', 'Population', 'White Prop', 'Black Prop', 'Native American Prop', 'Asian Prop', 'Pacific Prop',\n",
    "                 'Two+ Prop','HighIncome Prop', 'MidIncome Prop', 'Middle-Old Prop','Middle-Young Prop', 'Old Prop',\n",
    "                'is_weekend', 'year_2013', 'year_2014', 'year_2015','year_2016', 'year_2017', 'year_2018', 'year_2019', \n",
    "                 'year_2020', 'month_2', 'month_3', 'month_4', 'month_5', 'month_6', 'month_7', 'month_8', 'month_9', \n",
    "                 'month_10', 'month_11', 'month_12']"
   ]
  },
  {
   "cell_type": "code",
   "execution_count": 41,
   "id": "aa598613-10fb-4ca1-b820-10e0371442d8",
   "metadata": {},
   "outputs": [],
   "source": [
    "# adding intercept column to matrix\n",
    "intercept_array = np.ones((n_rows,1))\n",
    "x_mat = np.concatenate((intercept_array, x_matrix),1)"
   ]
  },
  {
   "cell_type": "code",
   "execution_count": 42,
   "id": "88a6f38c-7a35-48cd-ba40-6b2b7118d593",
   "metadata": {},
   "outputs": [
    {
     "data": {
      "text/plain": [
       "(69443, 34)"
      ]
     },
     "execution_count": 42,
     "metadata": {},
     "output_type": "execute_result"
    }
   ],
   "source": [
    "x_mat.shape"
   ]
  },
  {
   "cell_type": "code",
   "execution_count": 43,
   "id": "eed64318-0e55-4fd4-829b-27244e96ee40",
   "metadata": {},
   "outputs": [],
   "source": [
    "response_mat = np.asmatrix(df['Sales Volume PC']).getT()"
   ]
  },
  {
   "cell_type": "code",
   "execution_count": 44,
   "id": "f362a9b5-d386-4bf1-9233-a9745300f7e9",
   "metadata": {},
   "outputs": [],
   "source": [
    "# ols beta estimates\n",
    "ols_betas = np.matmul(np.matmul(np.matmul(x_mat.getT(), x_mat).getI(), x_mat.getT()), response_mat)"
   ]
  },
  {
   "cell_type": "code",
   "execution_count": 45,
   "id": "1265fe57-3463-46e1-9330-e68aab57dc02",
   "metadata": {},
   "outputs": [],
   "source": [
    "variable_df = pd.DataFrame({'Variable':x_mat_columns})\n",
    "betas_df = pd.DataFrame(ols_betas)\n",
    "ols_betas_df = pd.concat([variable_df, betas_df], axis=1)\n",
    "ols_betas_df.columns = ['Variable', 'Coefficient']"
   ]
  },
  {
   "cell_type": "code",
   "execution_count": 46,
   "id": "6de564d7-3645-4e9e-aba2-00f2e8d10dc3",
   "metadata": {},
   "outputs": [
    {
     "data": {
      "text/html": [
       "<div>\n",
       "<style scoped>\n",
       "    .dataframe tbody tr th:only-of-type {\n",
       "        vertical-align: middle;\n",
       "    }\n",
       "\n",
       "    .dataframe tbody tr th {\n",
       "        vertical-align: top;\n",
       "    }\n",
       "\n",
       "    .dataframe thead th {\n",
       "        text-align: right;\n",
       "    }\n",
       "</style>\n",
       "<table border=\"1\" class=\"dataframe\">\n",
       "  <thead>\n",
       "    <tr style=\"text-align: right;\">\n",
       "      <th></th>\n",
       "      <th>Variable</th>\n",
       "      <th>Coefficient</th>\n",
       "    </tr>\n",
       "  </thead>\n",
       "  <tbody>\n",
       "    <tr>\n",
       "      <th>0</th>\n",
       "      <td>Intercept</td>\n",
       "      <td>0.669425</td>\n",
       "    </tr>\n",
       "    <tr>\n",
       "      <th>33</th>\n",
       "      <td>month_12</td>\n",
       "      <td>0.225157</td>\n",
       "    </tr>\n",
       "    <tr>\n",
       "      <th>31</th>\n",
       "      <td>month_10</td>\n",
       "      <td>0.219571</td>\n",
       "    </tr>\n",
       "    <tr>\n",
       "      <th>13</th>\n",
       "      <td>Old Prop</td>\n",
       "      <td>0.205819</td>\n",
       "    </tr>\n",
       "    <tr>\n",
       "      <th>26</th>\n",
       "      <td>month_5</td>\n",
       "      <td>0.200926</td>\n",
       "    </tr>\n",
       "    <tr>\n",
       "      <th>27</th>\n",
       "      <td>month_6</td>\n",
       "      <td>0.190728</td>\n",
       "    </tr>\n",
       "    <tr>\n",
       "      <th>29</th>\n",
       "      <td>month_8</td>\n",
       "      <td>0.162023</td>\n",
       "    </tr>\n",
       "    <tr>\n",
       "      <th>17</th>\n",
       "      <td>year_2015</td>\n",
       "      <td>0.161984</td>\n",
       "    </tr>\n",
       "    <tr>\n",
       "      <th>28</th>\n",
       "      <td>month_7</td>\n",
       "      <td>0.156141</td>\n",
       "    </tr>\n",
       "    <tr>\n",
       "      <th>16</th>\n",
       "      <td>year_2014</td>\n",
       "      <td>0.136068</td>\n",
       "    </tr>\n",
       "    <tr>\n",
       "      <th>25</th>\n",
       "      <td>month_4</td>\n",
       "      <td>0.119872</td>\n",
       "    </tr>\n",
       "    <tr>\n",
       "      <th>30</th>\n",
       "      <td>month_9</td>\n",
       "      <td>0.117860</td>\n",
       "    </tr>\n",
       "    <tr>\n",
       "      <th>32</th>\n",
       "      <td>month_11</td>\n",
       "      <td>0.112464</td>\n",
       "    </tr>\n",
       "    <tr>\n",
       "      <th>23</th>\n",
       "      <td>month_2</td>\n",
       "      <td>0.109089</td>\n",
       "    </tr>\n",
       "    <tr>\n",
       "      <th>24</th>\n",
       "      <td>month_3</td>\n",
       "      <td>0.084666</td>\n",
       "    </tr>\n",
       "    <tr>\n",
       "      <th>8</th>\n",
       "      <td>Two+ Prop</td>\n",
       "      <td>0.054793</td>\n",
       "    </tr>\n",
       "    <tr>\n",
       "      <th>15</th>\n",
       "      <td>year_2013</td>\n",
       "      <td>0.046831</td>\n",
       "    </tr>\n",
       "    <tr>\n",
       "      <th>7</th>\n",
       "      <td>Pacific Prop</td>\n",
       "      <td>0.037763</td>\n",
       "    </tr>\n",
       "    <tr>\n",
       "      <th>9</th>\n",
       "      <td>HighIncome Prop</td>\n",
       "      <td>0.022322</td>\n",
       "    </tr>\n",
       "    <tr>\n",
       "      <th>2</th>\n",
       "      <td>Population</td>\n",
       "      <td>0.020519</td>\n",
       "    </tr>\n",
       "    <tr>\n",
       "      <th>14</th>\n",
       "      <td>is_weekend</td>\n",
       "      <td>0.013192</td>\n",
       "    </tr>\n",
       "    <tr>\n",
       "      <th>5</th>\n",
       "      <td>Native American Prop</td>\n",
       "      <td>-0.026321</td>\n",
       "    </tr>\n",
       "    <tr>\n",
       "      <th>22</th>\n",
       "      <td>year_2020</td>\n",
       "      <td>-0.032330</td>\n",
       "    </tr>\n",
       "    <tr>\n",
       "      <th>12</th>\n",
       "      <td>Middle-Young Prop</td>\n",
       "      <td>-0.034596</td>\n",
       "    </tr>\n",
       "    <tr>\n",
       "      <th>1</th>\n",
       "      <td>Poverty</td>\n",
       "      <td>-0.038307</td>\n",
       "    </tr>\n",
       "    <tr>\n",
       "      <th>10</th>\n",
       "      <td>MidIncome Prop</td>\n",
       "      <td>-0.048678</td>\n",
       "    </tr>\n",
       "    <tr>\n",
       "      <th>4</th>\n",
       "      <td>Black Prop</td>\n",
       "      <td>-0.051089</td>\n",
       "    </tr>\n",
       "    <tr>\n",
       "      <th>6</th>\n",
       "      <td>Asian Prop</td>\n",
       "      <td>-0.052837</td>\n",
       "    </tr>\n",
       "    <tr>\n",
       "      <th>11</th>\n",
       "      <td>Middle-Old Prop</td>\n",
       "      <td>-0.071066</td>\n",
       "    </tr>\n",
       "    <tr>\n",
       "      <th>21</th>\n",
       "      <td>year_2019</td>\n",
       "      <td>-0.100142</td>\n",
       "    </tr>\n",
       "    <tr>\n",
       "      <th>3</th>\n",
       "      <td>White Prop</td>\n",
       "      <td>-0.109444</td>\n",
       "    </tr>\n",
       "    <tr>\n",
       "      <th>20</th>\n",
       "      <td>year_2018</td>\n",
       "      <td>-0.149339</td>\n",
       "    </tr>\n",
       "    <tr>\n",
       "      <th>18</th>\n",
       "      <td>year_2016</td>\n",
       "      <td>-0.316106</td>\n",
       "    </tr>\n",
       "    <tr>\n",
       "      <th>19</th>\n",
       "      <td>year_2017</td>\n",
       "      <td>-0.920307</td>\n",
       "    </tr>\n",
       "  </tbody>\n",
       "</table>\n",
       "</div>"
      ],
      "text/plain": [
       "                Variable  Coefficient\n",
       "0              Intercept     0.669425\n",
       "33              month_12     0.225157\n",
       "31              month_10     0.219571\n",
       "13              Old Prop     0.205819\n",
       "26               month_5     0.200926\n",
       "27               month_6     0.190728\n",
       "29               month_8     0.162023\n",
       "17             year_2015     0.161984\n",
       "28               month_7     0.156141\n",
       "16             year_2014     0.136068\n",
       "25               month_4     0.119872\n",
       "30               month_9     0.117860\n",
       "32              month_11     0.112464\n",
       "23               month_2     0.109089\n",
       "24               month_3     0.084666\n",
       "8              Two+ Prop     0.054793\n",
       "15             year_2013     0.046831\n",
       "7           Pacific Prop     0.037763\n",
       "9        HighIncome Prop     0.022322\n",
       "2             Population     0.020519\n",
       "14            is_weekend     0.013192\n",
       "5   Native American Prop    -0.026321\n",
       "22             year_2020    -0.032330\n",
       "12     Middle-Young Prop    -0.034596\n",
       "1               Poverty     -0.038307\n",
       "10        MidIncome Prop    -0.048678\n",
       "4             Black Prop    -0.051089\n",
       "6             Asian Prop    -0.052837\n",
       "11       Middle-Old Prop    -0.071066\n",
       "21             year_2019    -0.100142\n",
       "3             White Prop    -0.109444\n",
       "20             year_2018    -0.149339\n",
       "18             year_2016    -0.316106\n",
       "19             year_2017    -0.920307"
      ]
     },
     "execution_count": 46,
     "metadata": {},
     "output_type": "execute_result"
    }
   ],
   "source": [
    "ols_betas_df.sort_values(by='Coefficient', ascending=False)"
   ]
  },
  {
   "cell_type": "code",
   "execution_count": 53,
   "id": "a86a93b0-7bbb-4724-aadf-6fe389ad52f7",
   "metadata": {},
   "outputs": [],
   "source": [
    "#basic training and test split 90/10\n",
    "X_train, X_test, y_train, y_test = train_test_split(x_matrix, response_mat, test_size=0.1)\n",
    "\n",
    "X_train, X_dev, y_train, y_dev = train_test_split(X_train, y_train, test_size=0.22)"
   ]
  },
  {
   "cell_type": "code",
   "execution_count": null,
   "id": "91da7a58-aa6b-483a-a113-010b6dc8baf5",
   "metadata": {},
   "outputs": [],
   "source": [
    "# k fold cross validation\n",
    "# estimate beta using k-1 folds\n",
    "# use remaining fold to predict response using beta estimates\n",
    "# calculate RMSE between true and predicted\n",
    "# get average for the k-folds \n",
    "# repeat this for each lambda "
   ]
  },
  {
   "cell_type": "code",
   "execution_count": 64,
   "id": "e24ad6cc-c6e0-4f43-a51e-9d8910f5b9fd",
   "metadata": {},
   "outputs": [
    {
     "data": {
      "text/plain": [
       "matrix([[-0.21971903, -0.51893582,  1.06346061, ...,  0.        ,\n",
       "          0.        ,  0.        ],\n",
       "        [-0.33437472, -0.55837635,  0.83756025, ...,  0.        ,\n",
       "          0.        ,  0.        ],\n",
       "        [-0.47769432, -0.5367373 ,  0.9046844 , ...,  0.        ,\n",
       "          0.        ,  0.        ],\n",
       "        ...,\n",
       "        [ 1.32813272, -0.53059274,  0.56149785, ...,  0.        ,\n",
       "          0.        ,  1.        ],\n",
       "        [ 0.84084606, -0.20318975, -0.72613453, ...,  0.        ,\n",
       "          0.        ,  1.        ],\n",
       "        [-0.73566961, -0.38144852,  0.6336721 , ...,  0.        ,\n",
       "          0.        ,  1.        ]])"
      ]
     },
     "execution_count": 64,
     "metadata": {},
     "output_type": "execute_result"
    }
   ],
   "source": [
    "x_mat[:, 1:]"
   ]
  },
  {
   "cell_type": "code",
   "execution_count": 67,
   "id": "9d029db6-95e5-43bd-9f76-a1e00a8e7de8",
   "metadata": {},
   "outputs": [
    {
     "data": {
      "text/plain": [
       "matrix([[ 2.        , -0.43943806, -1.03787164, ...,  0.        ,\n",
       "          0.        ,  0.        ],\n",
       "        [ 2.        , -0.66874943, -1.1167527 , ...,  0.        ,\n",
       "          0.        ,  0.        ],\n",
       "        [ 2.        , -0.95538864, -1.07347459, ...,  0.        ,\n",
       "          0.        ,  0.        ],\n",
       "        ...,\n",
       "        [ 2.        ,  2.65626544, -1.06118547, ...,  0.        ,\n",
       "          0.        ,  2.        ],\n",
       "        [ 2.        ,  1.68169212, -0.40637949, ...,  0.        ,\n",
       "          0.        ,  2.        ],\n",
       "        [ 2.        , -1.47133923, -0.76289705, ...,  0.        ,\n",
       "          0.        ,  2.        ]])"
      ]
     },
     "execution_count": 67,
     "metadata": {},
     "output_type": "execute_result"
    }
   ],
   "source": [
    "x_mat+x_mat"
   ]
  },
  {
   "cell_type": "code",
   "execution_count": 104,
   "id": "1b38b336-b9c1-45f7-8cce-24b310c2f9b9",
   "metadata": {},
   "outputs": [],
   "source": [
    "def run_cross_val(data, k, penalty=\"OLS\", lam=100):\n",
    "    # shuffle matrix\n",
    "    np.random.shuffle(data)\n",
    "    k_splits = np.array_split(data, k)\n",
    "    rmse_list = []\n",
    "    for i in range(k):\n",
    "        # Get train/validation split\n",
    "        validate = k_splits[i]\n",
    "        train = np.concatenate([k_splits[j] for j in range(k) if j != i])\n",
    "        \n",
    "        y_train = train[:, 0]\n",
    "        x_train = train[:, 1:]\n",
    "        \n",
    "        y_val = validate[:,0]\n",
    "        x_val = validate[:, 1:]\n",
    "        # Train the model on the training data\n",
    "        if penalty == \"OLS\":\n",
    "            # ols beta estimates\n",
    "            betas = np.matmul(np.matmul(np.matmul(x_train.getT(), x_train).getI(), x_train.getT()), y_train)\n",
    "        elif penalty == \"Ridge\":\n",
    "            # make diagonal matrix for lambda\n",
    "            lambda_mat = np.diag(np.full(x_train.shape[1], lam))\n",
    "            # ols beta estimates\n",
    "            betas = np.matmul(np.matmul((np.matmul(x_train.getT(), x_train)+lambda_mat).getI(), x_train.getT()), y_train)\n",
    "        else:\n",
    "            raise ValueError(\"not a recognizable penalty\")\n",
    "        \n",
    "        # Make predictions on validation data\n",
    "        y_pred = np.matmul(x_val, betas)\n",
    "        rmse = np.sqrt(mean_squared_error(y_val, y_pred))\n",
    "        rmse_list.append(rmse)\n",
    "    \n",
    "    return rmse_list"
   ]
  },
  {
   "cell_type": "code",
   "execution_count": 79,
   "id": "3dc11bb6-c9ff-4b03-947c-c695ebd816e7",
   "metadata": {},
   "outputs": [],
   "source": [
    "test_mat = np.concatenate((response_mat, x_mat), 1)"
   ]
  },
  {
   "cell_type": "code",
   "execution_count": 85,
   "id": "765b63f8-04c8-4afd-847f-22211f589015",
   "metadata": {},
   "outputs": [
    {
     "data": {
      "text/plain": [
       "matrix([[ 0.57202384,  1.        , -0.21971903, ...,  0.        ,\n",
       "          0.        ,  0.        ],\n",
       "        [ 0.38138107,  1.        , -0.33437472, ...,  0.        ,\n",
       "          0.        ,  0.        ],\n",
       "        [ 0.49641699,  1.        , -0.47769432, ...,  0.        ,\n",
       "          0.        ,  0.        ],\n",
       "        ...,\n",
       "        [ 0.61455963,  1.        ,  1.32813272, ...,  0.        ,\n",
       "          0.        ,  1.        ],\n",
       "        [ 1.89978572,  1.        ,  0.84084606, ...,  0.        ,\n",
       "          0.        ,  1.        ],\n",
       "        [ 1.63848454,  1.        , -0.73566961, ...,  0.        ,\n",
       "          0.        ,  1.        ]])"
      ]
     },
     "execution_count": 85,
     "metadata": {},
     "output_type": "execute_result"
    }
   ],
   "source": [
    "np.concatenate([response_mat, x_mat], 1)"
   ]
  },
  {
   "cell_type": "code",
   "execution_count": 109,
   "id": "7f157916-835a-4524-a791-5578d374484e",
   "metadata": {},
   "outputs": [
    {
     "data": {
      "text/plain": [
       "[0.7160186168814401,\n",
       " 0.7275553905157041,\n",
       " 0.7270133705980223,\n",
       " 0.7536252317151977,\n",
       " 0.7337816721797913]"
      ]
     },
     "execution_count": 109,
     "metadata": {},
     "output_type": "execute_result"
    }
   ],
   "source": [
    "run_cross_val(test_mat, 5, 'Ridge', 10)"
   ]
  },
  {
   "cell_type": "code",
   "execution_count": 102,
   "id": "fe436911-9391-491a-83e6-457d7fded853",
   "metadata": {},
   "outputs": [],
   "source": [
    "lambda_mat = np.diag(np.full(x_mat.shape[1], 100))"
   ]
  },
  {
   "cell_type": "code",
   "execution_count": 98,
   "id": "117e5bc9-972d-4a39-89f4-af1c64fd5a15",
   "metadata": {},
   "outputs": [
    {
     "data": {
      "text/plain": [
       "(69443, 69443)"
      ]
     },
     "execution_count": 98,
     "metadata": {},
     "output_type": "execute_result"
    }
   ],
   "source": [
    "lambda_mat.shape"
   ]
  },
  {
   "cell_type": "code",
   "execution_count": 101,
   "id": "53152f93-7bc6-4526-a282-dedd7b890a54",
   "metadata": {},
   "outputs": [
    {
     "data": {
      "text/plain": [
       "(34, 34)"
      ]
     },
     "execution_count": 101,
     "metadata": {},
     "output_type": "execute_result"
    }
   ],
   "source": [
    "np.matmul(x_mat.getT(), x_mat).shape"
   ]
  },
  {
   "cell_type": "code",
   "execution_count": 103,
   "id": "9161102e-0f84-4888-98d0-8aa8a3e926c5",
   "metadata": {},
   "outputs": [
    {
     "data": {
      "text/plain": [
       "matrix([[ 0.64775464],\n",
       "        [-0.04290106],\n",
       "        [ 0.01927644],\n",
       "        [-0.09924198],\n",
       "        [-0.04758646],\n",
       "        [-0.023776  ],\n",
       "        [-0.04547431],\n",
       "        [ 0.03642179],\n",
       "        [ 0.04857816],\n",
       "        [ 0.00189941],\n",
       "        [-0.05567671],\n",
       "        [-0.06550173],\n",
       "        [-0.0374891 ],\n",
       "        [ 0.18543404],\n",
       "        [ 0.01484429],\n",
       "        [ 0.06237086],\n",
       "        [ 0.15057238],\n",
       "        [ 0.17635584],\n",
       "        [-0.25494621],\n",
       "        [-0.8380298 ],\n",
       "        [-0.09046822],\n",
       "        [-0.04234372],\n",
       "        [ 0.02486694],\n",
       "        [ 0.09170406],\n",
       "        [ 0.06740273],\n",
       "        [ 0.10235093],\n",
       "        [ 0.18212432],\n",
       "        [ 0.17199797],\n",
       "        [ 0.13802218],\n",
       "        [ 0.1437487 ],\n",
       "        [ 0.10037995],\n",
       "        [ 0.20089171],\n",
       "        [ 0.09503907],\n",
       "        [ 0.20614273]])"
      ]
     },
     "execution_count": 103,
     "metadata": {},
     "output_type": "execute_result"
    }
   ],
   "source": [
    "np.matmul(np.matmul((np.matmul(x_mat.getT(), x_mat)+lambda_mat).getI(), x_mat.getT()), response_mat)"
   ]
  }
 ],
 "metadata": {
  "kernelspec": {
   "display_name": "Python 3",
   "language": "python",
   "name": "python3"
  },
  "language_info": {
   "codemirror_mode": {
    "name": "ipython",
    "version": 3
   },
   "file_extension": ".py",
   "mimetype": "text/x-python",
   "name": "python",
   "nbconvert_exporter": "python",
   "pygments_lexer": "ipython3",
   "version": "3.8.8"
  }
 },
 "nbformat": 4,
 "nbformat_minor": 5
}
