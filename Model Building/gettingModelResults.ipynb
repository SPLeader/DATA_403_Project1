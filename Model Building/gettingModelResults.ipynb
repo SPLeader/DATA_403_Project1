{
 "cells": [
  {
   "cell_type": "code",
   "execution_count": 115,
   "id": "2b6d55f9-cffb-4ec9-9a3d-191c6c17091d",
   "metadata": {},
   "outputs": [],
   "source": [
    "import pandas as pd\n",
    "from sklearn.preprocessing import StandardScaler\n",
    "from sklearn.preprocessing import OneHotEncoder\n",
    "from sklearn.compose import make_column_transformer\n",
    "import numpy as np\n",
    "from sklearn.model_selection import train_test_split\n",
    "from sklearn.metrics import mean_squared_error\n",
    "from sklearn.metrics import r2_score\n",
    "from sklearn.metrics import accuracy_score"
   ]
  },
  {
   "cell_type": "code",
   "execution_count": 135,
   "id": "561808e0-5368-4be9-91c6-48cca7fc56ac",
   "metadata": {},
   "outputs": [],
   "source": [
    "def drop_vars(df, non_targets):\n",
    "    \n",
    "    columns_to_drop = [\n",
    "        # Those we want to remove for all analyses\n",
    "        'Date',\n",
    "        # Those we want to remove for the interpretive model\n",
    "        'Vodka Sold PC',\n",
    "        'Gin Sold PC', 'Rum Sold PC', 'Whiskey Sold PC', 'Tequila Sold PC', 'Other Alc Sold PC',\n",
    "        'Gin Sold PROP','Rum Sold PROP','Whiskey Sold PROP','Tequila Sold PROP','Other Alc Sold PROP','Vodka Sold PROP',\n",
    "\n",
    "        # Remove targets\n",
    "        #'Sales Volume PC',\n",
    "        #'Volume Sold PC',\n",
    "        #'Bottles Sold PC',\n",
    "\n",
    "        # Remove linearly dependent columns\n",
    "        'is_weekend', 'Young Prop', 'LowIncome Prop', 'Other Prop']\n",
    "    columns_to_drop = columns_to_drop+non_targets\n",
    "\n",
    "    df = df.drop(columns_to_drop, axis = 1)\n",
    "    \n",
    "    return df\n",
    "\n",
    "\n",
    "def make_dummies(df):\n",
    "\n",
    "    # get dummies for year \n",
    "    year_dummies = pd.get_dummies(df['Year'], drop_first = True)\n",
    "    year_dummies.columns = [\"year_\" + str(column) for column in year_dummies.columns]\n",
    "    df = df.drop(['Year'], axis = 1)\n",
    "\n",
    "    # get dummies for month\n",
    "    month_dummies = pd.get_dummies(df['Month'], drop_first = True)\n",
    "    month_dummies.columns = [\"month_\" + str(column) for column in month_dummies.columns]\n",
    "    df = df.drop(['Month'], axis = 1)\n",
    "    \n",
    "    # get dummies for county\n",
    "    county_dummies = pd.get_dummies(df['County'], drop_first = True)\n",
    "    df = df.drop(['County'], axis = 1)\n",
    "    \n",
    "    dow_dummies = pd.get_dummies(df['DOW'], drop_first = True)\n",
    "    df = df.drop(['DOW'], axis = 1)\n",
    "\n",
    "    df = pd.concat([df, year_dummies, month_dummies, county_dummies, dow_dummies], axis = 1)\n",
    "    \n",
    "    return df\n",
    "\n",
    "\n",
    "def get_intermediate_matrix(df, target):\n",
    "    \n",
    "    target_var = df[target]\n",
    "    \n",
    "    df = df.drop([target], axis = 1)\n",
    "    \n",
    "    numeric_columns = ['Poverty ', 'Population', 'White Prop', 'Black Prop',\n",
    "                       'Native American Prop', 'Asian Prop', 'Pacific Prop', 'Two+ Prop',\n",
    "                       'HighIncome Prop', 'MidIncome Prop', 'Middle-Old Prop','Middle-Young Prop', 'Old Prop']\n",
    "    \n",
    "    non_numeric_columns = [column for column in df.columns if column not in numeric_columns]\n",
    "    \n",
    "    # standard scale non categorical columns\n",
    "    ct = make_column_transformer(\n",
    "            (StandardScaler(), numeric_columns)\n",
    "            , remainder='passthrough')\n",
    "\n",
    "    ct_array = ct.fit_transform(df)\n",
    "\n",
    "    column_order = ['Intercept'] + numeric_columns + non_numeric_columns\n",
    "\n",
    "    x_mat = np.asmatrix(ct_array) \n",
    "    intercept_array = np.ones((x_mat.shape[0], 1))\n",
    "    x_mat = np.concatenate((intercept_array, x_mat),1)\n",
    "    response_mat = np.asmatrix(target_var).getT()\n",
    "    \n",
    "    matrix_without_target = x_mat\n",
    "    \n",
    "    matrix_with_target = np.concatenate((response_mat, x_mat), 1)\n",
    "    \n",
    "    return matrix_with_target, matrix_without_target, response_mat, column_order\n",
    "\n",
    "\n",
    "def get_betas(x_mat, response_mat):\n",
    "    \n",
    "    # ols beta estimates\n",
    "    ols_betas = np.matmul(np.matmul(np.matmul(x_mat.getT(), x_mat).getI(), x_mat.getT()), response_mat)\n",
    "    \n",
    "    return ols_betas\n",
    "\n",
    "\n",
    "def show_beta_summary(betas, column_order):\n",
    "    \n",
    "    return pd.DataFrame({'Variable' : column_order, 'Coefficient' : betas.A1}).sort_values(by = 'Coefficient', ascending = False)"
   ]
  },
  {
   "cell_type": "code",
   "execution_count": 106,
   "id": "f68ba626-9ceb-4a71-bccf-6ea012630b53",
   "metadata": {},
   "outputs": [],
   "source": [
    "def run_cross_val(data, k, penalty=\"OLS\", lam=100):\n",
    "    # shuffle matrix\n",
    "    np.random.shuffle(data)\n",
    "    k_splits = np.array_split(data, k)\n",
    "    adj_r2_list = []\n",
    "    for i in range(k):\n",
    "        # Get train/validation split\n",
    "        validate = k_splits[i]\n",
    "        train = np.concatenate([k_splits[j] for j in range(k) if j != i])\n",
    "        \n",
    "        y_train = train[:, 0]\n",
    "        x_train = train[:, 1:]\n",
    "        \n",
    "        y_val = validate[:,0]\n",
    "        x_val = validate[:, 1:]\n",
    "        # Train the model on the training data\n",
    "        if penalty == \"OLS\":\n",
    "            # ols beta estimates\n",
    "            betas = np.matmul(np.matmul(np.matmul(x_train.getT(), x_train).getI(), x_train.getT()), y_train)\n",
    "        elif penalty == \"Ridge\":\n",
    "            # make diagonal matrix for lambda\n",
    "            lambda_mat = np.diag(np.full(x_train.shape[1], lam))\n",
    "            # ols beta estimates\n",
    "            betas = np.matmul(np.matmul((np.matmul(x_train.getT(), x_train)+lambda_mat).getI(), x_train.getT()), y_train)\n",
    "        else:\n",
    "            raise ValueError(\"not a recognizable penalty\")\n",
    "        \n",
    "        # Make predictions on validation data\n",
    "        y_pred = np.matmul(x_val, betas)\n",
    "        # rmse = np.sqrt(mean_squared_error(y_val, y_pred))\n",
    "        r2 = r2_score(y_val, y_pred)\n",
    "        adj_r2 = 1-(1-r2)*(x_train.shape[0]-1)/(x_train.shape[0]-x_train.shape[1])\n",
    "        adj_r2_list.append(adj_r2)\n",
    "    \n",
    "    return adj_r2_list"
   ]
  },
  {
   "cell_type": "code",
   "execution_count": 141,
   "id": "a6299383-a513-43e9-bd1d-fcc1de680ed3",
   "metadata": {},
   "outputs": [],
   "source": [
    "def roc_df(matrix, lambda_list, k):\n",
    "    df = {'Lambda': [], 'Avg. Adj-R2': []}\n",
    "    for l in lambda_list:\n",
    "        # print('Working on lambda {}'.format(l))\n",
    "        adj_r2 = np.mean(run_cross_val(matrix, k, \"Ridge\"))\n",
    "        df['Lambda'].append(l)\n",
    "        df['Avg. Adj-R2'].append(adj_r2)\n",
    "    return pd.DataFrame(df)"
   ]
  },
  {
   "cell_type": "code",
   "execution_count": 88,
   "id": "a670a0d3-3414-459d-84c5-a5b73d903d82",
   "metadata": {},
   "outputs": [],
   "source": [
    "df = pd.read_csv(\"harlech_data_proportions.csv\", low_memory = False)"
   ]
  },
  {
   "cell_type": "markdown",
   "id": "0c33d5b1-4b60-421b-bd98-b4009f890d5c",
   "metadata": {},
   "source": [
    "# Predictive Model"
   ]
  },
  {
   "cell_type": "markdown",
   "id": "83cbfaee-60bf-4286-9564-77343adbdf2e",
   "metadata": {},
   "source": [
    "## Sales Volume PC"
   ]
  },
  {
   "cell_type": "code",
   "execution_count": 183,
   "id": "fbddd979-9a19-4d5b-8ef1-cdd74f84ecfb",
   "metadata": {},
   "outputs": [],
   "source": [
    "df_sv = drop_vars(df, ['Volume Sold PC', 'Bottles Sold PC'])\n",
    "df_sv = make_dummies(df_sv)\n",
    "matrix_with_target, matrix_without_target, response_mat, column_order = get_intermediate_matrix(df_sv, 'Sales Volume PC')"
   ]
  },
  {
   "cell_type": "markdown",
   "id": "b545e5dc-4f6a-4ea2-b114-797973426168",
   "metadata": {},
   "source": [
    "### OLS"
   ]
  },
  {
   "cell_type": "code",
   "execution_count": 184,
   "id": "834cb535-fdc3-4483-a6a2-dec008f19872",
   "metadata": {},
   "outputs": [
    {
     "data": {
      "text/plain": [
       "0.32726144382846334"
      ]
     },
     "execution_count": 184,
     "metadata": {},
     "output_type": "execute_result"
    }
   ],
   "source": [
    "np.mean(run_cross_val(matrix_with_target, 5, \"OLS\"))"
   ]
  },
  {
   "cell_type": "markdown",
   "id": "584297e2-f8f0-4820-b0de-32d3cba5c620",
   "metadata": {},
   "source": [
    "### Ridge"
   ]
  },
  {
   "cell_type": "code",
   "execution_count": 185,
   "id": "9d2ad191-045f-4839-acf3-817432573dec",
   "metadata": {},
   "outputs": [
    {
     "data": {
      "text/plain": [
       "0.31720795499382853"
      ]
     },
     "execution_count": 185,
     "metadata": {},
     "output_type": "execute_result"
    }
   ],
   "source": [
    "np.mean(run_cross_val(matrix_with_target, 5, \"Ridge\", 100))"
   ]
  },
  {
   "cell_type": "code",
   "execution_count": 186,
   "id": "6b4bef0e-5627-4f96-a688-615478233af9",
   "metadata": {},
   "outputs": [
    {
     "data": {
      "text/plain": [
       "<AxesSubplot:xlabel='Lambda'>"
      ]
     },
     "execution_count": 186,
     "metadata": {},
     "output_type": "execute_result"
    },
    {
     "data": {
      "image/png": "[encoded data removed]",
      "text/plain": [
       "<Figure size 432x288 with 1 Axes>"
      ]
     },
     "metadata": {
      "needs_background": "light"
     },
     "output_type": "display_data"
    }
   ],
   "source": [
    "range_test = np.arange(1,5000,50)\n",
    "roc = roc_df(matrix_with_target, range_test, 2)\n",
    "roc.plot.line(x='Lambda', y='Avg. Adj-R2')"
   ]
  },
  {
   "cell_type": "markdown",
   "id": "e1d27ab4-d38f-492a-a86a-9d3dc0c2cbb6",
   "metadata": {},
   "source": [
    "## Volume Sales PC"
   ]
  },
  {
   "cell_type": "code",
   "execution_count": 174,
   "id": "869a3bbf-12f6-44e3-8328-5f8234ba67c9",
   "metadata": {},
   "outputs": [],
   "source": [
    "df_vs = drop_vars(df, ['Sales Volume PC', 'Bottles Sold PC'])\n",
    "df_vs = make_dummies(df_vs)\n",
    "matrix_with_target, matrix_without_target, response_mat, column_order = get_intermediate_matrix(df_vs, 'Volume Sold PC')"
   ]
  },
  {
   "cell_type": "markdown",
   "id": "cac6d81e-d8b3-4eb6-8de8-9298ed47f81e",
   "metadata": {},
   "source": [
    "### OLS"
   ]
  },
  {
   "cell_type": "code",
   "execution_count": 175,
   "id": "ce289a03-feaf-4745-b6e9-67bb0bc569de",
   "metadata": {},
   "outputs": [
    {
     "data": {
      "text/plain": [
       "0.3336969262187053"
      ]
     },
     "execution_count": 175,
     "metadata": {},
     "output_type": "execute_result"
    }
   ],
   "source": [
    "np.mean(run_cross_val(matrix_with_target, 5, \"OLS\"))"
   ]
  },
  {
   "cell_type": "markdown",
   "id": "aeab5312-a0c4-41b3-8ab0-9f85dd95c878",
   "metadata": {},
   "source": [
    "### Ridge"
   ]
  },
  {
   "cell_type": "code",
   "execution_count": 176,
   "id": "706bdd4c-5f4c-403b-9cab-b5b9f7794760",
   "metadata": {},
   "outputs": [
    {
     "data": {
      "text/plain": [
       "0.3238541070715466"
      ]
     },
     "execution_count": 176,
     "metadata": {},
     "output_type": "execute_result"
    }
   ],
   "source": [
    "np.mean(run_cross_val(matrix_with_target, 5, \"Ridge\", 100))"
   ]
  },
  {
   "cell_type": "markdown",
   "id": "25d8abb4-cd48-46aa-bc79-9454dddf29d9",
   "metadata": {},
   "source": [
    "## Bottle Sales PC"
   ]
  },
  {
   "cell_type": "code",
   "execution_count": 178,
   "id": "2746f0ec-3eed-4f78-a142-4e1ba926f987",
   "metadata": {},
   "outputs": [],
   "source": [
    "df_bs = drop_vars(df, ['Sales Volume PC', 'Volume Sold PC'])\n",
    "df_bs = make_dummies(df_bs)\n",
    "matrix_with_target, matrix_without_target, response_mat, column_order = get_intermediate_matrix(df_bs, 'Bottles Sold PC')"
   ]
  },
  {
   "cell_type": "markdown",
   "id": "1abe7007-1446-49c4-b579-705da7b69906",
   "metadata": {},
   "source": [
    "### OLS"
   ]
  },
  {
   "cell_type": "code",
   "execution_count": 179,
   "id": "f06f3f09-1e89-4947-a4dd-32fafc948aa6",
   "metadata": {},
   "outputs": [
    {
     "data": {
      "text/plain": [
       "0.3229420582867065"
      ]
     },
     "execution_count": 179,
     "metadata": {},
     "output_type": "execute_result"
    }
   ],
   "source": [
    "np.mean(run_cross_val(matrix_with_target, 5, \"OLS\"))"
   ]
  },
  {
   "cell_type": "markdown",
   "id": "1c56cbe6-f9b9-4668-87c8-67bbad3df283",
   "metadata": {},
   "source": [
    "### Ridge"
   ]
  },
  {
   "cell_type": "code",
   "execution_count": 180,
   "id": "4cba89d5-6291-489e-a21a-1fa9be3d50a8",
   "metadata": {},
   "outputs": [
    {
     "data": {
      "text/plain": [
       "0.3137914435308387"
      ]
     },
     "execution_count": 180,
     "metadata": {},
     "output_type": "execute_result"
    }
   ],
   "source": [
    "np.mean(run_cross_val(matrix_with_target, 5, \"Ridge\", 100))"
   ]
  },
  {
   "cell_type": "code",
   "execution_count": 181,
   "id": "59959191-bb00-4d3d-8ff2-6f9072b3cf04",
   "metadata": {},
   "outputs": [],
   "source": [
    "betas = get_betas(matrix_without_target,response_mat)"
   ]
  },
  {
   "cell_type": "code",
   "execution_count": 182,
   "id": "2f3d1e2e-e4dd-4849-b27b-647d593a370b",
   "metadata": {},
   "outputs": [
    {
     "data": {
      "text/html": [
       "<div>\n",
       "<style scoped>\n",
       "    .dataframe tbody tr th:only-of-type {\n",
       "        vertical-align: middle;\n",
       "    }\n",
       "\n",
       "    .dataframe tbody tr th {\n",
       "        vertical-align: top;\n",
       "    }\n",
       "\n",
       "    .dataframe thead th {\n",
       "        text-align: right;\n",
       "    }\n",
       "</style>\n",
       "<table border=\"1\" class=\"dataframe\">\n",
       "  <thead>\n",
       "    <tr style=\"text-align: right;\">\n",
       "      <th></th>\n",
       "      <th>Variable</th>\n",
       "      <th>Coefficient</th>\n",
       "    </tr>\n",
       "  </thead>\n",
       "  <tbody>\n",
       "    <tr>\n",
       "      <th>61</th>\n",
       "      <td>DICKINSON</td>\n",
       "      <td>0.216621</td>\n",
       "    </tr>\n",
       "    <tr>\n",
       "      <th>48</th>\n",
       "      <td>CERRO GORDO</td>\n",
       "      <td>0.078870</td>\n",
       "    </tr>\n",
       "    <tr>\n",
       "      <th>108</th>\n",
       "      <td>POLK</td>\n",
       "      <td>0.070638</td>\n",
       "    </tr>\n",
       "    <tr>\n",
       "      <th>60</th>\n",
       "      <td>DES MOINES</td>\n",
       "      <td>0.057460</td>\n",
       "    </tr>\n",
       "    <tr>\n",
       "      <th>104</th>\n",
       "      <td>PAGE</td>\n",
       "      <td>0.051227</td>\n",
       "    </tr>\n",
       "    <tr>\n",
       "      <th>...</th>\n",
       "      <td>...</td>\n",
       "      <td>...</td>\n",
       "    </tr>\n",
       "    <tr>\n",
       "      <th>118</th>\n",
       "      <td>TAYLOR</td>\n",
       "      <td>-0.031930</td>\n",
       "    </tr>\n",
       "    <tr>\n",
       "      <th>69</th>\n",
       "      <td>GRUNDY</td>\n",
       "      <td>-0.035195</td>\n",
       "    </tr>\n",
       "    <tr>\n",
       "      <th>43</th>\n",
       "      <td>BUTLER</td>\n",
       "      <td>-0.039235</td>\n",
       "    </tr>\n",
       "    <tr>\n",
       "      <th>18</th>\n",
       "      <td>year_2017</td>\n",
       "      <td>-0.043183</td>\n",
       "    </tr>\n",
       "    <tr>\n",
       "      <th>133</th>\n",
       "      <td>Sunday</td>\n",
       "      <td>-0.057703</td>\n",
       "    </tr>\n",
       "  </tbody>\n",
       "</table>\n",
       "<p>137 rows × 2 columns</p>\n",
       "</div>"
      ],
      "text/plain": [
       "        Variable  Coefficient\n",
       "61     DICKINSON     0.216621\n",
       "48   CERRO GORDO     0.078870\n",
       "108         POLK     0.070638\n",
       "60    DES MOINES     0.057460\n",
       "104         PAGE     0.051227\n",
       "..           ...          ...\n",
       "118       TAYLOR    -0.031930\n",
       "69        GRUNDY    -0.035195\n",
       "43        BUTLER    -0.039235\n",
       "18     year_2017    -0.043183\n",
       "133       Sunday    -0.057703\n",
       "\n",
       "[137 rows x 2 columns]"
      ]
     },
     "execution_count": 182,
     "metadata": {},
     "output_type": "execute_result"
    }
   ],
   "source": [
    "show_beta_summary(betas, column_order)"
   ]
  },
  {
   "cell_type": "markdown",
   "id": "009060d7-470d-4cdf-9841-aea52119b0d6",
   "metadata": {},
   "source": [
    "# Interpretive Model"
   ]
  },
  {
   "cell_type": "code",
   "execution_count": 152,
   "id": "9450cd4f-6833-4565-ac51-6ed37003d3f0",
   "metadata": {},
   "outputs": [],
   "source": [
    "def make_dummies_int(df):\n",
    "\n",
    "    # get dummies for month\n",
    "    month_dummies = pd.get_dummies(df['Month'], drop_first = True)\n",
    "    month_dummies.columns = [\"month_\" + str(column) for column in month_dummies.columns]\n",
    "    df = df.drop(['Month'], axis = 1)\n",
    "    \n",
    "    # get dummies for county\n",
    "    county_dummies = pd.get_dummies(df['County'], drop_first = True)\n",
    "    df = df.drop(['County'], axis = 1)\n",
    "    \n",
    "    dow_dummies = pd.get_dummies(df['DOW'], drop_first = True)\n",
    "    df = df.drop(['DOW'], axis = 1)\n",
    "\n",
    "    df = pd.concat([df, month_dummies, county_dummies, dow_dummies], axis = 1)\n",
    "    \n",
    "    return df\n",
    "\n",
    "\n",
    "def get_matrix_int(df, target):\n",
    "    \n",
    "    target_var = df[target]\n",
    "    \n",
    "    df = df.drop([target], axis = 1)\n",
    "    \n",
    "    non_numeric_columns = [column for column in df.columns]\n",
    "\n",
    "    column_order = ['Intercept'] + non_numeric_columns\n",
    "\n",
    "    x_mat = np.asmatrix(df) \n",
    "    intercept_array = np.ones((x_mat.shape[0], 1))\n",
    "    x_mat = np.concatenate((intercept_array, x_mat),1)\n",
    "    response_mat = np.asmatrix(target_var).getT()\n",
    "    \n",
    "    matrix_without_target = x_mat\n",
    "    \n",
    "    matrix_with_target = np.concatenate((response_mat, x_mat), 1)\n",
    "    \n",
    "    return matrix_with_target, matrix_without_target, response_mat, column_order"
   ]
  },
  {
   "cell_type": "markdown",
   "id": "addf280f-896d-4635-a3f3-fbad8f4cbb2c",
   "metadata": {},
   "source": [
    "## Sales Volume PC"
   ]
  },
  {
   "cell_type": "code",
   "execution_count": 165,
   "id": "42c7cbe9-580e-48c1-82c2-108029070682",
   "metadata": {},
   "outputs": [],
   "source": [
    "int_df_sv = df[['Sales Volume PC', 'Month', 'County', 'DOW']]\n",
    "int_df_sv = make_dummies_int(int_df_sv)\n",
    "matrix_with_target, matrix_without_target, response_mat, column_order = get_matrix_int(int_df_sv, 'Sales Volume PC')"
   ]
  },
  {
   "cell_type": "markdown",
   "id": "19f6ad91-7e3c-4c64-b5a2-df2e447b5535",
   "metadata": {},
   "source": [
    "### OLS"
   ]
  },
  {
   "cell_type": "code",
   "execution_count": 166,
   "id": "cf220a23-b219-412c-9d80-67ca1c0a671b",
   "metadata": {},
   "outputs": [
    {
     "data": {
      "text/plain": [
       "0.26313715973492613"
      ]
     },
     "execution_count": 166,
     "metadata": {},
     "output_type": "execute_result"
    }
   ],
   "source": [
    "np.mean(run_cross_val(matrix_with_target, 5, \"OLS\"))"
   ]
  },
  {
   "cell_type": "code",
   "execution_count": 167,
   "id": "da70a3d3-4c4a-4bc8-adfd-61230869f037",
   "metadata": {},
   "outputs": [
    {
     "data": {
      "text/html": [
       "<div>\n",
       "<style scoped>\n",
       "    .dataframe tbody tr th:only-of-type {\n",
       "        vertical-align: middle;\n",
       "    }\n",
       "\n",
       "    .dataframe tbody tr th {\n",
       "        vertical-align: top;\n",
       "    }\n",
       "\n",
       "    .dataframe thead th {\n",
       "        text-align: right;\n",
       "    }\n",
       "</style>\n",
       "<table border=\"1\" class=\"dataframe\">\n",
       "  <thead>\n",
       "    <tr style=\"text-align: right;\">\n",
       "      <th></th>\n",
       "      <th>Variable</th>\n",
       "      <th>Coefficient</th>\n",
       "    </tr>\n",
       "  </thead>\n",
       "  <tbody>\n",
       "    <tr>\n",
       "      <th>40</th>\n",
       "      <td>DICKINSON</td>\n",
       "      <td>3.108836</td>\n",
       "    </tr>\n",
       "    <tr>\n",
       "      <th>27</th>\n",
       "      <td>CERRO GORDO</td>\n",
       "      <td>0.957124</td>\n",
       "    </tr>\n",
       "    <tr>\n",
       "      <th>24</th>\n",
       "      <td>CARROLL</td>\n",
       "      <td>0.826485</td>\n",
       "    </tr>\n",
       "    <tr>\n",
       "      <th>84</th>\n",
       "      <td>PALO ALTO</td>\n",
       "      <td>0.722314</td>\n",
       "    </tr>\n",
       "    <tr>\n",
       "      <th>25</th>\n",
       "      <td>CASS</td>\n",
       "      <td>0.707504</td>\n",
       "    </tr>\n",
       "    <tr>\n",
       "      <th>...</th>\n",
       "      <td>...</td>\n",
       "      <td>...</td>\n",
       "    </tr>\n",
       "    <tr>\n",
       "      <th>48</th>\n",
       "      <td>GRUNDY</td>\n",
       "      <td>-0.379712</td>\n",
       "    </tr>\n",
       "    <tr>\n",
       "      <th>46</th>\n",
       "      <td>FREMONT</td>\n",
       "      <td>-0.405852</td>\n",
       "    </tr>\n",
       "    <tr>\n",
       "      <th>36</th>\n",
       "      <td>DAVIS</td>\n",
       "      <td>-0.412522</td>\n",
       "    </tr>\n",
       "    <tr>\n",
       "      <th>22</th>\n",
       "      <td>BUTLER</td>\n",
       "      <td>-0.453955</td>\n",
       "    </tr>\n",
       "    <tr>\n",
       "      <th>112</th>\n",
       "      <td>Sunday</td>\n",
       "      <td>-0.621269</td>\n",
       "    </tr>\n",
       "  </tbody>\n",
       "</table>\n",
       "<p>116 rows × 2 columns</p>\n",
       "</div>"
      ],
      "text/plain": [
       "        Variable  Coefficient\n",
       "40     DICKINSON     3.108836\n",
       "27   CERRO GORDO     0.957124\n",
       "24       CARROLL     0.826485\n",
       "84     PALO ALTO     0.722314\n",
       "25          CASS     0.707504\n",
       "..           ...          ...\n",
       "48        GRUNDY    -0.379712\n",
       "46       FREMONT    -0.405852\n",
       "36         DAVIS    -0.412522\n",
       "22        BUTLER    -0.453955\n",
       "112       Sunday    -0.621269\n",
       "\n",
       "[116 rows x 2 columns]"
      ]
     },
     "execution_count": 167,
     "metadata": {},
     "output_type": "execute_result"
    }
   ],
   "source": [
    "betas = get_betas(matrix_without_target,response_mat)\n",
    "show_beta_summary(betas, column_order)"
   ]
  },
  {
   "cell_type": "markdown",
   "id": "5f23ef44-7ab3-4776-9524-56f47e97b669",
   "metadata": {},
   "source": [
    "## Volume Sales PC"
   ]
  },
  {
   "cell_type": "code",
   "execution_count": 168,
   "id": "cf8f1b70-de5a-4cf6-9c74-ea2ea6f97f7b",
   "metadata": {},
   "outputs": [],
   "source": [
    "int_df_vs = df[['Volume Sold PC', 'Month', 'County', 'DOW']]\n",
    "int_df_vs = make_dummies_int(int_df_vs)\n",
    "matrix_with_target, matrix_without_target, response_mat, column_order = get_matrix_int(int_df_vs, 'Volume Sold PC')"
   ]
  },
  {
   "cell_type": "markdown",
   "id": "1a88cf5d-a9e9-47af-bbb8-8b06da62879d",
   "metadata": {},
   "source": [
    "### OLS"
   ]
  },
  {
   "cell_type": "code",
   "execution_count": 169,
   "id": "aa060209-0d68-4a53-8bea-3e77225010d3",
   "metadata": {},
   "outputs": [
    {
     "data": {
      "text/plain": [
       "0.2779441812212763"
      ]
     },
     "execution_count": 169,
     "metadata": {},
     "output_type": "execute_result"
    }
   ],
   "source": [
    "np.mean(run_cross_val(matrix_with_target, 5, \"OLS\"))"
   ]
  },
  {
   "cell_type": "code",
   "execution_count": 170,
   "id": "64306286-252f-4f68-a785-bae92497e999",
   "metadata": {},
   "outputs": [
    {
     "data": {
      "text/html": [
       "<div>\n",
       "<style scoped>\n",
       "    .dataframe tbody tr th:only-of-type {\n",
       "        vertical-align: middle;\n",
       "    }\n",
       "\n",
       "    .dataframe tbody tr th {\n",
       "        vertical-align: top;\n",
       "    }\n",
       "\n",
       "    .dataframe thead th {\n",
       "        text-align: right;\n",
       "    }\n",
       "</style>\n",
       "<table border=\"1\" class=\"dataframe\">\n",
       "  <thead>\n",
       "    <tr style=\"text-align: right;\">\n",
       "      <th></th>\n",
       "      <th>Variable</th>\n",
       "      <th>Coefficient</th>\n",
       "    </tr>\n",
       "  </thead>\n",
       "  <tbody>\n",
       "    <tr>\n",
       "      <th>40</th>\n",
       "      <td>DICKINSON</td>\n",
       "      <td>0.219288</td>\n",
       "    </tr>\n",
       "    <tr>\n",
       "      <th>27</th>\n",
       "      <td>CERRO GORDO</td>\n",
       "      <td>0.067344</td>\n",
       "    </tr>\n",
       "    <tr>\n",
       "      <th>31</th>\n",
       "      <td>CLAY</td>\n",
       "      <td>0.056504</td>\n",
       "    </tr>\n",
       "    <tr>\n",
       "      <th>24</th>\n",
       "      <td>CARROLL</td>\n",
       "      <td>0.056287</td>\n",
       "    </tr>\n",
       "    <tr>\n",
       "      <th>84</th>\n",
       "      <td>PALO ALTO</td>\n",
       "      <td>0.056263</td>\n",
       "    </tr>\n",
       "    <tr>\n",
       "      <th>...</th>\n",
       "      <td>...</td>\n",
       "      <td>...</td>\n",
       "    </tr>\n",
       "    <tr>\n",
       "      <th>101</th>\n",
       "      <td>WARREN</td>\n",
       "      <td>-0.028188</td>\n",
       "    </tr>\n",
       "    <tr>\n",
       "      <th>36</th>\n",
       "      <td>DAVIS</td>\n",
       "      <td>-0.030456</td>\n",
       "    </tr>\n",
       "    <tr>\n",
       "      <th>46</th>\n",
       "      <td>FREMONT</td>\n",
       "      <td>-0.031903</td>\n",
       "    </tr>\n",
       "    <tr>\n",
       "      <th>22</th>\n",
       "      <td>BUTLER</td>\n",
       "      <td>-0.032982</td>\n",
       "    </tr>\n",
       "    <tr>\n",
       "      <th>112</th>\n",
       "      <td>Sunday</td>\n",
       "      <td>-0.043218</td>\n",
       "    </tr>\n",
       "  </tbody>\n",
       "</table>\n",
       "<p>116 rows × 2 columns</p>\n",
       "</div>"
      ],
      "text/plain": [
       "        Variable  Coefficient\n",
       "40     DICKINSON     0.219288\n",
       "27   CERRO GORDO     0.067344\n",
       "31          CLAY     0.056504\n",
       "24       CARROLL     0.056287\n",
       "84     PALO ALTO     0.056263\n",
       "..           ...          ...\n",
       "101       WARREN    -0.028188\n",
       "36         DAVIS    -0.030456\n",
       "46       FREMONT    -0.031903\n",
       "22        BUTLER    -0.032982\n",
       "112       Sunday    -0.043218\n",
       "\n",
       "[116 rows x 2 columns]"
      ]
     },
     "execution_count": 170,
     "metadata": {},
     "output_type": "execute_result"
    }
   ],
   "source": [
    "betas = get_betas(matrix_without_target,response_mat)\n",
    "show_beta_summary(betas, column_order)"
   ]
  },
  {
   "cell_type": "markdown",
   "id": "457e5a83-d13a-4a0a-995e-c097701ec3a5",
   "metadata": {},
   "source": [
    "## Bottle Sales PC"
   ]
  },
  {
   "cell_type": "code",
   "execution_count": 171,
   "id": "5a11404a-fded-40af-b22c-7084cb75063c",
   "metadata": {},
   "outputs": [],
   "source": [
    "int_df_bs = df[['Bottles Sold PC', 'Month', 'County', 'DOW']]\n",
    "int_df_bs = make_dummies_int(int_df_bs)\n",
    "matrix_with_target, matrix_without_target, response_mat, column_order = get_matrix_int(int_df_bs, 'Bottles Sold PC')"
   ]
  },
  {
   "cell_type": "markdown",
   "id": "711e7660-bb2c-44cb-b1bc-b44655bb95ce",
   "metadata": {},
   "source": [
    "### OLS"
   ]
  },
  {
   "cell_type": "code",
   "execution_count": 172,
   "id": "888640cd-614d-40e4-9a78-81e4e390f102",
   "metadata": {},
   "outputs": [
    {
     "data": {
      "text/plain": [
       "0.2535972797109432"
      ]
     },
     "execution_count": 172,
     "metadata": {},
     "output_type": "execute_result"
    }
   ],
   "source": [
    "np.mean(run_cross_val(matrix_with_target, 5, \"OLS\"))"
   ]
  },
  {
   "cell_type": "code",
   "execution_count": 173,
   "id": "ab38bfad-7a83-4d3f-9a93-e97b169bf047",
   "metadata": {},
   "outputs": [
    {
     "data": {
      "text/html": [
       "<div>\n",
       "<style scoped>\n",
       "    .dataframe tbody tr th:only-of-type {\n",
       "        vertical-align: middle;\n",
       "    }\n",
       "\n",
       "    .dataframe tbody tr th {\n",
       "        vertical-align: top;\n",
       "    }\n",
       "\n",
       "    .dataframe thead th {\n",
       "        text-align: right;\n",
       "    }\n",
       "</style>\n",
       "<table border=\"1\" class=\"dataframe\">\n",
       "  <thead>\n",
       "    <tr style=\"text-align: right;\">\n",
       "      <th></th>\n",
       "      <th>Variable</th>\n",
       "      <th>Coefficient</th>\n",
       "    </tr>\n",
       "  </thead>\n",
       "  <tbody>\n",
       "    <tr>\n",
       "      <th>40</th>\n",
       "      <td>DICKINSON</td>\n",
       "      <td>0.207490</td>\n",
       "    </tr>\n",
       "    <tr>\n",
       "      <th>27</th>\n",
       "      <td>CERRO GORDO</td>\n",
       "      <td>0.070350</td>\n",
       "    </tr>\n",
       "    <tr>\n",
       "      <th>0</th>\n",
       "      <td>Intercept</td>\n",
       "      <td>0.049080</td>\n",
       "    </tr>\n",
       "    <tr>\n",
       "      <th>31</th>\n",
       "      <td>CLAY</td>\n",
       "      <td>0.048344</td>\n",
       "    </tr>\n",
       "    <tr>\n",
       "      <th>84</th>\n",
       "      <td>PALO ALTO</td>\n",
       "      <td>0.045541</td>\n",
       "    </tr>\n",
       "    <tr>\n",
       "      <th>...</th>\n",
       "      <td>...</td>\n",
       "      <td>...</td>\n",
       "    </tr>\n",
       "    <tr>\n",
       "      <th>35</th>\n",
       "      <td>DALLAS</td>\n",
       "      <td>-0.029941</td>\n",
       "    </tr>\n",
       "    <tr>\n",
       "      <th>48</th>\n",
       "      <td>GRUNDY</td>\n",
       "      <td>-0.030776</td>\n",
       "    </tr>\n",
       "    <tr>\n",
       "      <th>36</th>\n",
       "      <td>DAVIS</td>\n",
       "      <td>-0.033325</td>\n",
       "    </tr>\n",
       "    <tr>\n",
       "      <th>22</th>\n",
       "      <td>BUTLER</td>\n",
       "      <td>-0.036548</td>\n",
       "    </tr>\n",
       "    <tr>\n",
       "      <th>112</th>\n",
       "      <td>Sunday</td>\n",
       "      <td>-0.048521</td>\n",
       "    </tr>\n",
       "  </tbody>\n",
       "</table>\n",
       "<p>116 rows × 2 columns</p>\n",
       "</div>"
      ],
      "text/plain": [
       "        Variable  Coefficient\n",
       "40     DICKINSON     0.207490\n",
       "27   CERRO GORDO     0.070350\n",
       "0      Intercept     0.049080\n",
       "31          CLAY     0.048344\n",
       "84     PALO ALTO     0.045541\n",
       "..           ...          ...\n",
       "35        DALLAS    -0.029941\n",
       "48        GRUNDY    -0.030776\n",
       "36         DAVIS    -0.033325\n",
       "22        BUTLER    -0.036548\n",
       "112       Sunday    -0.048521\n",
       "\n",
       "[116 rows x 2 columns]"
      ]
     },
     "execution_count": 173,
     "metadata": {},
     "output_type": "execute_result"
    }
   ],
   "source": [
    "betas = get_betas(matrix_without_target,response_mat)\n",
    "show_beta_summary(betas, column_order)"
   ]
  }
 ],
 "metadata": {
  "kernelspec": {
   "display_name": "Python 3",
   "language": "python",
   "name": "python3"
  },
  "language_info": {
   "codemirror_mode": {
    "name": "ipython",
    "version": 3
   },
   "file_extension": ".py",
   "mimetype": "text/x-python",
   "name": "python",
   "nbconvert_exporter": "python",
   "pygments_lexer": "ipython3",
   "version": "3.8.8"
  }
 },
 "nbformat": 4,
 "nbformat_minor": 5
}
