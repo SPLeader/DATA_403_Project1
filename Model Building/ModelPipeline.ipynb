{
 "cells": [
  {
   "cell_type": "code",
   "execution_count": 1,
   "id": "2b6d55f9-cffb-4ec9-9a3d-191c6c17091d",
   "metadata": {},
   "outputs": [],
   "source": [
    "import pandas as pd\n",
    "from sklearn.preprocessing import StandardScaler\n",
    "from sklearn.preprocessing import OneHotEncoder\n",
    "from sklearn.compose import make_column_transformer\n",
    "import numpy as np\n",
    "from sklearn.model_selection import train_test_split\n",
    "from sklearn.metrics import mean_squared_error\n",
    "from sklearn.metrics import r2_score\n",
    "from sklearn.metrics import accuracy_score"
   ]
  },
  {
   "cell_type": "markdown",
   "id": "e27a9e76-0bd8-4882-b6a6-e3a8173d491e",
   "metadata": {},
   "source": [
    "## Functions"
   ]
  },
  {
   "cell_type": "code",
   "execution_count": 68,
   "id": "561808e0-5368-4be9-91c6-48cca7fc56ac",
   "metadata": {},
   "outputs": [],
   "source": [
    "def drop_vars(df):\n",
    "    columns_to_drop = [\n",
    "        # Those we want to remove for all analyses\n",
    "        'Date','Vodka Sold PC','Gin Sold PC', 'Rum Sold PC', 'Whiskey Sold PC', 'Tequila Sold PC', 'Other Alc Sold PC',\n",
    "        'Gin Sold PROP','Rum Sold PROP','Whiskey Sold PROP','Tequila Sold PROP','Other Alc Sold PROP','Vodka Sold PROP',\n",
    "        # Remove linearly dependent columns\n",
    "        'is_weekend', 'Young Prop', 'LowIncome Prop', 'Other Prop',\n",
    "        # remove target columns\n",
    "        'Volume Sold PC', 'Bottles Sold PC', 'Sales Volume PC']\n",
    "    df = df.drop(columns_to_drop, axis = 1)\n",
    "    return df\n",
    "\n",
    "\n",
    "# specify what columns to make dummies for \n",
    "def make_dummies(df, columns):\n",
    "    new_cols = []\n",
    "    for col in columns:\n",
    "        if col == 'Year':\n",
    "            # get dummies for year \n",
    "            year_dummies = pd.get_dummies(df['Year'], drop_first = True)\n",
    "            year_dummies.columns = [\"year_\" + str(column) for column in year_dummies.columns]\n",
    "            new_cols.append(year_dummies)\n",
    "            df = df.drop(['Year'], axis = 1)\n",
    "        elif col == 'Month':\n",
    "            # get dummies for month\n",
    "            month_dummies = pd.get_dummies(df['Month'], drop_first = True)\n",
    "            month_dummies.columns = [\"month_\" + str(column) for column in month_dummies.columns]\n",
    "            new_cols.append(month_dummies)\n",
    "            df = df.drop(['Month'], axis = 1)\n",
    "        elif col == 'County':\n",
    "            # get dummies for county\n",
    "            county_dummies = pd.get_dummies(df['County'], drop_first = True)\n",
    "            new_cols.append(county_dummies)\n",
    "            df = df.drop(['County'], axis = 1)\n",
    "        elif col == 'DOW':\n",
    "            dow_dummies = pd.get_dummies(df['DOW'], drop_first = True)\n",
    "            new_cols.append(dow_dummies)\n",
    "            df = df.drop(['DOW'], axis = 1)\n",
    "            \n",
    "    full_set = [df]+new_cols\n",
    "    df = pd.concat(full_set, axis = 1)\n",
    "    return df\n",
    "\n",
    "\n",
    "def get_intermediate_matrix(df, response_df, numeric_columns, standardize=True):\n",
    "    \n",
    "    \n",
    "    # if there are numeric columns:\n",
    "    if numeric_columns is not None and standardize is True:\n",
    "        non_numeric_columns = [column for column in df.columns if column not in numeric_columns]\n",
    "        # standard scale non categorical columns\n",
    "        ct = make_column_transformer(\n",
    "                (StandardScaler(), numeric_columns)\n",
    "                , remainder='passthrough')\n",
    "        ct_array = ct.fit_transform(df)\n",
    "        column_order = ['Intercept'] + numeric_columns + non_numeric_columns\n",
    "        x_mat = np.asmatrix(ct_array) \n",
    "    # only categorical columns\n",
    "    else:\n",
    "        non_numeric_columns = [column for column in df.columns]\n",
    "        column_order = ['Intercept'] + non_numeric_columns\n",
    "        x_mat = np.asmatrix(df)   \n",
    "        \n",
    "    intercept_array = np.ones((x_mat.shape[0], 1))\n",
    "    x_mat = np.concatenate((intercept_array, x_mat),1)\n",
    "    response_mat = np.asmatrix(response_df).getT()\n",
    "    \n",
    "    matrix_without_target = x_mat\n",
    "    matrix_with_target = np.concatenate((response_mat, x_mat), 1)\n",
    "    return matrix_with_target, matrix_without_target, response_mat, column_order\n",
    "\n",
    "\n",
    "def get_betas(x_mat, response_mat, reg_type, lambda_val=100):\n",
    "    if reg_type == 'OLS':\n",
    "        # ols beta estimates\n",
    "        betas = np.matmul(np.matmul(np.matmul(x_mat.getT(), x_mat).getI(), x_mat.getT()), response_mat)\n",
    "    elif reg_type == 'Ridge':\n",
    "        lambda_mat = np.diag(np.full(x_mat.shape[1], lambda_val))\n",
    "        betas = np.matmul(np.matmul((np.matmul(x_mat.getT(), x_mat)+lambda_mat).getI(), x_mat.getT()), response_mat)\n",
    "    return betas\n",
    "\n",
    "\n",
    "def show_beta_summary(betas, column_order):\n",
    "    return pd.DataFrame({'Variable' : column_order, 'Coefficient' : betas.A1}).sort_values(by = 'Coefficient', ascending = False)"
   ]
  },
  {
   "cell_type": "code",
   "execution_count": 48,
   "id": "f68ba626-9ceb-4a71-bccf-6ea012630b53",
   "metadata": {},
   "outputs": [],
   "source": [
    "def run_cross_val(data, k, penalty=\"OLS\", lam=100):\n",
    "    # shuffle matrix\n",
    "    np.random.shuffle(data)\n",
    "    k_splits = np.array_split(data, k)\n",
    "    r2_list = []\n",
    "    rmse_list = []\n",
    "    metrics = {}\n",
    "    for i in range(k):\n",
    "        # Get train/validation split\n",
    "        validate = k_splits[i]\n",
    "        train = np.concatenate([k_splits[j] for j in range(k) if j != i])\n",
    "        \n",
    "        y_train = train[:, 0]\n",
    "        x_train = train[:, 1:]\n",
    "        \n",
    "        y_val = validate[:,0]\n",
    "        x_val = validate[:, 1:]\n",
    "        # Train the model on the training data\n",
    "        if penalty == \"OLS\":\n",
    "            # ols beta estimates\n",
    "            betas = np.matmul(np.matmul(np.matmul(x_train.getT(), x_train).getI(), x_train.getT()), y_train)\n",
    "        elif penalty == \"Ridge\":\n",
    "            # make diagonal matrix for lambda\n",
    "            lambda_mat = np.diag(np.full(x_train.shape[1], lam))\n",
    "            # ols beta estimates\n",
    "            betas = np.matmul(np.matmul((np.matmul(x_train.getT(), x_train)+lambda_mat).getI(), x_train.getT()), y_train)\n",
    "        else:\n",
    "            raise ValueError(\"not a recognizable penalty\")\n",
    "        \n",
    "        # Make predictions on validation data\n",
    "        y_pred = np.matmul(x_val, betas)\n",
    "        rmse = np.sqrt(mean_squared_error(y_val, y_pred))\n",
    "        rmse_list.append(rmse)\n",
    "        r2 = r2_score(y_val, y_pred)\n",
    "        r2_list.append(r2)\n",
    "        \n",
    "    metrics['avg r_2'] = np.mean(r2_list)\n",
    "    metrics['avg rmse'] = np.mean(rmse_list)\n",
    "    \n",
    "    return metrics"
   ]
  },
  {
   "cell_type": "code",
   "execution_count": 49,
   "id": "a6299383-a513-43e9-bd1d-fcc1de680ed3",
   "metadata": {},
   "outputs": [],
   "source": [
    "# prepare the df to plot RMSE/lambda\n",
    "def roc_df(matrix, lambda_list, k):\n",
    "    df = {'Lambda': [], 'Avg. RMSE': []}\n",
    "    for l in lambda_list:\n",
    "        # print('Working on lambda {}'.format(l))\n",
    "        metrics = run_cross_val(matrix, k, \"Ridge\")\n",
    "        df['Lambda'].append(l)\n",
    "        df['Avg. RMSE'].append(metrics['avg rmse'])\n",
    "    return pd.DataFrame(df)"
   ]
  },
  {
   "cell_type": "markdown",
   "id": "f0222efe-4c1a-49c1-870c-7f4f9804e007",
   "metadata": {},
   "source": [
    "## Reading in Dataset"
   ]
  },
  {
   "cell_type": "code",
   "execution_count": 23,
   "id": "a670a0d3-3414-459d-84c5-a5b73d903d82",
   "metadata": {},
   "outputs": [],
   "source": [
    "# reading in raw data\n",
    "raw_df = pd.read_csv(\"harlech_data_proportions.csv\", low_memory = False)"
   ]
  },
  {
   "cell_type": "markdown",
   "id": "7b3ce237-be9d-4d94-b0a8-15ea56a9d0d2",
   "metadata": {},
   "source": [
    "## Train Dev Test Split"
   ]
  },
  {
   "cell_type": "code",
   "execution_count": 40,
   "id": "541e2354-66e0-4afd-b61b-07ce18eaa172",
   "metadata": {},
   "outputs": [],
   "source": [
    "# pulling out response variables\n",
    "response_df = raw_df[['Volume Sold PC', 'Bottles Sold PC', 'Sales Volume PC']]\n",
    "# dropping the variables we are currently not using\n",
    "df = drop_vars(raw_df)\n",
    "# 0.1 test split \n",
    "X_train, X_test, y_train, y_test = train_test_split(df, response_df, test_size=0.1, random_state=420)"
   ]
  },
  {
   "cell_type": "markdown",
   "id": "e8bb7369-5149-498d-878b-c8474cef5037",
   "metadata": {},
   "source": [
    "# *** DO NOT TOUCH X_TEST AND Y_TEST UNTIL THE VERY END *** \n",
    "- I set a random state already, so results should be consistent"
   ]
  },
  {
   "cell_type": "code",
   "execution_count": 60,
   "id": "a304409b-f8fc-434c-9407-c7c0de653a93",
   "metadata": {},
   "outputs": [
    {
     "data": {
      "text/html": [
       "<div>\n",
       "<style scoped>\n",
       "    .dataframe tbody tr th:only-of-type {\n",
       "        vertical-align: middle;\n",
       "    }\n",
       "\n",
       "    .dataframe tbody tr th {\n",
       "        vertical-align: top;\n",
       "    }\n",
       "\n",
       "    .dataframe thead th {\n",
       "        text-align: right;\n",
       "    }\n",
       "</style>\n",
       "<table border=\"1\" class=\"dataframe\">\n",
       "  <thead>\n",
       "    <tr style=\"text-align: right;\">\n",
       "      <th></th>\n",
       "      <th>County</th>\n",
       "      <th>Year</th>\n",
       "      <th>Poverty</th>\n",
       "      <th>Population</th>\n",
       "      <th>DOW</th>\n",
       "      <th>Month</th>\n",
       "      <th>White Prop</th>\n",
       "      <th>Black Prop</th>\n",
       "      <th>Native American Prop</th>\n",
       "      <th>Asian Prop</th>\n",
       "      <th>Pacific Prop</th>\n",
       "      <th>Two+ Prop</th>\n",
       "      <th>HighIncome Prop</th>\n",
       "      <th>MidIncome Prop</th>\n",
       "      <th>Middle-Old Prop</th>\n",
       "      <th>Middle-Young Prop</th>\n",
       "      <th>Old Prop</th>\n",
       "    </tr>\n",
       "  </thead>\n",
       "  <tbody>\n",
       "    <tr>\n",
       "      <th>18073</th>\n",
       "      <td>O'BRIEN</td>\n",
       "      <td>2014</td>\n",
       "      <td>7.3</td>\n",
       "      <td>14045.0</td>\n",
       "      <td>Tuesday</td>\n",
       "      <td>2</td>\n",
       "      <td>0.947985</td>\n",
       "      <td>0.005109</td>\n",
       "      <td>0.002058</td>\n",
       "      <td>0.008445</td>\n",
       "      <td>0.000142</td>\n",
       "      <td>0.012347</td>\n",
       "      <td>0.128670</td>\n",
       "      <td>0.659689</td>\n",
       "      <td>0.295180</td>\n",
       "      <td>0.218584</td>\n",
       "      <td>0.364049</td>\n",
       "    </tr>\n",
       "    <tr>\n",
       "      <th>50415</th>\n",
       "      <td>IOWA</td>\n",
       "      <td>2018</td>\n",
       "      <td>8.4</td>\n",
       "      <td>16150.0</td>\n",
       "      <td>Monday</td>\n",
       "      <td>12</td>\n",
       "      <td>0.959950</td>\n",
       "      <td>0.005509</td>\n",
       "      <td>0.000248</td>\n",
       "      <td>0.003776</td>\n",
       "      <td>0.000000</td>\n",
       "      <td>0.027050</td>\n",
       "      <td>0.205333</td>\n",
       "      <td>0.630667</td>\n",
       "      <td>0.283241</td>\n",
       "      <td>0.231381</td>\n",
       "      <td>0.352249</td>\n",
       "    </tr>\n",
       "    <tr>\n",
       "      <th>59342</th>\n",
       "      <td>BLACK HAWK</td>\n",
       "      <td>2019</td>\n",
       "      <td>15.5</td>\n",
       "      <td>131089.0</td>\n",
       "      <td>Tuesday</td>\n",
       "      <td>12</td>\n",
       "      <td>0.830555</td>\n",
       "      <td>0.096151</td>\n",
       "      <td>0.003968</td>\n",
       "      <td>0.026993</td>\n",
       "      <td>0.002784</td>\n",
       "      <td>0.028836</td>\n",
       "      <td>0.209806</td>\n",
       "      <td>0.543299</td>\n",
       "      <td>0.226826</td>\n",
       "      <td>0.241214</td>\n",
       "      <td>0.319122</td>\n",
       "    </tr>\n",
       "    <tr>\n",
       "      <th>30060</th>\n",
       "      <td>BOONE</td>\n",
       "      <td>2015</td>\n",
       "      <td>10.1</td>\n",
       "      <td>26468.0</td>\n",
       "      <td>Tuesday</td>\n",
       "      <td>9</td>\n",
       "      <td>0.971857</td>\n",
       "      <td>0.008901</td>\n",
       "      <td>0.002045</td>\n",
       "      <td>0.003220</td>\n",
       "      <td>0.000379</td>\n",
       "      <td>0.012462</td>\n",
       "      <td>0.145129</td>\n",
       "      <td>0.643683</td>\n",
       "      <td>0.293791</td>\n",
       "      <td>0.245383</td>\n",
       "      <td>0.324965</td>\n",
       "    </tr>\n",
       "    <tr>\n",
       "      <th>17082</th>\n",
       "      <td>LINN</td>\n",
       "      <td>2013</td>\n",
       "      <td>9.8</td>\n",
       "      <td>216567.0</td>\n",
       "      <td>Monday</td>\n",
       "      <td>12</td>\n",
       "      <td>0.897466</td>\n",
       "      <td>0.042222</td>\n",
       "      <td>0.002433</td>\n",
       "      <td>0.019862</td>\n",
       "      <td>0.000152</td>\n",
       "      <td>0.028476</td>\n",
       "      <td>0.211278</td>\n",
       "      <td>0.585274</td>\n",
       "      <td>0.280189</td>\n",
       "      <td>0.277637</td>\n",
       "      <td>0.275762</td>\n",
       "    </tr>\n",
       "  </tbody>\n",
       "</table>\n",
       "</div>"
      ],
      "text/plain": [
       "           County  Year  Poverty   Population      DOW  Month  White Prop  \\\n",
       "18073     O'BRIEN  2014       7.3     14045.0  Tuesday      2    0.947985   \n",
       "50415        IOWA  2018       8.4     16150.0   Monday     12    0.959950   \n",
       "59342  BLACK HAWK  2019      15.5    131089.0  Tuesday     12    0.830555   \n",
       "30060       BOONE  2015      10.1     26468.0  Tuesday      9    0.971857   \n",
       "17082        LINN  2013       9.8    216567.0   Monday     12    0.897466   \n",
       "\n",
       "       Black Prop  Native American Prop  Asian Prop  Pacific Prop  Two+ Prop  \\\n",
       "18073    0.005109              0.002058    0.008445      0.000142   0.012347   \n",
       "50415    0.005509              0.000248    0.003776      0.000000   0.027050   \n",
       "59342    0.096151              0.003968    0.026993      0.002784   0.028836   \n",
       "30060    0.008901              0.002045    0.003220      0.000379   0.012462   \n",
       "17082    0.042222              0.002433    0.019862      0.000152   0.028476   \n",
       "\n",
       "       HighIncome Prop  MidIncome Prop  Middle-Old Prop  Middle-Young Prop  \\\n",
       "18073         0.128670        0.659689         0.295180           0.218584   \n",
       "50415         0.205333        0.630667         0.283241           0.231381   \n",
       "59342         0.209806        0.543299         0.226826           0.241214   \n",
       "30060         0.145129        0.643683         0.293791           0.245383   \n",
       "17082         0.211278        0.585274         0.280189           0.277637   \n",
       "\n",
       "       Old Prop  \n",
       "18073  0.364049  \n",
       "50415  0.352249  \n",
       "59342  0.319122  \n",
       "30060  0.324965  \n",
       "17082  0.275762  "
      ]
     },
     "execution_count": 60,
     "metadata": {},
     "output_type": "execute_result"
    }
   ],
   "source": [
    "# X_train X_test, y_train, y_test are all regular dfs\n",
    "X_train.head()"
   ]
  },
  {
   "cell_type": "code",
   "execution_count": 61,
   "id": "116ac145-ceef-4e67-9715-690cf1a6d59c",
   "metadata": {},
   "outputs": [
    {
     "data": {
      "text/html": [
       "<div>\n",
       "<style scoped>\n",
       "    .dataframe tbody tr th:only-of-type {\n",
       "        vertical-align: middle;\n",
       "    }\n",
       "\n",
       "    .dataframe tbody tr th {\n",
       "        vertical-align: top;\n",
       "    }\n",
       "\n",
       "    .dataframe thead th {\n",
       "        text-align: right;\n",
       "    }\n",
       "</style>\n",
       "<table border=\"1\" class=\"dataframe\">\n",
       "  <thead>\n",
       "    <tr style=\"text-align: right;\">\n",
       "      <th></th>\n",
       "      <th>Volume Sold PC</th>\n",
       "      <th>Bottles Sold PC</th>\n",
       "      <th>Sales Volume PC</th>\n",
       "    </tr>\n",
       "  </thead>\n",
       "  <tbody>\n",
       "    <tr>\n",
       "      <th>18073</th>\n",
       "      <td>0.178702</td>\n",
       "      <td>0.146315</td>\n",
       "      <td>1.822865</td>\n",
       "    </tr>\n",
       "    <tr>\n",
       "      <th>50415</th>\n",
       "      <td>0.061034</td>\n",
       "      <td>0.061300</td>\n",
       "      <td>0.760484</td>\n",
       "    </tr>\n",
       "    <tr>\n",
       "      <th>59342</th>\n",
       "      <td>0.156045</td>\n",
       "      <td>0.240005</td>\n",
       "      <td>2.845622</td>\n",
       "    </tr>\n",
       "    <tr>\n",
       "      <th>30060</th>\n",
       "      <td>0.009056</td>\n",
       "      <td>0.008425</td>\n",
       "      <td>0.139549</td>\n",
       "    </tr>\n",
       "    <tr>\n",
       "      <th>17082</th>\n",
       "      <td>0.016383</td>\n",
       "      <td>0.018766</td>\n",
       "      <td>0.260010</td>\n",
       "    </tr>\n",
       "  </tbody>\n",
       "</table>\n",
       "</div>"
      ],
      "text/plain": [
       "       Volume Sold PC  Bottles Sold PC  Sales Volume PC\n",
       "18073        0.178702         0.146315         1.822865\n",
       "50415        0.061034         0.061300         0.760484\n",
       "59342        0.156045         0.240005         2.845622\n",
       "30060        0.009056         0.008425         0.139549\n",
       "17082        0.016383         0.018766         0.260010"
      ]
     },
     "execution_count": 61,
     "metadata": {},
     "output_type": "execute_result"
    }
   ],
   "source": [
    "y_train.head()"
   ]
  },
  {
   "cell_type": "markdown",
   "id": "0c33d5b1-4b60-421b-bd98-b4009f890d5c",
   "metadata": {},
   "source": [
    "# Predictive Model"
   ]
  },
  {
   "cell_type": "code",
   "execution_count": 41,
   "id": "bffae3b2-75da-4f16-a579-f9fed523eaeb",
   "metadata": {},
   "outputs": [],
   "source": [
    "# numeric columns for the current full predictive model\n",
    "numeric_columns = ['Poverty ', 'Population', 'White Prop', 'Black Prop',\n",
    "                    'Native American Prop', 'Asian Prop', 'Pacific Prop', 'Two+ Prop',\n",
    "                    'HighIncome Prop', 'MidIncome Prop', 'Middle-Old Prop','Middle-Young Prop', 'Old Prop']"
   ]
  },
  {
   "cell_type": "markdown",
   "id": "83cbfaee-60bf-4286-9564-77343adbdf2e",
   "metadata": {},
   "source": [
    "## Sales Volume PC"
   ]
  },
  {
   "cell_type": "code",
   "execution_count": 44,
   "id": "3cdf1496-cb73-45cf-8e54-ea3b4f12fd90",
   "metadata": {},
   "outputs": [
    {
     "data": {
      "text/plain": [
       "Index(['County', 'Year', 'Poverty ', 'Population', 'DOW', 'Month',\n",
       "       'White Prop', 'Black Prop', 'Native American Prop', 'Asian Prop',\n",
       "       'Pacific Prop', 'Two+ Prop', 'HighIncome Prop', 'MidIncome Prop',\n",
       "       'Middle-Old Prop', 'Middle-Young Prop', 'Old Prop'],\n",
       "      dtype='object')"
      ]
     },
     "execution_count": 44,
     "metadata": {},
     "output_type": "execute_result"
    }
   ],
   "source": [
    "X_train.columns"
   ]
  },
  {
   "cell_type": "code",
   "execution_count": 69,
   "id": "fbddd979-9a19-4d5b-8ef1-cdd74f84ecfb",
   "metadata": {},
   "outputs": [],
   "source": [
    "# drop county because it's confounding\n",
    "X_train_no_county = X_train.drop(columns=['County'])\n",
    "# making dummies, indicate in argument what columns to dummify\n",
    "df_sv = make_dummies(X_train_no_county, ['DOW', 'Month', 'Year'])\n",
    "\n",
    "# get all the matrices needed for cross val\n",
    "# passes in the df with dummies, the response var, and all the numeric columns of interest for standard scaling\n",
    "sv_mat_with, sv_mat_without, sv_response_mat, sv_col_order = get_intermediate_matrix(df_sv, \n",
    "                                                                                     y_train['Sales Volume PC'], \n",
    "                                                                                     numeric_columns, \n",
    "                                                                                     True)"
   ]
  },
  {
   "cell_type": "markdown",
   "id": "b545e5dc-4f6a-4ea2-b114-797973426168",
   "metadata": {},
   "source": [
    "### OLS"
   ]
  },
  {
   "cell_type": "code",
   "execution_count": 70,
   "id": "834cb535-fdc3-4483-a6a2-dec008f19872",
   "metadata": {},
   "outputs": [
    {
     "data": {
      "text/plain": [
       "{'avg r_2': 0.10973250935939496, 'avg rmse': 0.7264859796836858}"
      ]
     },
     "execution_count": 70,
     "metadata": {},
     "output_type": "execute_result"
    }
   ],
   "source": [
    "# run cross val\n",
    "# 5 folds\n",
    "# OLS, returns avg r2 and rmse\n",
    "run_cross_val(sv_mat_with, 5, \"OLS\")"
   ]
  },
  {
   "cell_type": "markdown",
   "id": "584297e2-f8f0-4820-b0de-32d3cba5c620",
   "metadata": {},
   "source": [
    "### Ridge"
   ]
  },
  {
   "cell_type": "code",
   "execution_count": 71,
   "id": "9d2ad191-045f-4839-acf3-817432573dec",
   "metadata": {},
   "outputs": [
    {
     "data": {
      "text/plain": [
       "{'avg r_2': 0.10923167409164936, 'avg rmse': 0.7267638434035582}"
      ]
     },
     "execution_count": 71,
     "metadata": {},
     "output_type": "execute_result"
    }
   ],
   "source": [
    "# same thing but with ridge\n",
    "run_cross_val(sv_mat_with, 5, \"Ridge\", 100)"
   ]
  },
  {
   "cell_type": "code",
   "execution_count": 65,
   "id": "6b4bef0e-5627-4f96-a688-615478233af9",
   "metadata": {},
   "outputs": [
    {
     "data": {
      "text/plain": [
       "<AxesSubplot:xlabel='Lambda'>"
      ]
     },
     "execution_count": 65,
     "metadata": {},
     "output_type": "execute_result"
    },
    {
     "data": {
      "image/png": "[encoded data removed]",
      "text/plain": [
       "<Figure size 432x288 with 1 Axes>"
      ]
     },
     "metadata": {
      "needs_background": "light"
     },
     "output_type": "display_data"
    }
   ],
   "source": [
    "range_test = np.arange(1,5000,50)\n",
    "roc = roc_df(sv_mat_with, range_test, 2)\n",
    "roc.plot.line(x='Lambda', y='Avg. RMSE')"
   ]
  },
  {
   "cell_type": "markdown",
   "id": "cf421247-2852-47b2-9285-e4db8e025323",
   "metadata": {},
   "source": [
    "## Example where I don't standardize numeric columns"
   ]
  },
  {
   "cell_type": "code",
   "execution_count": 72,
   "id": "ab309daf-3757-424a-b1da-485d16a3c6f6",
   "metadata": {},
   "outputs": [
    {
     "data": {
      "text/plain": [
       "{'avg r_2': 0.10937184964729714, 'avg rmse': 0.7265201154877021}"
      ]
     },
     "execution_count": 72,
     "metadata": {},
     "output_type": "execute_result"
    }
   ],
   "source": [
    "sv_mat_with, sv_mat_without, sv_response_mat, sv_col_order = get_intermediate_matrix(df_sv, \n",
    "                                                                                     y_train['Sales Volume PC'], \n",
    "                                                                                     numeric_columns, \n",
    "                                                                                     False) # make this flag False to not standard for OLS\n",
    "run_cross_val(sv_mat_with, 5, \"OLS\")"
   ]
  },
  {
   "cell_type": "markdown",
   "id": "b7863860-51bc-428e-8c12-3e76bf43cde8",
   "metadata": {},
   "source": [
    "# Subset of Variables Example"
   ]
  },
  {
   "cell_type": "markdown",
   "id": "6444478b-c0ff-4723-9a4e-f2a5b035853c",
   "metadata": {},
   "source": [
    "## Bottles Sold PC"
   ]
  },
  {
   "cell_type": "code",
   "execution_count": 66,
   "id": "17c34dde-e919-48f3-90b8-522860703864",
   "metadata": {},
   "outputs": [],
   "source": [
    "# choosing variables of interest\n",
    "subset_example = X_train[['County', 'Month', 'Year', 'DOW']]\n",
    "# make dummies\n",
    "subset_bs = make_dummies(subset_example, ['County','DOW', 'Month', 'Year'])\n",
    "\n",
    "# get matrices\n",
    "# THERE ARE NO NUMERIC COLUMNS SO I PASS IN NONE FOR THAT ARGUMENT\n",
    "bs_mat_with, bs_mat_without, bs_response_mat, bs_col_order = get_intermediate_matrix(subset_bs, y_train['Bottles Sold PC'], None)"
   ]
  },
  {
   "cell_type": "code",
   "execution_count": 67,
   "id": "420081a8-04d5-47f4-8c6f-b622ea5412e2",
   "metadata": {},
   "outputs": [
    {
     "data": {
      "text/plain": [
       "{'avg r_2': 0.3200280211924281, 'avg rmse': 0.04573994005209235}"
      ]
     },
     "execution_count": 67,
     "metadata": {},
     "output_type": "execute_result"
    }
   ],
   "source": [
    "run_cross_val(bs_mat_with, 5, \"OLS\")"
   ]
  }
 ],
 "metadata": {
  "kernelspec": {
   "display_name": "Python 3",
   "language": "python",
   "name": "python3"
  },
  "language_info": {
   "codemirror_mode": {
    "name": "ipython",
    "version": 3
   },
   "file_extension": ".py",
   "mimetype": "text/x-python",
   "name": "python",
   "nbconvert_exporter": "python",
   "pygments_lexer": "ipython3",
   "version": "3.8.8"
  }
 },
 "nbformat": 4,
 "nbformat_minor": 5
}
