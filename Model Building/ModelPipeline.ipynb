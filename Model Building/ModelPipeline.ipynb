{
 "cells": [
  {
   "cell_type": "code",
   "execution_count": 1,
   "id": "2b6d55f9-cffb-4ec9-9a3d-191c6c17091d",
   "metadata": {},
   "outputs": [],
   "source": [
    "import pandas as pd\n",
    "from sklearn.preprocessing import StandardScaler\n",
    "from sklearn.preprocessing import OneHotEncoder\n",
    "from sklearn.compose import make_column_transformer\n",
    "import numpy as np\n",
    "from sklearn.model_selection import train_test_split\n",
    "from sklearn.metrics import mean_squared_error\n",
    "from sklearn.metrics import r2_score\n",
    "from sklearn.metrics import accuracy_score"
   ]
  },
  {
   "cell_type": "markdown",
   "id": "e27a9e76-0bd8-4882-b6a6-e3a8173d491e",
   "metadata": {},
   "source": [
    "## Functions"
   ]
  },
  {
   "cell_type": "code",
   "execution_count": 2,
   "id": "561808e0-5368-4be9-91c6-48cca7fc56ac",
   "metadata": {},
   "outputs": [],
   "source": [
    "def drop_vars(df):\n",
    "    columns_to_drop = [\n",
    "        # Those we want to remove for all analyses\n",
    "        'Date','Vodka Sold PC','Gin Sold PC', 'Rum Sold PC', 'Whiskey Sold PC', 'Tequila Sold PC', 'Other Alc Sold PC',\n",
    "        'Gin Sold PROP','Rum Sold PROP','Whiskey Sold PROP','Tequila Sold PROP','Other Alc Sold PROP','Vodka Sold PROP',\n",
    "        # Remove linearly dependent columns\n",
    "        'is_weekend', 'Young Prop', 'LowIncome Prop', 'Other Prop',\n",
    "        # remove target columns\n",
    "        'Volume Sold PC', 'Bottles Sold PC', 'Sales Volume PC']\n",
    "    df = df.drop(columns_to_drop, axis = 1)\n",
    "    return df\n",
    "\n",
    "\n",
    "# specify what columns to make dummies for \n",
    "def make_dummies(df, columns):\n",
    "    new_cols = []\n",
    "    for col in columns:\n",
    "        if col == 'Year':\n",
    "            # get dummies for year \n",
    "            year_dummies = pd.get_dummies(df['Year'], drop_first = True)\n",
    "            year_dummies.columns = [\"year_\" + str(column) for column in year_dummies.columns]\n",
    "            new_cols.append(year_dummies)\n",
    "            df = df.drop(['Year'], axis = 1)\n",
    "        elif col == 'Month':\n",
    "            # get dummies for month\n",
    "            month_dummies = pd.get_dummies(df['Month'], drop_first = True)\n",
    "            month_dummies.columns = [\"month_\" + str(column) for column in month_dummies.columns]\n",
    "            new_cols.append(month_dummies)\n",
    "            df = df.drop(['Month'], axis = 1)\n",
    "        elif col == 'County':\n",
    "            # get dummies for county\n",
    "            county_dummies = pd.get_dummies(df['County'], drop_first = True)\n",
    "            new_cols.append(county_dummies)\n",
    "            df = df.drop(['County'], axis = 1)\n",
    "        elif col == 'DOW':\n",
    "            dow_dummies = pd.get_dummies(df['DOW'], drop_first = True)\n",
    "            new_cols.append(dow_dummies)\n",
    "            df = df.drop(['DOW'], axis = 1)\n",
    "            \n",
    "    full_set = [df]+new_cols\n",
    "    df = pd.concat(full_set, axis = 1)\n",
    "    return df\n",
    "\n",
    "\n",
    "def get_intermediate_matrix(df, response_df, numeric_columns, standardize=True):\n",
    "    \n",
    "    \n",
    "    # if there are numeric columns:\n",
    "    if numeric_columns is not None and standardize is True:\n",
    "        non_numeric_columns = [column for column in df.columns if column not in numeric_columns]\n",
    "        # standard scale non categorical columns\n",
    "        ct = make_column_transformer(\n",
    "                (StandardScaler(), numeric_columns)\n",
    "                , remainder='passthrough')\n",
    "        ct_array = ct.fit_transform(df)\n",
    "        column_order = ['Intercept'] + numeric_columns + non_numeric_columns\n",
    "        x_mat = np.asmatrix(ct_array) \n",
    "    # only categorical columns\n",
    "    else:\n",
    "        non_numeric_columns = [column for column in df.columns]\n",
    "        column_order = ['Intercept'] + non_numeric_columns\n",
    "        x_mat = np.asmatrix(df)   \n",
    "        \n",
    "    intercept_array = np.ones((x_mat.shape[0], 1))\n",
    "    x_mat = np.concatenate((intercept_array, x_mat),1)\n",
    "    response_mat = np.asmatrix(response_df).getT()\n",
    "    \n",
    "    matrix_without_target = x_mat\n",
    "    matrix_with_target = np.concatenate((response_mat, x_mat), 1)\n",
    "    return matrix_with_target, matrix_without_target, response_mat, column_order\n",
    "\n",
    "\n",
    "def get_betas(x_mat, response_mat, reg_type, lambda_val=100):\n",
    "    if reg_type == 'OLS':\n",
    "        # ols beta estimates\n",
    "        betas = np.matmul(np.matmul(np.matmul(x_mat.getT(), x_mat).getI(), x_mat.getT()), response_mat)\n",
    "    elif reg_type == 'Ridge':\n",
    "        lambda_mat = np.diag(np.full(x_mat.shape[1], lambda_val))\n",
    "        betas = np.matmul(np.matmul((np.matmul(x_mat.getT(), x_mat)+lambda_mat).getI(), x_mat.getT()), response_mat)\n",
    "    return betas\n",
    "\n",
    "\n",
    "def show_beta_summary(betas, column_order):\n",
    "    return pd.DataFrame({'Variable' : column_order, 'Coefficient' : betas.A1}).sort_values(by = 'Coefficient', ascending = False)"
   ]
  },
  {
   "cell_type": "code",
   "execution_count": 3,
   "id": "f68ba626-9ceb-4a71-bccf-6ea012630b53",
   "metadata": {},
   "outputs": [],
   "source": [
    "def run_cross_val(data, k, penalty=\"OLS\", lam=100):\n",
    "    # shuffle matrix\n",
    "    np.random.shuffle(data)\n",
    "    k_splits = np.array_split(data, k)\n",
    "    r2_list = []\n",
    "    rmse_list = []\n",
    "    metrics = {}\n",
    "    for i in range(k):\n",
    "        # Get train/validation split\n",
    "        validate = k_splits[i]\n",
    "        train = np.concatenate([k_splits[j] for j in range(k) if j != i])\n",
    "        \n",
    "        y_train = train[:, 0]\n",
    "        x_train = train[:, 1:]\n",
    "        \n",
    "        y_val = validate[:,0]\n",
    "        x_val = validate[:, 1:]\n",
    "        # Train the model on the training data\n",
    "        if penalty == \"OLS\":\n",
    "            # ols beta estimates\n",
    "            betas = np.matmul(np.matmul(np.matmul(x_train.getT(), x_train).getI(), x_train.getT()), y_train)\n",
    "        elif penalty == \"Ridge\":\n",
    "            # make diagonal matrix for lambda\n",
    "            lambda_mat = np.diag(np.full(x_train.shape[1], lam))\n",
    "            # ols beta estimates\n",
    "            betas = np.matmul(np.matmul((np.matmul(x_train.getT(), x_train)+lambda_mat).getI(), x_train.getT()), y_train)\n",
    "        else:\n",
    "            raise ValueError(\"not a recognizable penalty\")\n",
    "        \n",
    "        # Make predictions on validation data\n",
    "        y_pred = np.matmul(x_val, betas)\n",
    "        rmse = np.sqrt(mean_squared_error(y_val, y_pred))\n",
    "        rmse_list.append(rmse)\n",
    "        r2 = r2_score(y_val, y_pred)\n",
    "        r2_list.append(r2)\n",
    "        \n",
    "    metrics['avg r_2'] = np.mean(r2_list)\n",
    "    metrics['avg rmse'] = np.mean(rmse_list)\n",
    "    \n",
    "    return metrics"
   ]
  },
  {
   "cell_type": "code",
   "execution_count": 4,
   "id": "a6299383-a513-43e9-bd1d-fcc1de680ed3",
   "metadata": {},
   "outputs": [],
   "source": [
    "# prepare the df to plot RMSE/lambda\n",
    "def roc_df(matrix, lambda_list, k):\n",
    "    df = {'Lambda': [], 'Avg. RMSE': []}\n",
    "    for l in lambda_list:\n",
    "        # print('Working on lambda {}'.format(l))\n",
    "        metrics = run_cross_val(matrix, k, \"Ridge\")\n",
    "        df['Lambda'].append(l)\n",
    "        df['Avg. RMSE'].append(metrics['avg rmse'])\n",
    "    return pd.DataFrame(df)"
   ]
  },
  {
   "cell_type": "markdown",
   "id": "f0222efe-4c1a-49c1-870c-7f4f9804e007",
   "metadata": {},
   "source": [
    "## Reading in Dataset"
   ]
  },
  {
   "cell_type": "code",
   "execution_count": 5,
   "id": "a670a0d3-3414-459d-84c5-a5b73d903d82",
   "metadata": {},
   "outputs": [],
   "source": [
    "# reading in raw data\n",
    "raw_df = pd.read_csv(\"harlech_data_proportions.csv\", low_memory = False)"
   ]
  },
  {
   "cell_type": "markdown",
   "id": "7b3ce237-be9d-4d94-b0a8-15ea56a9d0d2",
   "metadata": {},
   "source": [
    "## Train Dev Test Split"
   ]
  },
  {
   "cell_type": "code",
   "execution_count": 6,
   "id": "541e2354-66e0-4afd-b61b-07ce18eaa172",
   "metadata": {},
   "outputs": [],
   "source": [
    "# pulling out response variables\n",
    "response_df = raw_df[['Volume Sold PC', 'Bottles Sold PC', 'Sales Volume PC']]\n",
    "# dropping the variables we are currently not using\n",
    "df = drop_vars(raw_df)\n",
    "# 0.1 test split \n",
    "X_train, X_test, y_train, y_test = train_test_split(df, response_df, test_size=0.1, random_state=420)"
   ]
  },
  {
   "cell_type": "markdown",
   "id": "e8bb7369-5149-498d-878b-c8474cef5037",
   "metadata": {},
   "source": [
    "# *** DO NOT TOUCH X_TEST AND Y_TEST UNTIL THE VERY END *** \n",
    "- I set a random state already, so results should be consistent"
   ]
  },
  {
   "cell_type": "code",
   "execution_count": 7,
   "id": "a304409b-f8fc-434c-9407-c7c0de653a93",
   "metadata": {},
   "outputs": [
    {
     "data": {
      "text/html": [
       "<div>\n",
       "<style scoped>\n",
       "    .dataframe tbody tr th:only-of-type {\n",
       "        vertical-align: middle;\n",
       "    }\n",
       "\n",
       "    .dataframe tbody tr th {\n",
       "        vertical-align: top;\n",
       "    }\n",
       "\n",
       "    .dataframe thead th {\n",
       "        text-align: right;\n",
       "    }\n",
       "</style>\n",
       "<table border=\"1\" class=\"dataframe\">\n",
       "  <thead>\n",
       "    <tr style=\"text-align: right;\">\n",
       "      <th></th>\n",
       "      <th>County</th>\n",
       "      <th>Year</th>\n",
       "      <th>Poverty</th>\n",
       "      <th>Population</th>\n",
       "      <th>DOW</th>\n",
       "      <th>Month</th>\n",
       "      <th>White Prop</th>\n",
       "      <th>Black Prop</th>\n",
       "      <th>Native American Prop</th>\n",
       "      <th>Asian Prop</th>\n",
       "      <th>Pacific Prop</th>\n",
       "      <th>Two+ Prop</th>\n",
       "      <th>HighIncome Prop</th>\n",
       "      <th>MidIncome Prop</th>\n",
       "      <th>Middle-Old Prop</th>\n",
       "      <th>Middle-Young Prop</th>\n",
       "      <th>Old Prop</th>\n",
       "    </tr>\n",
       "  </thead>\n",
       "  <tbody>\n",
       "    <tr>\n",
       "      <th>18073</th>\n",
       "      <td>O'BRIEN</td>\n",
       "      <td>2014</td>\n",
       "      <td>7.3</td>\n",
       "      <td>14045.0</td>\n",
       "      <td>Tuesday</td>\n",
       "      <td>2</td>\n",
       "      <td>0.947985</td>\n",
       "      <td>0.005109</td>\n",
       "      <td>0.002058</td>\n",
       "      <td>0.008445</td>\n",
       "      <td>0.000142</td>\n",
       "      <td>0.012347</td>\n",
       "      <td>0.128670</td>\n",
       "      <td>0.659689</td>\n",
       "      <td>0.295180</td>\n",
       "      <td>0.218584</td>\n",
       "      <td>0.364049</td>\n",
       "    </tr>\n",
       "    <tr>\n",
       "      <th>50415</th>\n",
       "      <td>IOWA</td>\n",
       "      <td>2018</td>\n",
       "      <td>8.4</td>\n",
       "      <td>16150.0</td>\n",
       "      <td>Monday</td>\n",
       "      <td>12</td>\n",
       "      <td>0.959950</td>\n",
       "      <td>0.005509</td>\n",
       "      <td>0.000248</td>\n",
       "      <td>0.003776</td>\n",
       "      <td>0.000000</td>\n",
       "      <td>0.027050</td>\n",
       "      <td>0.205333</td>\n",
       "      <td>0.630667</td>\n",
       "      <td>0.283241</td>\n",
       "      <td>0.231381</td>\n",
       "      <td>0.352249</td>\n",
       "    </tr>\n",
       "    <tr>\n",
       "      <th>59342</th>\n",
       "      <td>BLACK HAWK</td>\n",
       "      <td>2019</td>\n",
       "      <td>15.5</td>\n",
       "      <td>131089.0</td>\n",
       "      <td>Tuesday</td>\n",
       "      <td>12</td>\n",
       "      <td>0.830555</td>\n",
       "      <td>0.096151</td>\n",
       "      <td>0.003968</td>\n",
       "      <td>0.026993</td>\n",
       "      <td>0.002784</td>\n",
       "      <td>0.028836</td>\n",
       "      <td>0.209806</td>\n",
       "      <td>0.543299</td>\n",
       "      <td>0.226826</td>\n",
       "      <td>0.241214</td>\n",
       "      <td>0.319122</td>\n",
       "    </tr>\n",
       "    <tr>\n",
       "      <th>30060</th>\n",
       "      <td>BOONE</td>\n",
       "      <td>2015</td>\n",
       "      <td>10.1</td>\n",
       "      <td>26468.0</td>\n",
       "      <td>Tuesday</td>\n",
       "      <td>9</td>\n",
       "      <td>0.971857</td>\n",
       "      <td>0.008901</td>\n",
       "      <td>0.002045</td>\n",
       "      <td>0.003220</td>\n",
       "      <td>0.000379</td>\n",
       "      <td>0.012462</td>\n",
       "      <td>0.145129</td>\n",
       "      <td>0.643683</td>\n",
       "      <td>0.293791</td>\n",
       "      <td>0.245383</td>\n",
       "      <td>0.324965</td>\n",
       "    </tr>\n",
       "    <tr>\n",
       "      <th>17082</th>\n",
       "      <td>LINN</td>\n",
       "      <td>2013</td>\n",
       "      <td>9.8</td>\n",
       "      <td>216567.0</td>\n",
       "      <td>Monday</td>\n",
       "      <td>12</td>\n",
       "      <td>0.897466</td>\n",
       "      <td>0.042222</td>\n",
       "      <td>0.002433</td>\n",
       "      <td>0.019862</td>\n",
       "      <td>0.000152</td>\n",
       "      <td>0.028476</td>\n",
       "      <td>0.211278</td>\n",
       "      <td>0.585274</td>\n",
       "      <td>0.280189</td>\n",
       "      <td>0.277637</td>\n",
       "      <td>0.275762</td>\n",
       "    </tr>\n",
       "  </tbody>\n",
       "</table>\n",
       "</div>"
      ],
      "text/plain": [
       "           County  Year  Poverty   Population      DOW  Month  White Prop  \\\n",
       "18073     O'BRIEN  2014       7.3     14045.0  Tuesday      2    0.947985   \n",
       "50415        IOWA  2018       8.4     16150.0   Monday     12    0.959950   \n",
       "59342  BLACK HAWK  2019      15.5    131089.0  Tuesday     12    0.830555   \n",
       "30060       BOONE  2015      10.1     26468.0  Tuesday      9    0.971857   \n",
       "17082        LINN  2013       9.8    216567.0   Monday     12    0.897466   \n",
       "\n",
       "       Black Prop  Native American Prop  Asian Prop  Pacific Prop  Two+ Prop  \\\n",
       "18073    0.005109              0.002058    0.008445      0.000142   0.012347   \n",
       "50415    0.005509              0.000248    0.003776      0.000000   0.027050   \n",
       "59342    0.096151              0.003968    0.026993      0.002784   0.028836   \n",
       "30060    0.008901              0.002045    0.003220      0.000379   0.012462   \n",
       "17082    0.042222              0.002433    0.019862      0.000152   0.028476   \n",
       "\n",
       "       HighIncome Prop  MidIncome Prop  Middle-Old Prop  Middle-Young Prop  \\\n",
       "18073         0.128670        0.659689         0.295180           0.218584   \n",
       "50415         0.205333        0.630667         0.283241           0.231381   \n",
       "59342         0.209806        0.543299         0.226826           0.241214   \n",
       "30060         0.145129        0.643683         0.293791           0.245383   \n",
       "17082         0.211278        0.585274         0.280189           0.277637   \n",
       "\n",
       "       Old Prop  \n",
       "18073  0.364049  \n",
       "50415  0.352249  \n",
       "59342  0.319122  \n",
       "30060  0.324965  \n",
       "17082  0.275762  "
      ]
     },
     "execution_count": 7,
     "metadata": {},
     "output_type": "execute_result"
    }
   ],
   "source": [
    "# X_train X_test, y_train, y_test are all regular dfs\n",
    "X_train.head()"
   ]
  },
  {
   "cell_type": "code",
   "execution_count": 8,
   "id": "116ac145-ceef-4e67-9715-690cf1a6d59c",
   "metadata": {},
   "outputs": [
    {
     "data": {
      "text/html": [
       "<div>\n",
       "<style scoped>\n",
       "    .dataframe tbody tr th:only-of-type {\n",
       "        vertical-align: middle;\n",
       "    }\n",
       "\n",
       "    .dataframe tbody tr th {\n",
       "        vertical-align: top;\n",
       "    }\n",
       "\n",
       "    .dataframe thead th {\n",
       "        text-align: right;\n",
       "    }\n",
       "</style>\n",
       "<table border=\"1\" class=\"dataframe\">\n",
       "  <thead>\n",
       "    <tr style=\"text-align: right;\">\n",
       "      <th></th>\n",
       "      <th>Volume Sold PC</th>\n",
       "      <th>Bottles Sold PC</th>\n",
       "      <th>Sales Volume PC</th>\n",
       "    </tr>\n",
       "  </thead>\n",
       "  <tbody>\n",
       "    <tr>\n",
       "      <th>18073</th>\n",
       "      <td>0.178702</td>\n",
       "      <td>0.146315</td>\n",
       "      <td>1.822865</td>\n",
       "    </tr>\n",
       "    <tr>\n",
       "      <th>50415</th>\n",
       "      <td>0.061034</td>\n",
       "      <td>0.061300</td>\n",
       "      <td>0.760484</td>\n",
       "    </tr>\n",
       "    <tr>\n",
       "      <th>59342</th>\n",
       "      <td>0.156045</td>\n",
       "      <td>0.240005</td>\n",
       "      <td>2.845622</td>\n",
       "    </tr>\n",
       "    <tr>\n",
       "      <th>30060</th>\n",
       "      <td>0.009056</td>\n",
       "      <td>0.008425</td>\n",
       "      <td>0.139549</td>\n",
       "    </tr>\n",
       "    <tr>\n",
       "      <th>17082</th>\n",
       "      <td>0.016383</td>\n",
       "      <td>0.018766</td>\n",
       "      <td>0.260010</td>\n",
       "    </tr>\n",
       "  </tbody>\n",
       "</table>\n",
       "</div>"
      ],
      "text/plain": [
       "       Volume Sold PC  Bottles Sold PC  Sales Volume PC\n",
       "18073        0.178702         0.146315         1.822865\n",
       "50415        0.061034         0.061300         0.760484\n",
       "59342        0.156045         0.240005         2.845622\n",
       "30060        0.009056         0.008425         0.139549\n",
       "17082        0.016383         0.018766         0.260010"
      ]
     },
     "execution_count": 8,
     "metadata": {},
     "output_type": "execute_result"
    }
   ],
   "source": [
    "y_train.head()"
   ]
  },
  {
   "cell_type": "markdown",
   "id": "72a70d11-bf98-4672-b389-5cda1b4f93ef",
   "metadata": {},
   "source": [
    "## Training the Data using our Best Subsets of Features"
   ]
  },
  {
   "cell_type": "markdown",
   "id": "18085191-b23d-4d55-b1f5-debed7504a28",
   "metadata": {},
   "source": [
    "### Bottles Sold Predictive"
   ]
  },
  {
   "cell_type": "code",
   "execution_count": 53,
   "id": "1b401c79-81a2-4895-898f-a21ee48bfa13",
   "metadata": {},
   "outputs": [],
   "source": [
    "bottles_sold_df = X_train[['County', 'Year', 'Poverty ', 'DOW', 'Month', 'Pacific Prop']]\n",
    "bottles_sold_bs = make_dummies(bottles_sold_df, ['County','DOW', 'Month', 'Year'])\n",
    "\n",
    "bs_mat_with, bs_mat_without, bs_response_mat, bs_col_order = get_intermediate_matrix(bottles_sold_bs, \n",
    "                                                                                     y_train['Bottles Sold PC'], \n",
    "                                                                                     ['Poverty ', 'Pacific Prop'])"
   ]
  },
  {
   "cell_type": "code",
   "execution_count": 105,
   "id": "a0d2b50c-e221-4371-b63e-ae4e885363dd",
   "metadata": {},
   "outputs": [],
   "source": [
    "bs_columns = bottles_sold_bs.columns.tolist()\n",
    "sunday_index = bs_columns.index('Sunday')"
   ]
  },
  {
   "cell_type": "code",
   "execution_count": 106,
   "id": "37aeb290-0e35-447d-bfab-c34ce3fda363",
   "metadata": {},
   "outputs": [],
   "source": [
    "bottles_sold_betas = get_betas(bs_mat_without, bs_response_mat, \"OLS\")"
   ]
  },
  {
   "cell_type": "code",
   "execution_count": 108,
   "id": "53138da5-e7f5-4592-b443-a999695220b0",
   "metadata": {},
   "outputs": [],
   "source": [
    "# MAKING PREDICTIONS ON TEST DATA\n",
    "bottles_sold_test_df = X_test[['County', 'Year', 'Poverty ', 'DOW', 'Month', 'Pacific Prop']]\n",
    "bottles_sold_test_df = make_dummies(bottles_sold_test_df,  ['County','DOW', 'Month', 'Year'])\n",
    "\n",
    "# fix issue where sunday doesn't exist for test data\n",
    "bottles_sold_test_df.insert(sunday_index, 'Sunday', [0 for x in range(len(bottles_sold_test_df.index))])\n",
    "# ensuring columns in same order\n",
    "bottles_sold_test_df = bottles_sold_test_df[bottles_sold_bs.columns]\n",
    "\n",
    "bs_test_mat_with, bs_test_mat_without, bs_test_response_mat, bs_test_col_order = get_intermediate_matrix(bottles_sold_test_df, \n",
    "                                                                                     y_test['Bottles Sold PC'], \n",
    "                                                                                     ['Poverty ', 'Pacific Prop'])\n"
   ]
  },
  {
   "cell_type": "code",
   "execution_count": 109,
   "id": "34a71006-c982-484e-b2cc-1901e8039081",
   "metadata": {},
   "outputs": [],
   "source": [
    "bottles_sold_pred = np.matmul(bs_test_mat_without, bottles_sold_betas)\n",
    "bs_rmse = np.sqrt(mean_squared_error(bs_test_response_mat, bottles_sold_pred))"
   ]
  },
  {
   "cell_type": "code",
   "execution_count": 110,
   "id": "0fae077f-0e83-4e14-a33e-af3f695c3b73",
   "metadata": {},
   "outputs": [
    {
     "data": {
      "text/plain": [
       "0.04676887352917497"
      ]
     },
     "execution_count": 110,
     "metadata": {},
     "output_type": "execute_result"
    }
   ],
   "source": [
    "bs_rmse"
   ]
  },
  {
   "cell_type": "code",
   "execution_count": 111,
   "id": "7d531689-3908-4bff-b1fd-b7975e7964b2",
   "metadata": {},
   "outputs": [
    {
     "data": {
      "text/plain": [
       "0.3441732538104013"
      ]
     },
     "execution_count": 111,
     "metadata": {},
     "output_type": "execute_result"
    }
   ],
   "source": [
    "bs_r2 = r2_score(bs_test_response_mat, bottles_sold_pred)\n",
    "bs_r2"
   ]
  },
  {
   "cell_type": "markdown",
   "id": "7bbb7052-4d47-4afa-8f31-e47e52da7597",
   "metadata": {},
   "source": [
    "### Volume Sold Predictive"
   ]
  },
  {
   "cell_type": "code",
   "execution_count": 112,
   "id": "a2a7f296-2608-4240-bd2b-f0405f66887b",
   "metadata": {},
   "outputs": [],
   "source": [
    "vol_sold_df = X_train[['County', 'Year', 'Poverty ', 'DOW', 'Month', 'Pacific Prop']]\n",
    "vol_sold_bs = make_dummies(vol_sold_df, ['County','DOW', 'Month', 'Year'])\n",
    "\n",
    "vs_mat_with, vs_mat_without, vs_response_mat, vs_col_order = get_intermediate_matrix(vol_sold_bs, \n",
    "                                                                                     y_train['Volume Sold PC'], \n",
    "                                                                                     ['Poverty ', 'Pacific Prop'])\n",
    "\n",
    "vs_columns = vol_sold_bs.columns.tolist()\n",
    "sunday_index = vs_columns.index('Sunday')\n",
    "\n",
    "vol_sold_betas = get_betas(vs_mat_without, vs_response_mat, \"OLS\")"
   ]
  },
  {
   "cell_type": "code",
   "execution_count": 120,
   "id": "d708d25f-259f-41f7-83da-9fd164449528",
   "metadata": {},
   "outputs": [],
   "source": [
    "# MAKING PREDICTIONS ON TEST DATA\n",
    "vol_sold_test_df = X_test[['County', 'Year', 'Poverty ', 'DOW', 'Month', 'Pacific Prop']]\n",
    "vol_sold_test_df = make_dummies(vol_sold_test_df,  ['County','DOW', 'Month', 'Year'])\n",
    "\n",
    "# fix issue where sunday doesn't exist for test data\n",
    "vol_sold_test_df.insert(sunday_index, 'Sunday', [0 for x in range(len(vol_sold_test_df.index))])\n",
    "# ensuring columns in same order\n",
    "vol_sold_test_df = vol_sold_test_df[vs_columns]\n",
    "\n",
    "vs_test_mat_with, vs_test_mat_without, vs_test_true, vs_test_col_order = get_intermediate_matrix(vol_sold_test_df, \n",
    "                                                                                     y_test['Volume Sold PC'], \n",
    "                                                                                     ['Poverty ', 'Pacific Prop'])"
   ]
  },
  {
   "cell_type": "code",
   "execution_count": 121,
   "id": "787a4f1a-29a5-4cbf-a24f-6bb2325e884f",
   "metadata": {},
   "outputs": [],
   "source": [
    "vol_sold_pred = np.matmul(vs_test_mat_without, vol_sold_betas)\n",
    "vs_rmse = np.sqrt(mean_squared_error(vs_test_true, vol_sold_pred))\n",
    "vs_r2 = r2_score(vs_test_true, vol_sold_pred)"
   ]
  },
  {
   "cell_type": "code",
   "execution_count": 122,
   "id": "4fa7c6cf-06fd-4795-95ce-f11bd698f542",
   "metadata": {},
   "outputs": [
    {
     "data": {
      "text/plain": [
       "{'Vol Sold RMSE': 0.046299636315973114, 'Vol Sold R2': 0.3540135133878174}"
      ]
     },
     "execution_count": 122,
     "metadata": {},
     "output_type": "execute_result"
    }
   ],
   "source": [
    "{'Vol Sold RMSE': vs_rmse, 'Vol Sold R2': vs_r2}"
   ]
  },
  {
   "cell_type": "markdown",
   "id": "f124bb24-0a72-48cd-a510-1c87146b957f",
   "metadata": {},
   "source": [
    "### Sales Volume Pred"
   ]
  },
  {
   "cell_type": "code",
   "execution_count": 119,
   "id": "d1229f0c-90fa-4f76-9f44-50d2c9c9acb8",
   "metadata": {},
   "outputs": [],
   "source": [
    "sales_df = X_train[['County', 'Year', 'Poverty ', 'DOW', 'Month', 'White Prop']]\n",
    "sales_bs = make_dummies(sales_df, ['County','DOW', 'Month', 'Year'])\n",
    "\n",
    "sales_mat_with, sales_mat_without, sales_response_mat, sales_col_order = get_intermediate_matrix(sales_bs, \n",
    "                                                                                     y_train['Sales Volume PC'], \n",
    "                                                                                     ['Poverty ', 'White Prop'])\n",
    "\n",
    "sales_columns = sales_bs.columns.tolist()\n",
    "sunday_index = sales_columns.index('Sunday')\n",
    "\n",
    "sales_betas = get_betas(sales_mat_without, sales_response_mat, \"OLS\")"
   ]
  },
  {
   "cell_type": "code",
   "execution_count": 123,
   "id": "3dd61e81-3aa7-40ca-91d1-8a051876218c",
   "metadata": {},
   "outputs": [],
   "source": [
    "# MAKING PREDICTIONS ON TEST DATA\n",
    "sales_test_df = X_test[['County', 'Year', 'Poverty ', 'DOW', 'Month', 'White Prop']]\n",
    "sales_test_df = make_dummies(sales_test_df,  ['County','DOW', 'Month', 'Year'])\n",
    "\n",
    "# fix issue where sunday doesn't exist for test data\n",
    "sales_test_df.insert(sunday_index, 'Sunday', [0 for x in range(len(sales_test_df.index))])\n",
    "# ensuring columns in same order\n",
    "sales_test_df = sales_test_df[sales_columns]\n",
    "\n",
    "sales_test_mat_with, sales_test_mat_without, sales_test_true, sales_test_col_order = get_intermediate_matrix(sales_test_df, \n",
    "                                                                                     y_test['Sales Volume PC'], \n",
    "                                                                                     ['Poverty ', 'White Prop'])"
   ]
  },
  {
   "cell_type": "code",
   "execution_count": 124,
   "id": "a4fae599-3afb-4229-9a52-1d1b93ced6cb",
   "metadata": {},
   "outputs": [],
   "source": [
    "sales_pred = np.matmul(sales_test_mat_without, sales_betas)\n",
    "sales_rmse = np.sqrt(mean_squared_error(sales_test_true, sales_pred))\n",
    "sales_r2 = r2_score(sales_test_true, sales_pred)"
   ]
  },
  {
   "cell_type": "code",
   "execution_count": 125,
   "id": "6134afb0-b74b-4f8e-b3d4-93d70fa08d81",
   "metadata": {},
   "outputs": [
    {
     "data": {
      "text/plain": [
       "{'Sales Volume RMSE': 0.6555754614527641,\n",
       " 'Sales Volume R2': 0.34898985963782336}"
      ]
     },
     "execution_count": 125,
     "metadata": {},
     "output_type": "execute_result"
    }
   ],
   "source": [
    "{'Sales Volume RMSE': sales_rmse, 'Sales Volume R2': sales_r2}"
   ]
  },
  {
   "cell_type": "markdown",
   "id": "53707aea-2544-4b36-b468-07c91d22fed7",
   "metadata": {},
   "source": [
    "## Interpretive Models"
   ]
  },
  {
   "cell_type": "markdown",
   "id": "d18cbe0e-d54e-4fec-ad43-5ed31fc5690e",
   "metadata": {},
   "source": [
    "### Bottles Sold Interpretive"
   ]
  },
  {
   "cell_type": "code",
   "execution_count": 126,
   "id": "39e05412-0fd6-475d-b209-13643830e1b2",
   "metadata": {},
   "outputs": [],
   "source": [
    "bs_int_df = X_train[['County', 'Year', 'DOW', 'Month']]\n",
    "bottles_sold_int = make_dummies(bs_int_df, ['County','DOW', 'Month', 'Year'])\n",
    "\n",
    "bs_int_mat_with, bs_int_mat_without, bs_int_response_mat, bs_int_col_order = get_intermediate_matrix(bottles_sold_int, \n",
    "                                                                                     y_train['Bottles Sold PC'], \n",
    "                                                                                     None)\n",
    "\n",
    "bs_columns = bottles_sold_int.columns.tolist()\n",
    "sunday_index = bs_columns.index('Sunday')\n",
    "\n",
    "bs_int_betas = get_betas(bs_int_mat_without, bs_int_response_mat, \"OLS\")"
   ]
  },
  {
   "cell_type": "code",
   "execution_count": 127,
   "id": "4750fd87-35f5-4ec3-a2ec-e9455332083c",
   "metadata": {},
   "outputs": [],
   "source": [
    "# MAKING PREDICTIONS ON TEST DATA\n",
    "bs_int_test_df = X_test[['County', 'Year', 'DOW', 'Month']]\n",
    "bs_int_test_df = make_dummies(bs_int_test_df,  ['County','DOW', 'Month', 'Year'])\n",
    "\n",
    "# fix issue where sunday doesn't exist for test data\n",
    "bs_int_test_df.insert(sunday_index, 'Sunday', [0 for x in range(len(bs_int_test_df.index))])\n",
    "# ensuring columns in same order\n",
    "bs_int_test_df = bs_int_test_df[bs_columns]\n",
    "\n",
    "bs_int_test_mat_with, bs_int_test_mat_without, bs_int_test_true, bs_int_test_col_order = get_intermediate_matrix(bs_int_test_df, \n",
    "                                                                                     y_test['Bottles Sold PC'], \n",
    "                                                                                     None)"
   ]
  },
  {
   "cell_type": "code",
   "execution_count": 128,
   "id": "3d9d5e9f-b38e-4d96-a66f-0372fd841ea8",
   "metadata": {},
   "outputs": [
    {
     "data": {
      "text/plain": [
       "{'Bottles Sold Interpretative RMSE': 0.04677518005421671,\n",
       " 'Bottles Sold Interpretative R2': 0.34399637263523697}"
      ]
     },
     "execution_count": 128,
     "metadata": {},
     "output_type": "execute_result"
    }
   ],
   "source": [
    "bs_int_pred = np.matmul(bs_int_test_mat_without, bs_int_betas)\n",
    "bs_int_rmse = np.sqrt(mean_squared_error(bs_int_test_true, bs_int_pred))\n",
    "bs_int_r2 = r2_score(bs_int_test_true, bs_int_pred)\n",
    "\n",
    "{'Bottles Sold Interpretative RMSE': bs_int_rmse, 'Bottles Sold Interpretative R2': bs_int_r2}"
   ]
  },
  {
   "cell_type": "code",
   "execution_count": 131,
   "id": "13d37fc5-1252-4b2e-81d2-995f81210bb9",
   "metadata": {},
   "outputs": [
    {
     "data": {
      "text/html": [
       "<div>\n",
       "<style scoped>\n",
       "    .dataframe tbody tr th:only-of-type {\n",
       "        vertical-align: middle;\n",
       "    }\n",
       "\n",
       "    .dataframe tbody tr th {\n",
       "        vertical-align: top;\n",
       "    }\n",
       "\n",
       "    .dataframe thead th {\n",
       "        text-align: right;\n",
       "    }\n",
       "</style>\n",
       "<table border=\"1\" class=\"dataframe\">\n",
       "  <thead>\n",
       "    <tr style=\"text-align: right;\">\n",
       "      <th></th>\n",
       "      <th>Variable</th>\n",
       "      <th>Coefficient</th>\n",
       "    </tr>\n",
       "  </thead>\n",
       "  <tbody>\n",
       "    <tr>\n",
       "      <th>29</th>\n",
       "      <td>DICKINSON</td>\n",
       "      <td>0.206974</td>\n",
       "    </tr>\n",
       "    <tr>\n",
       "      <th>16</th>\n",
       "      <td>CERRO GORDO</td>\n",
       "      <td>0.068658</td>\n",
       "    </tr>\n",
       "    <tr>\n",
       "      <th>20</th>\n",
       "      <td>CLAY</td>\n",
       "      <td>0.048237</td>\n",
       "    </tr>\n",
       "    <tr>\n",
       "      <th>72</th>\n",
       "      <td>PAGE</td>\n",
       "      <td>0.047407</td>\n",
       "    </tr>\n",
       "    <tr>\n",
       "      <th>14</th>\n",
       "      <td>CASS</td>\n",
       "      <td>0.046040</td>\n",
       "    </tr>\n",
       "    <tr>\n",
       "      <th>...</th>\n",
       "      <td>...</td>\n",
       "      <td>...</td>\n",
       "    </tr>\n",
       "    <tr>\n",
       "      <th>37</th>\n",
       "      <td>GRUNDY</td>\n",
       "      <td>-0.033034</td>\n",
       "    </tr>\n",
       "    <tr>\n",
       "      <th>25</th>\n",
       "      <td>DAVIS</td>\n",
       "      <td>-0.036235</td>\n",
       "    </tr>\n",
       "    <tr>\n",
       "      <th>11</th>\n",
       "      <td>BUTLER</td>\n",
       "      <td>-0.038729</td>\n",
       "    </tr>\n",
       "    <tr>\n",
       "      <th>120</th>\n",
       "      <td>year_2017</td>\n",
       "      <td>-0.052217</td>\n",
       "    </tr>\n",
       "    <tr>\n",
       "      <th>101</th>\n",
       "      <td>Sunday</td>\n",
       "      <td>-0.057615</td>\n",
       "    </tr>\n",
       "  </tbody>\n",
       "</table>\n",
       "<p>124 rows × 2 columns</p>\n",
       "</div>"
      ],
      "text/plain": [
       "        Variable  Coefficient\n",
       "29     DICKINSON     0.206974\n",
       "16   CERRO GORDO     0.068658\n",
       "20          CLAY     0.048237\n",
       "72          PAGE     0.047407\n",
       "14          CASS     0.046040\n",
       "..           ...          ...\n",
       "37        GRUNDY    -0.033034\n",
       "25         DAVIS    -0.036235\n",
       "11        BUTLER    -0.038729\n",
       "120    year_2017    -0.052217\n",
       "101       Sunday    -0.057615\n",
       "\n",
       "[124 rows x 2 columns]"
      ]
     },
     "execution_count": 131,
     "metadata": {},
     "output_type": "execute_result"
    }
   ],
   "source": [
    "bs_int_beta_summary = show_beta_summary(bs_int_betas, bs_int_col_order)\n",
    "bs_int_beta_summary"
   ]
  },
  {
   "cell_type": "code",
   "execution_count": 132,
   "id": "dbbf555b-8b71-41a6-afe2-64c17e908772",
   "metadata": {},
   "outputs": [],
   "source": [
    "bs_int_beta_summary.to_csv('bottles_sold_interpretive_summary.csv')"
   ]
  },
  {
   "cell_type": "markdown",
   "id": "37297dc6-4a0f-4e2a-9c05-8f7b01dbfd75",
   "metadata": {},
   "source": [
    "### Volume Sold Interpretative"
   ]
  },
  {
   "cell_type": "code",
   "execution_count": 133,
   "id": "30415067-6955-4c1f-9ca0-ada97880b1bb",
   "metadata": {},
   "outputs": [],
   "source": [
    "vs_int_df = X_train[['County', 'Year', 'DOW', 'Month']]\n",
    "vs_int_df = make_dummies(vs_int_df, ['County','DOW', 'Month', 'Year'])\n",
    "\n",
    "vs_int_mat_with, vs_int_mat_without, vs_int_response_mat, vs_int_col_order = get_intermediate_matrix(vs_int_df, \n",
    "                                                                                     y_train['Volume Sold PC'], \n",
    "                                                                                     None)\n",
    "\n",
    "vs_columns = vs_int_df.columns.tolist()\n",
    "sunday_index = vs_columns.index('Sunday')\n",
    "\n",
    "vs_int_betas = get_betas(vs_int_mat_without, vs_int_response_mat, \"OLS\")"
   ]
  },
  {
   "cell_type": "code",
   "execution_count": 134,
   "id": "501d6855-1bbb-4ae0-b53d-911aa0b3bd2a",
   "metadata": {},
   "outputs": [],
   "source": [
    "# MAKING PREDICTIONS ON TEST DATA\n",
    "vs_int_test_df = X_test[['County', 'Year', 'DOW', 'Month']]\n",
    "vs_int_test_df = make_dummies(vs_int_test_df,  ['County','DOW', 'Month', 'Year'])\n",
    "\n",
    "# fix issue where sunday doesn't exist for test data\n",
    "vs_int_test_df.insert(sunday_index, 'Sunday', [0 for x in range(len(vs_int_test_df.index))])\n",
    "# ensuring columns in same order\n",
    "vs_int_test_df = vs_int_test_df[vs_columns]\n",
    "\n",
    "vs_int_test_mat_with, vs_int_test_mat_without, vs_int_test_true, vs_int_test_col_order = get_intermediate_matrix(vs_int_test_df, \n",
    "                                                                                     y_test['Volume Sold PC'], \n",
    "                                                                                     None)"
   ]
  },
  {
   "cell_type": "code",
   "execution_count": 135,
   "id": "a1184a21-a31e-4f03-baed-2dbd6d330a08",
   "metadata": {},
   "outputs": [
    {
     "data": {
      "text/plain": [
       "{'Volume Sold Interpretative RMSE': 0.04630395918661186,\n",
       " 'Volume Sold Interpretative R2': 0.35389287976721007}"
      ]
     },
     "execution_count": 135,
     "metadata": {},
     "output_type": "execute_result"
    }
   ],
   "source": [
    "vs_int_pred = np.matmul(vs_int_test_mat_without, vs_int_betas)\n",
    "vs_int_rmse = np.sqrt(mean_squared_error(vs_int_test_true, vs_int_pred))\n",
    "vs_int_r2 = r2_score(vs_int_test_true, vs_int_pred)\n",
    "\n",
    "{'Volume Sold Interpretative RMSE': vs_int_rmse, 'Volume Sold Interpretative R2': vs_int_r2}"
   ]
  },
  {
   "cell_type": "code",
   "execution_count": 136,
   "id": "a974c0fc-2b86-4f2e-a36c-0622f7819b13",
   "metadata": {},
   "outputs": [
    {
     "data": {
      "text/html": [
       "<div>\n",
       "<style scoped>\n",
       "    .dataframe tbody tr th:only-of-type {\n",
       "        vertical-align: middle;\n",
       "    }\n",
       "\n",
       "    .dataframe tbody tr th {\n",
       "        vertical-align: top;\n",
       "    }\n",
       "\n",
       "    .dataframe thead th {\n",
       "        text-align: right;\n",
       "    }\n",
       "</style>\n",
       "<table border=\"1\" class=\"dataframe\">\n",
       "  <thead>\n",
       "    <tr style=\"text-align: right;\">\n",
       "      <th></th>\n",
       "      <th>Variable</th>\n",
       "      <th>Coefficient</th>\n",
       "    </tr>\n",
       "  </thead>\n",
       "  <tbody>\n",
       "    <tr>\n",
       "      <th>29</th>\n",
       "      <td>DICKINSON</td>\n",
       "      <td>0.219601</td>\n",
       "    </tr>\n",
       "    <tr>\n",
       "      <th>16</th>\n",
       "      <td>CERRO GORDO</td>\n",
       "      <td>0.067680</td>\n",
       "    </tr>\n",
       "    <tr>\n",
       "      <th>20</th>\n",
       "      <td>CLAY</td>\n",
       "      <td>0.057215</td>\n",
       "    </tr>\n",
       "    <tr>\n",
       "      <th>13</th>\n",
       "      <td>CARROLL</td>\n",
       "      <td>0.056491</td>\n",
       "    </tr>\n",
       "    <tr>\n",
       "      <th>73</th>\n",
       "      <td>PALO ALTO</td>\n",
       "      <td>0.055022</td>\n",
       "    </tr>\n",
       "    <tr>\n",
       "      <th>...</th>\n",
       "      <td>...</td>\n",
       "      <td>...</td>\n",
       "    </tr>\n",
       "    <tr>\n",
       "      <th>25</th>\n",
       "      <td>DAVIS</td>\n",
       "      <td>-0.032018</td>\n",
       "    </tr>\n",
       "    <tr>\n",
       "      <th>35</th>\n",
       "      <td>FREMONT</td>\n",
       "      <td>-0.032820</td>\n",
       "    </tr>\n",
       "    <tr>\n",
       "      <th>11</th>\n",
       "      <td>BUTLER</td>\n",
       "      <td>-0.034240</td>\n",
       "    </tr>\n",
       "    <tr>\n",
       "      <th>101</th>\n",
       "      <td>Sunday</td>\n",
       "      <td>-0.049126</td>\n",
       "    </tr>\n",
       "    <tr>\n",
       "      <th>120</th>\n",
       "      <td>year_2017</td>\n",
       "      <td>-0.051613</td>\n",
       "    </tr>\n",
       "  </tbody>\n",
       "</table>\n",
       "<p>124 rows × 2 columns</p>\n",
       "</div>"
      ],
      "text/plain": [
       "        Variable  Coefficient\n",
       "29     DICKINSON     0.219601\n",
       "16   CERRO GORDO     0.067680\n",
       "20          CLAY     0.057215\n",
       "13       CARROLL     0.056491\n",
       "73     PALO ALTO     0.055022\n",
       "..           ...          ...\n",
       "25         DAVIS    -0.032018\n",
       "35       FREMONT    -0.032820\n",
       "11        BUTLER    -0.034240\n",
       "101       Sunday    -0.049126\n",
       "120    year_2017    -0.051613\n",
       "\n",
       "[124 rows x 2 columns]"
      ]
     },
     "execution_count": 136,
     "metadata": {},
     "output_type": "execute_result"
    }
   ],
   "source": [
    "vs_int_beta_summary = show_beta_summary(vs_int_betas,vs_int_col_order)\n",
    "vs_int_beta_summary"
   ]
  },
  {
   "cell_type": "code",
   "execution_count": 137,
   "id": "4b869a5f-df50-47f9-becc-380411cd16ce",
   "metadata": {},
   "outputs": [],
   "source": [
    "vs_int_beta_summary.to_csv('volume_sold_interpretive_summary.csv')"
   ]
  },
  {
   "cell_type": "markdown",
   "id": "60ca0e0f-2084-472e-b132-0ffbda385eae",
   "metadata": {},
   "source": [
    "### Sales Volume Interpretative"
   ]
  },
  {
   "cell_type": "code",
   "execution_count": 138,
   "id": "29903881-20fe-42b6-b85f-66a27f75d5ea",
   "metadata": {},
   "outputs": [],
   "source": [
    "sales_int_df = X_train[['County', 'Year', 'DOW', 'Month']]\n",
    "sales_int_df = make_dummies(sales_int_df, ['County','DOW', 'Month', 'Year'])\n",
    "\n",
    "sales_int_mat_with, sales_int_mat_without, sales_int_response_mat, sales_int_col_order = get_intermediate_matrix(sales_int_df, \n",
    "                                                                                     y_train['Sales Volume PC'], \n",
    "                                                                                     None)\n",
    "\n",
    "sales_columns = sales_int_df.columns.tolist()\n",
    "sunday_index = sales_columns.index('Sunday')\n",
    "\n",
    "sales_int_betas = get_betas(sales_int_mat_without, sales_int_response_mat, \"OLS\")"
   ]
  },
  {
   "cell_type": "code",
   "execution_count": 139,
   "id": "7584c0a8-b638-4107-ac5c-9e9ffc682a44",
   "metadata": {},
   "outputs": [],
   "source": [
    "# MAKING PREDICTIONS ON TEST DATA\n",
    "sales_int_test_df = X_test[['County', 'Year', 'DOW', 'Month']]\n",
    "sales_int_test_df = make_dummies(sales_int_test_df,  ['County','DOW', 'Month', 'Year'])\n",
    "\n",
    "# fix issue where sunday doesn't exist for test data\n",
    "sales_int_test_df.insert(sunday_index, 'Sunday', [0 for x in range(len(sales_int_test_df.index))])\n",
    "# ensuring columns in same order\n",
    "sales_int_test_df = sales_int_test_df[sales_columns]\n",
    "\n",
    "sales_int_test_mat_with, sales_int_test_mat_without, sales_int_test_true, sales_int_test_col_order = get_intermediate_matrix(sales_int_test_df, \n",
    "                                                                                     y_test['Sales Volume PC'], \n",
    "                                                                                     None)"
   ]
  },
  {
   "cell_type": "code",
   "execution_count": 140,
   "id": "1f6be7ca-1c4f-4948-9a65-a40b6afd87ec",
   "metadata": {},
   "outputs": [
    {
     "data": {
      "text/plain": [
       "{'Sales Volume Interpretative RMSE': 0.6556291144778399,\n",
       " 'Sales Volume Interpretative R2': 0.3488832964891405}"
      ]
     },
     "execution_count": 140,
     "metadata": {},
     "output_type": "execute_result"
    }
   ],
   "source": [
    "sales_int_pred = np.matmul(sales_int_test_mat_without, sales_int_betas)\n",
    "sales_int_rmse = np.sqrt(mean_squared_error(sales_int_test_true, sales_int_pred))\n",
    "sales_int_r2 = r2_score(sales_int_test_true, sales_int_pred)\n",
    "\n",
    "{'Sales Volume Interpretative RMSE': sales_int_rmse, 'Sales Volume Interpretative R2': sales_int_r2}"
   ]
  },
  {
   "cell_type": "code",
   "execution_count": 141,
   "id": "3d09c659-b375-4097-9a31-a7cb97146859",
   "metadata": {},
   "outputs": [
    {
     "data": {
      "text/html": [
       "<div>\n",
       "<style scoped>\n",
       "    .dataframe tbody tr th:only-of-type {\n",
       "        vertical-align: middle;\n",
       "    }\n",
       "\n",
       "    .dataframe tbody tr th {\n",
       "        vertical-align: top;\n",
       "    }\n",
       "\n",
       "    .dataframe thead th {\n",
       "        text-align: right;\n",
       "    }\n",
       "</style>\n",
       "<table border=\"1\" class=\"dataframe\">\n",
       "  <thead>\n",
       "    <tr style=\"text-align: right;\">\n",
       "      <th></th>\n",
       "      <th>Variable</th>\n",
       "      <th>Coefficient</th>\n",
       "    </tr>\n",
       "  </thead>\n",
       "  <tbody>\n",
       "    <tr>\n",
       "      <th>29</th>\n",
       "      <td>DICKINSON</td>\n",
       "      <td>3.088562</td>\n",
       "    </tr>\n",
       "    <tr>\n",
       "      <th>16</th>\n",
       "      <td>CERRO GORDO</td>\n",
       "      <td>0.932936</td>\n",
       "    </tr>\n",
       "    <tr>\n",
       "      <th>13</th>\n",
       "      <td>CARROLL</td>\n",
       "      <td>0.806045</td>\n",
       "    </tr>\n",
       "    <tr>\n",
       "      <th>14</th>\n",
       "      <td>CASS</td>\n",
       "      <td>0.734572</td>\n",
       "    </tr>\n",
       "    <tr>\n",
       "      <th>20</th>\n",
       "      <td>CLAY</td>\n",
       "      <td>0.699591</td>\n",
       "    </tr>\n",
       "    <tr>\n",
       "      <th>...</th>\n",
       "      <td>...</td>\n",
       "      <td>...</td>\n",
       "    </tr>\n",
       "    <tr>\n",
       "      <th>35</th>\n",
       "      <td>FREMONT</td>\n",
       "      <td>-0.421860</td>\n",
       "    </tr>\n",
       "    <tr>\n",
       "      <th>25</th>\n",
       "      <td>DAVIS</td>\n",
       "      <td>-0.453781</td>\n",
       "    </tr>\n",
       "    <tr>\n",
       "      <th>11</th>\n",
       "      <td>BUTLER</td>\n",
       "      <td>-0.483682</td>\n",
       "    </tr>\n",
       "    <tr>\n",
       "      <th>120</th>\n",
       "      <td>year_2017</td>\n",
       "      <td>-0.669892</td>\n",
       "    </tr>\n",
       "    <tr>\n",
       "      <th>101</th>\n",
       "      <td>Sunday</td>\n",
       "      <td>-0.748067</td>\n",
       "    </tr>\n",
       "  </tbody>\n",
       "</table>\n",
       "<p>124 rows × 2 columns</p>\n",
       "</div>"
      ],
      "text/plain": [
       "        Variable  Coefficient\n",
       "29     DICKINSON     3.088562\n",
       "16   CERRO GORDO     0.932936\n",
       "13       CARROLL     0.806045\n",
       "14          CASS     0.734572\n",
       "20          CLAY     0.699591\n",
       "..           ...          ...\n",
       "35       FREMONT    -0.421860\n",
       "25         DAVIS    -0.453781\n",
       "11        BUTLER    -0.483682\n",
       "120    year_2017    -0.669892\n",
       "101       Sunday    -0.748067\n",
       "\n",
       "[124 rows x 2 columns]"
      ]
     },
     "execution_count": 141,
     "metadata": {},
     "output_type": "execute_result"
    }
   ],
   "source": [
    "sales_int_beta_summary = show_beta_summary(sales_int_betas,sales_int_col_order)\n",
    "sales_int_beta_summary"
   ]
  },
  {
   "cell_type": "code",
   "execution_count": 142,
   "id": "b37f83b1-91e7-4274-8c8b-06508ddee2cb",
   "metadata": {},
   "outputs": [],
   "source": [
    "sales_int_beta_summary.to_csv('sales_volume_interpretive_summary.csv')"
   ]
  },
  {
   "cell_type": "markdown",
   "id": "8209978d-9c1e-43be-b08d-8ffdb2bfb403",
   "metadata": {},
   "source": [
    "## Extra Descriptive Stuff"
   ]
  },
  {
   "cell_type": "code",
   "execution_count": 143,
   "id": "1c4f6615-c51a-42d2-a6eb-e85a559ebb7d",
   "metadata": {},
   "outputs": [
    {
     "data": {
      "text/plain": [
       "Volume Sold PC     0.054903\n",
       "Bottles Sold PC    0.057403\n",
       "Sales Volume PC    0.755673\n",
       "dtype: float64"
      ]
     },
     "execution_count": 143,
     "metadata": {},
     "output_type": "execute_result"
    }
   ],
   "source": [
    "y_test.mean()"
   ]
  },
  {
   "cell_type": "code",
   "execution_count": 145,
   "id": "0c5f4b16-6d5e-4371-ac9e-23ade27cbd03",
   "metadata": {},
   "outputs": [
    {
     "data": {
      "text/plain": [
       "Volume Sold PC     0.057610\n",
       "Bottles Sold PC    0.057756\n",
       "Sales Volume PC    0.812569\n",
       "dtype: float64"
      ]
     },
     "execution_count": 145,
     "metadata": {},
     "output_type": "execute_result"
    }
   ],
   "source": [
    "y_test.std()"
   ]
  }
 ],
 "metadata": {
  "kernelspec": {
   "display_name": "Python 3",
   "language": "python",
   "name": "python3"
  },
  "language_info": {
   "codemirror_mode": {
    "name": "ipython",
    "version": 3
   },
   "file_extension": ".py",
   "mimetype": "text/x-python",
   "name": "python",
   "nbconvert_exporter": "python",
   "pygments_lexer": "ipython3",
   "version": "3.8.8"
  }
 },
 "nbformat": 4,
 "nbformat_minor": 5
}
