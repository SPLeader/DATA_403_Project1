{
 "cells": [
  {
   "cell_type": "code",
   "execution_count": 1,
   "id": "22e26144-872d-40d0-8901-a8a3043b5d16",
   "metadata": {},
   "outputs": [],
   "source": [
    "import pandas as pd\n",
    "import numpy as np\n",
    "import matplotlib.pyplot as plt\n",
    "import createlookup as cl"
   ]
  },
  {
   "cell_type": "code",
   "execution_count": 2,
   "id": "02ce7e3b-520c-4436-884e-d17161393850",
   "metadata": {},
   "outputs": [
    {
     "name": "stderr",
     "output_type": "stream",
     "text": [
      "/opt/anaconda3/lib/python3.8/site-packages/IPython/core/interactiveshell.py:3165: DtypeWarning: Columns (6) have mixed types.Specify dtype option on import or set low_memory=False.\n",
      "  has_raised = await self.run_ast_nodes(code_ast.body, cell_name,\n"
     ]
    }
   ],
   "source": [
    "raw_df = pd.read_csv('../../datasets/Iowa_Liquor_Sales.csv')"
   ]
  },
  {
   "cell_type": "code",
   "execution_count": 3,
   "id": "162613ba-1e8f-4504-a1c8-e5535a3e60fe",
   "metadata": {},
   "outputs": [],
   "source": [
    "df = raw_df[['Date', 'Store Name', 'City', 'County', 'Item Description', 'Bottles Sold',\n",
    "       'Sale (Dollars)', 'Volume Sold (Liters)', 'Volume Sold (Gallons)']]"
   ]
  },
  {
   "cell_type": "code",
   "execution_count": 4,
   "id": "2c5bfb04-1336-4546-8281-bf2f5ccf87ad",
   "metadata": {},
   "outputs": [
    {
     "name": "stderr",
     "output_type": "stream",
     "text": [
      "<ipython-input-4-8fcad510baa5>:1: SettingWithCopyWarning: \n",
      "A value is trying to be set on a copy of a slice from a DataFrame.\n",
      "Try using .loc[row_indexer,col_indexer] = value instead\n",
      "\n",
      "See the caveats in the documentation: https://pandas.pydata.org/pandas-docs/stable/user_guide/indexing.html#returning-a-view-versus-a-copy\n",
      "  df['Date'] = pd.to_datetime(df['Date'], format=\"%m/%d/%Y\")\n",
      "<ipython-input-4-8fcad510baa5>:2: SettingWithCopyWarning: \n",
      "A value is trying to be set on a copy of a slice from a DataFrame.\n",
      "Try using .loc[row_indexer,col_indexer] = value instead\n",
      "\n",
      "See the caveats in the documentation: https://pandas.pydata.org/pandas-docs/stable/user_guide/indexing.html#returning-a-view-versus-a-copy\n",
      "  df['Year'] = df['Date'].dt.year\n"
     ]
    }
   ],
   "source": [
    "df['Date'] = pd.to_datetime(df['Date'], format=\"%m/%d/%Y\")\n",
    "df['Year'] = df['Date'].dt.year"
   ]
  },
  {
   "cell_type": "code",
   "execution_count": 5,
   "id": "29c95272-62f2-423b-9112-ec3d7e4b8c93",
   "metadata": {},
   "outputs": [
    {
     "data": {
      "text/plain": [
       "Date                          4\n",
       "Store Name                    4\n",
       "City                      27994\n",
       "County                   104798\n",
       "Item Description              5\n",
       "Bottles Sold                  5\n",
       "Sale (Dollars)               15\n",
       "Volume Sold (Liters)          5\n",
       "Volume Sold (Gallons)         5\n",
       "Year                          4\n",
       "dtype: int64"
      ]
     },
     "execution_count": 5,
     "metadata": {},
     "output_type": "execute_result"
    }
   ],
   "source": [
    "# checking NAs\n",
    "df[df.columns].isna().sum()"
   ]
  },
  {
   "cell_type": "code",
   "execution_count": 6,
   "id": "86395516-643a-4152-81e3-d817ffa5a9ac",
   "metadata": {},
   "outputs": [],
   "source": [
    "# dropping the columns with no year/storename\n",
    "df = df[df['Date'].notnull() & df['Store Name'].notnull() & df['Item Description'].notnull() & df['Bottles Sold'].notnull()]"
   ]
  },
  {
   "cell_type": "code",
   "execution_count": 7,
   "id": "2b3f8333-032a-4c84-9289-ad9b0dfd23bf",
   "metadata": {},
   "outputs": [],
   "source": [
    "liqour_counts = pd.read_csv('liqour_counts.csv')"
   ]
  },
  {
   "cell_type": "code",
   "execution_count": 8,
   "id": "6288dd76-6f64-4cb7-9669-6d3e8740eb53",
   "metadata": {},
   "outputs": [],
   "source": [
    "df = pd.concat([df, liqour_counts], axis=1)"
   ]
  },
  {
   "cell_type": "code",
   "execution_count": 9,
   "id": "fc996ccb-b18a-40ab-8446-a57221d84ad9",
   "metadata": {},
   "outputs": [],
   "source": [
    "# getting counties with null values\n",
    "null_counties = df[df['County'].isnull()]"
   ]
  },
  {
   "cell_type": "code",
   "execution_count": 10,
   "id": "41f78683-4446-40e5-af58-567fec459208",
   "metadata": {},
   "outputs": [
    {
     "name": "stderr",
     "output_type": "stream",
     "text": [
      "<ipython-input-10-0ee1379c6d5c>:5: SettingWithCopyWarning: \n",
      "A value is trying to be set on a copy of a slice from a DataFrame.\n",
      "Try using .loc[row_indexer,col_indexer] = value instead\n",
      "\n",
      "See the caveats in the documentation: https://pandas.pydata.org/pandas-docs/stable/user_guide/indexing.html#returning-a-view-versus-a-copy\n",
      "  null_counties['City'] = null_counties.apply(lambda row: substring_after(row, \"/ \"), axis=1)\n"
     ]
    }
   ],
   "source": [
    "# get the substring for city after store name\n",
    "def substring_after(s, delim):\n",
    "    return s['Store Name'].partition(delim)[2]\n",
    "\n",
    "null_counties['City'] = null_counties.apply(lambda row: substring_after(row, \"/ \"), axis=1)\n",
    "# make sure the city exists\n",
    "null_counties = null_counties[null_counties['City'] != \"\"]"
   ]
  },
  {
   "cell_type": "code",
   "execution_count": 11,
   "id": "a7e6971b-24fe-49d3-9959-cd2a183a8bc8",
   "metadata": {},
   "outputs": [],
   "source": [
    "# get cities with no existing county name\n",
    "no_county_cities = null_counties['City'].unique()"
   ]
  },
  {
   "cell_type": "code",
   "execution_count": 12,
   "id": "dce46df0-e445-4e3d-b5c4-1c6a5b678263",
   "metadata": {},
   "outputs": [],
   "source": [
    "no_county_cities = [x.title().strip() for x in no_county_cities]"
   ]
  },
  {
   "cell_type": "code",
   "execution_count": 13,
   "id": "3de7b57a-8c9f-457b-8395-57733767c62e",
   "metadata": {},
   "outputs": [],
   "source": [
    "name_fixes = {'4Th St Waukee': 'Waukee', 'Humbolt':'Humboldt', 'Missouri Valey':'Missouri Valley', \n",
    "                        'Humest':'Humeston', 'Lafayette / Waterloo': 'Waterloo', 'Ft Dodg':'Fort Dodge', 'West Dsm':'West Des Moines', \n",
    "                         'Urband': 'Urbandale', 'Marsha':'Marshalltown', 'State Ankeny':'Ankeny', 'Lemars': 'Le Mars', 'Seymou': 'Seymour', \n",
    "                        'Dewitt': 'DeWitt', 'Otumwa':'Ottumwa', 'Coralvill':'Coralville', 'Mason Cit':'Mason City', 'Lafayet / Waterloo':'Waterloo',\n",
    "              'Runn':'Runnells', 'Audubo':'Audubon', 'Norwal': 'Norwalk', 'Sac Ci': 'Sac City', 'Forest': 'Forest City', 'Missouri V': 'Missouri Valley',\n",
    "              'Stanto':'Stanton'\n",
    "             }"
   ]
  },
  {
   "cell_type": "code",
   "execution_count": 14,
   "id": "83d1ee45-328e-45a6-8750-f80ee165d62a",
   "metadata": {},
   "outputs": [],
   "source": [
    "city_county_lookup = cl.create_lookup(no_county_cities, name_fixes)"
   ]
  },
  {
   "cell_type": "code",
   "execution_count": 15,
   "id": "791f157d-2073-4400-8b88-f4bb97af6991",
   "metadata": {},
   "outputs": [],
   "source": [
    "# remove any extra cities that can't be identified\n",
    "lookup = city_county_lookup[city_county_lookup['County'].notnull()]"
   ]
  },
  {
   "cell_type": "code",
   "execution_count": 16,
   "id": "a5aaf4f7-71b9-43f8-bc5c-78e986b32ede",
   "metadata": {},
   "outputs": [],
   "source": [
    "null_counties.drop('County', axis=1, inplace= True)"
   ]
  },
  {
   "cell_type": "code",
   "execution_count": 17,
   "id": "5d147bf4-f2f0-47d1-91b5-2211c1e6e662",
   "metadata": {
    "tags": []
   },
   "outputs": [
    {
     "name": "stderr",
     "output_type": "stream",
     "text": [
      "<ipython-input-17-4de609f7ec95>:1: SettingWithCopyWarning: \n",
      "A value is trying to be set on a copy of a slice from a DataFrame.\n",
      "Try using .loc[row_indexer,col_indexer] = value instead\n",
      "\n",
      "See the caveats in the documentation: https://pandas.pydata.org/pandas-docs/stable/user_guide/indexing.html#returning-a-view-versus-a-copy\n",
      "  lookup['County'] = lookup['County'].astype(str).str.upper()\n",
      "<ipython-input-17-4de609f7ec95>:2: SettingWithCopyWarning: \n",
      "A value is trying to be set on a copy of a slice from a DataFrame.\n",
      "Try using .loc[row_indexer,col_indexer] = value instead\n",
      "\n",
      "See the caveats in the documentation: https://pandas.pydata.org/pandas-docs/stable/user_guide/indexing.html#returning-a-view-versus-a-copy\n",
      "  lookup['City'] = lookup['City'].astype(str).str.upper()\n"
     ]
    }
   ],
   "source": [
    "lookup['County'] = lookup['County'].astype(str).str.upper()\n",
    "lookup['City'] = lookup['City'].astype(str).str.upper()\n",
    "null_counties['City'] = null_counties['City'].astype(str).str.upper()\n",
    "null_counties = pd.merge(null_counties, lookup,  how='left', left_on=['City'], right_on = ['City'])"
   ]
  },
  {
   "cell_type": "code",
   "execution_count": 18,
   "id": "abd091b1-e0c4-41e2-b4ad-02d9241fbb8d",
   "metadata": {},
   "outputs": [],
   "source": [
    "#get all the observations with null counties that are now identified\n",
    "found_counties = null_counties[null_counties['County'].notnull()]"
   ]
  },
  {
   "cell_type": "code",
   "execution_count": 19,
   "id": "8f92af17-d6d3-450f-80d0-919bc187bb1e",
   "metadata": {},
   "outputs": [],
   "source": [
    "# get all rows of orig df with known counties\n",
    "known_counties = df[df['County'].notnull()]"
   ]
  },
  {
   "cell_type": "code",
   "execution_count": 20,
   "id": "98e1d1de-5369-48b8-be4b-b44e6cf34ee7",
   "metadata": {},
   "outputs": [],
   "source": [
    "# concat obs with known and found counties\n",
    "df_clean = pd.concat([found_counties, known_counties])"
   ]
  },
  {
   "cell_type": "code",
   "execution_count": 21,
   "id": "fff53eca-6a8f-4cc3-8084-14e66eac01ee",
   "metadata": {},
   "outputs": [
    {
     "data": {
      "text/plain": [
       "21499067"
      ]
     },
     "execution_count": 21,
     "metadata": {},
     "output_type": "execute_result"
    }
   ],
   "source": [
    "len(df)"
   ]
  },
  {
   "cell_type": "code",
   "execution_count": 22,
   "id": "d31e07e4-099c-4351-988b-34b547f96b8c",
   "metadata": {},
   "outputs": [
    {
     "data": {
      "text/plain": [
       "21447245"
      ]
     },
     "execution_count": 22,
     "metadata": {},
     "output_type": "execute_result"
    }
   ],
   "source": [
    "len(df_clean)"
   ]
  },
  {
   "cell_type": "code",
   "execution_count": 23,
   "id": "4b354604-a3ce-467a-bb41-143fe06b6803",
   "metadata": {},
   "outputs": [],
   "source": [
    "df_clean['County'] = df_clean['County'].str.upper()"
   ]
  },
  {
   "cell_type": "code",
   "execution_count": 24,
   "id": "0dfb5c30-8aa6-4d20-a82c-5af02662393b",
   "metadata": {},
   "outputs": [
    {
     "data": {
      "image/png": "[encoded data removed]",
      "text/plain": [
       "<Figure size 1440x720 with 1 Axes>"
      ]
     },
     "metadata": {
      "needs_background": "light"
     },
     "output_type": "display_data"
    }
   ],
   "source": [
    "df_clean.groupby('County')['Bottles Sold'].sum().sort_values(ascending=False).head(10).plot(kind='barh', figsize=(20,10))\n",
    "plt.title('Bottles Sold')\n",
    "plt.show()"
   ]
  },
  {
   "cell_type": "code",
   "execution_count": 25,
   "id": "eab59675-1cfc-40bd-84e3-cb466ec5fb62",
   "metadata": {},
   "outputs": [
    {
     "data": {
      "text/html": [
       "<div>\n",
       "<style scoped>\n",
       "    .dataframe tbody tr th:only-of-type {\n",
       "        vertical-align: middle;\n",
       "    }\n",
       "\n",
       "    .dataframe tbody tr th {\n",
       "        vertical-align: top;\n",
       "    }\n",
       "\n",
       "    .dataframe thead th {\n",
       "        text-align: right;\n",
       "    }\n",
       "</style>\n",
       "<table border=\"1\" class=\"dataframe\">\n",
       "  <thead>\n",
       "    <tr style=\"text-align: right;\">\n",
       "      <th></th>\n",
       "      <th>Date</th>\n",
       "      <th>Store Name</th>\n",
       "      <th>City</th>\n",
       "      <th>Item Description</th>\n",
       "      <th>Bottles Sold</th>\n",
       "      <th>Sale (Dollars)</th>\n",
       "      <th>Volume Sold (Liters)</th>\n",
       "      <th>Volume Sold (Gallons)</th>\n",
       "      <th>Year</th>\n",
       "      <th>Gin</th>\n",
       "      <th>Rum</th>\n",
       "      <th>Tequila</th>\n",
       "      <th>Vodka</th>\n",
       "      <th>Whiskey</th>\n",
       "      <th>OTHER</th>\n",
       "      <th>County</th>\n",
       "    </tr>\n",
       "  </thead>\n",
       "  <tbody>\n",
       "    <tr>\n",
       "      <th>0</th>\n",
       "      <td>2018-01-23</td>\n",
       "      <td>Casey's General Store #1365 / Paullina</td>\n",
       "      <td>PAULLINA</td>\n",
       "      <td>Black Velvet</td>\n",
       "      <td>12.0</td>\n",
       "      <td>94.20</td>\n",
       "      <td>9.0</td>\n",
       "      <td>2.38</td>\n",
       "      <td>2018.0</td>\n",
       "      <td>0.0</td>\n",
       "      <td>0.0</td>\n",
       "      <td>0.0</td>\n",
       "      <td>0.0</td>\n",
       "      <td>0.0</td>\n",
       "      <td>12.0</td>\n",
       "      <td>O'BRIEN</td>\n",
       "    </tr>\n",
       "    <tr>\n",
       "      <th>1</th>\n",
       "      <td>2018-01-24</td>\n",
       "      <td>Mart Stop #1 / Davenport</td>\n",
       "      <td>DAVENPORT</td>\n",
       "      <td>Grey Goose Vodka</td>\n",
       "      <td>12.0</td>\n",
       "      <td>162.00</td>\n",
       "      <td>4.5</td>\n",
       "      <td>1.19</td>\n",
       "      <td>2018.0</td>\n",
       "      <td>0.0</td>\n",
       "      <td>0.0</td>\n",
       "      <td>0.0</td>\n",
       "      <td>12.0</td>\n",
       "      <td>0.0</td>\n",
       "      <td>0.0</td>\n",
       "      <td>SCOTT</td>\n",
       "    </tr>\n",
       "    <tr>\n",
       "      <th>2</th>\n",
       "      <td>2018-01-29</td>\n",
       "      <td>Foodland Super Markets / Woodbine</td>\n",
       "      <td>WOODBINE</td>\n",
       "      <td>Seagrams 7 Crown Bl Whiskey</td>\n",
       "      <td>2.0</td>\n",
       "      <td>21.00</td>\n",
       "      <td>1.5</td>\n",
       "      <td>0.40</td>\n",
       "      <td>2018.0</td>\n",
       "      <td>0.0</td>\n",
       "      <td>0.0</td>\n",
       "      <td>0.0</td>\n",
       "      <td>0.0</td>\n",
       "      <td>2.0</td>\n",
       "      <td>0.0</td>\n",
       "      <td>HARRISON</td>\n",
       "    </tr>\n",
       "    <tr>\n",
       "      <th>3</th>\n",
       "      <td>2018-02-01</td>\n",
       "      <td>Sam's Club 6344 / Windsor Heights</td>\n",
       "      <td>WINDSOR HEIGHTS</td>\n",
       "      <td>Absolut Mandrin</td>\n",
       "      <td>12.0</td>\n",
       "      <td>269.88</td>\n",
       "      <td>12.0</td>\n",
       "      <td>3.17</td>\n",
       "      <td>2018.0</td>\n",
       "      <td>0.0</td>\n",
       "      <td>0.0</td>\n",
       "      <td>0.0</td>\n",
       "      <td>12.0</td>\n",
       "      <td>0.0</td>\n",
       "      <td>0.0</td>\n",
       "      <td>POLK</td>\n",
       "    </tr>\n",
       "    <tr>\n",
       "      <th>4</th>\n",
       "      <td>2018-01-24</td>\n",
       "      <td>Mart Stop #1 / Davenport</td>\n",
       "      <td>DAVENPORT</td>\n",
       "      <td>Captain Morgan Spiced Rum Mini</td>\n",
       "      <td>12.0</td>\n",
       "      <td>86.40</td>\n",
       "      <td>6.0</td>\n",
       "      <td>1.59</td>\n",
       "      <td>2018.0</td>\n",
       "      <td>0.0</td>\n",
       "      <td>12.0</td>\n",
       "      <td>0.0</td>\n",
       "      <td>0.0</td>\n",
       "      <td>0.0</td>\n",
       "      <td>0.0</td>\n",
       "      <td>SCOTT</td>\n",
       "    </tr>\n",
       "  </tbody>\n",
       "</table>\n",
       "</div>"
      ],
      "text/plain": [
       "        Date                              Store Name             City  \\\n",
       "0 2018-01-23  Casey's General Store #1365 / Paullina         PAULLINA   \n",
       "1 2018-01-24                Mart Stop #1 / Davenport        DAVENPORT   \n",
       "2 2018-01-29       Foodland Super Markets / Woodbine         WOODBINE   \n",
       "3 2018-02-01       Sam's Club 6344 / Windsor Heights  WINDSOR HEIGHTS   \n",
       "4 2018-01-24                Mart Stop #1 / Davenport        DAVENPORT   \n",
       "\n",
       "                 Item Description  Bottles Sold  Sale (Dollars)  \\\n",
       "0                    Black Velvet          12.0           94.20   \n",
       "1                Grey Goose Vodka          12.0          162.00   \n",
       "2     Seagrams 7 Crown Bl Whiskey           2.0           21.00   \n",
       "3                 Absolut Mandrin          12.0          269.88   \n",
       "4  Captain Morgan Spiced Rum Mini          12.0           86.40   \n",
       "\n",
       "   Volume Sold (Liters)  Volume Sold (Gallons)    Year  Gin   Rum  Tequila  \\\n",
       "0                   9.0                   2.38  2018.0  0.0   0.0      0.0   \n",
       "1                   4.5                   1.19  2018.0  0.0   0.0      0.0   \n",
       "2                   1.5                   0.40  2018.0  0.0   0.0      0.0   \n",
       "3                  12.0                   3.17  2018.0  0.0   0.0      0.0   \n",
       "4                   6.0                   1.59  2018.0  0.0  12.0      0.0   \n",
       "\n",
       "   Vodka  Whiskey  OTHER    County  \n",
       "0    0.0      0.0   12.0   O'BRIEN  \n",
       "1   12.0      0.0    0.0     SCOTT  \n",
       "2    0.0      2.0    0.0  HARRISON  \n",
       "3   12.0      0.0    0.0      POLK  \n",
       "4    0.0      0.0    0.0     SCOTT  "
      ]
     },
     "execution_count": 25,
     "metadata": {},
     "output_type": "execute_result"
    }
   ],
   "source": [
    "df_clean.head()"
   ]
  },
  {
   "cell_type": "markdown",
   "id": "b506e09d-fb98-4e40-8623-8165a70241e6",
   "metadata": {},
   "source": [
    "## Aggregating Data"
   ]
  },
  {
   "cell_type": "code",
   "execution_count": 26,
   "id": "0c72c211-5576-4b03-8f14-90cee5f495f1",
   "metadata": {},
   "outputs": [],
   "source": [
    "df_agg = df_clean.groupby(['Date', 'County'],as_index=False)[['Bottles Sold', 'Sale (Dollars)','Volume Sold (Liters)', 'Volume Sold (Gallons)', 'Gin', 'Rum', 'Tequila', 'Vodka', 'Whiskey', 'OTHER' ]].sum()"
   ]
  },
  {
   "cell_type": "code",
   "execution_count": 27,
   "id": "54dd8ec1-be03-4e43-ab9e-31d068d579f6",
   "metadata": {},
   "outputs": [],
   "source": [
    "df_agg['Year'] = df_agg['Date'].dt.year"
   ]
  },
  {
   "cell_type": "code",
   "execution_count": 32,
   "id": "3df0c7b1-0027-4719-bd46-c3d587b05da8",
   "metadata": {},
   "outputs": [],
   "source": [
    "county_fix = {'CERRO GORD': 'CERRO GORDO', 'POTTAWATTA':'POTTAWATTAMIE', 'OBRIEN':\"O'BRIEN\", 'BUENA VIST':'BUENA VISTA'}"
   ]
  },
  {
   "cell_type": "code",
   "execution_count": 34,
   "id": "066b9593-b5ed-4f97-83e0-66d9a5dee616",
   "metadata": {},
   "outputs": [],
   "source": [
    "# fixing county info\n",
    "df_agg['County'] = df_agg['County'].replace(county_fix)"
   ]
  },
  {
   "cell_type": "markdown",
   "id": "65deef90-40d4-47d1-a7f5-fb8464af640d",
   "metadata": {},
   "source": [
    "## Merging in Estimates"
   ]
  },
  {
   "cell_type": "code",
   "execution_count": 80,
   "id": "7a6b0a07-801d-48f1-ae54-835c750c7ec2",
   "metadata": {},
   "outputs": [
    {
     "data": {
      "text/html": [
       "<div>\n",
       "<style scoped>\n",
       "    .dataframe tbody tr th:only-of-type {\n",
       "        vertical-align: middle;\n",
       "    }\n",
       "\n",
       "    .dataframe tbody tr th {\n",
       "        vertical-align: top;\n",
       "    }\n",
       "\n",
       "    .dataframe thead th {\n",
       "        text-align: right;\n",
       "    }\n",
       "</style>\n",
       "<table border=\"1\" class=\"dataframe\">\n",
       "  <thead>\n",
       "    <tr style=\"text-align: right;\">\n",
       "      <th></th>\n",
       "      <th>Date</th>\n",
       "      <th>County</th>\n",
       "      <th>Bottles Sold</th>\n",
       "      <th>Sale (Dollars)</th>\n",
       "      <th>Volume Sold (Liters)</th>\n",
       "      <th>Volume Sold (Gallons)</th>\n",
       "      <th>Gin</th>\n",
       "      <th>Rum</th>\n",
       "      <th>Tequila</th>\n",
       "      <th>Vodka</th>\n",
       "      <th>...</th>\n",
       "      <th>Asian ME</th>\n",
       "      <th>Pacific Estimate</th>\n",
       "      <th>Pacific ME</th>\n",
       "      <th>Other Estimate</th>\n",
       "      <th>Other ME</th>\n",
       "      <th>Two+ Estimate</th>\n",
       "      <th>Two+ ME</th>\n",
       "      <th>HighIncome</th>\n",
       "      <th>LowIncome</th>\n",
       "      <th>MidIncome</th>\n",
       "    </tr>\n",
       "  </thead>\n",
       "  <tbody>\n",
       "    <tr>\n",
       "      <th>0</th>\n",
       "      <td>2012-01-03</td>\n",
       "      <td>ADAIR</td>\n",
       "      <td>339.0</td>\n",
       "      <td>4270.73</td>\n",
       "      <td>319.12</td>\n",
       "      <td>84.26</td>\n",
       "      <td>2.0</td>\n",
       "      <td>22.0</td>\n",
       "      <td>0.0</td>\n",
       "      <td>39.0</td>\n",
       "      <td>...</td>\n",
       "      <td>19.0</td>\n",
       "      <td>0.0</td>\n",
       "      <td>13.0</td>\n",
       "      <td>13.0</td>\n",
       "      <td>14.0</td>\n",
       "      <td>48.0</td>\n",
       "      <td>23.0</td>\n",
       "      <td>215.0</td>\n",
       "      <td>539.0</td>\n",
       "      <td>1296.0</td>\n",
       "    </tr>\n",
       "    <tr>\n",
       "      <th>1</th>\n",
       "      <td>2012-01-03</td>\n",
       "      <td>ADAMS</td>\n",
       "      <td>113.0</td>\n",
       "      <td>1491.20</td>\n",
       "      <td>112.94</td>\n",
       "      <td>29.77</td>\n",
       "      <td>3.0</td>\n",
       "      <td>6.0</td>\n",
       "      <td>9.0</td>\n",
       "      <td>18.0</td>\n",
       "      <td>...</td>\n",
       "      <td>12.0</td>\n",
       "      <td>0.0</td>\n",
       "      <td>9.0</td>\n",
       "      <td>0.0</td>\n",
       "      <td>9.0</td>\n",
       "      <td>64.0</td>\n",
       "      <td>21.0</td>\n",
       "      <td>120.0</td>\n",
       "      <td>261.0</td>\n",
       "      <td>790.0</td>\n",
       "    </tr>\n",
       "    <tr>\n",
       "      <th>2</th>\n",
       "      <td>2012-01-03</td>\n",
       "      <td>AUDUBON</td>\n",
       "      <td>269.0</td>\n",
       "      <td>2909.50</td>\n",
       "      <td>235.63</td>\n",
       "      <td>62.30</td>\n",
       "      <td>0.0</td>\n",
       "      <td>44.0</td>\n",
       "      <td>4.0</td>\n",
       "      <td>76.0</td>\n",
       "      <td>...</td>\n",
       "      <td>17.0</td>\n",
       "      <td>0.0</td>\n",
       "      <td>13.0</td>\n",
       "      <td>0.0</td>\n",
       "      <td>13.0</td>\n",
       "      <td>60.0</td>\n",
       "      <td>35.0</td>\n",
       "      <td>216.0</td>\n",
       "      <td>557.0</td>\n",
       "      <td>941.0</td>\n",
       "    </tr>\n",
       "    <tr>\n",
       "      <th>3</th>\n",
       "      <td>2012-01-03</td>\n",
       "      <td>BENTON</td>\n",
       "      <td>108.0</td>\n",
       "      <td>1282.32</td>\n",
       "      <td>94.50</td>\n",
       "      <td>24.97</td>\n",
       "      <td>0.0</td>\n",
       "      <td>6.0</td>\n",
       "      <td>0.0</td>\n",
       "      <td>30.0</td>\n",
       "      <td>...</td>\n",
       "      <td>34.0</td>\n",
       "      <td>0.0</td>\n",
       "      <td>17.0</td>\n",
       "      <td>65.0</td>\n",
       "      <td>68.0</td>\n",
       "      <td>268.0</td>\n",
       "      <td>89.0</td>\n",
       "      <td>1247.0</td>\n",
       "      <td>1440.0</td>\n",
       "      <td>4512.0</td>\n",
       "    </tr>\n",
       "    <tr>\n",
       "      <th>4</th>\n",
       "      <td>2012-01-03</td>\n",
       "      <td>BLACK HAWK</td>\n",
       "      <td>128.0</td>\n",
       "      <td>1430.20</td>\n",
       "      <td>110.10</td>\n",
       "      <td>29.10</td>\n",
       "      <td>0.0</td>\n",
       "      <td>18.0</td>\n",
       "      <td>6.0</td>\n",
       "      <td>36.0</td>\n",
       "      <td>...</td>\n",
       "      <td>218.0</td>\n",
       "      <td>23.0</td>\n",
       "      <td>28.0</td>\n",
       "      <td>1997.0</td>\n",
       "      <td>428.0</td>\n",
       "      <td>2861.0</td>\n",
       "      <td>426.0</td>\n",
       "      <td>3961.0</td>\n",
       "      <td>8829.0</td>\n",
       "      <td>18194.0</td>\n",
       "    </tr>\n",
       "    <tr>\n",
       "      <th>...</th>\n",
       "      <td>...</td>\n",
       "      <td>...</td>\n",
       "      <td>...</td>\n",
       "      <td>...</td>\n",
       "      <td>...</td>\n",
       "      <td>...</td>\n",
       "      <td>...</td>\n",
       "      <td>...</td>\n",
       "      <td>...</td>\n",
       "      <td>...</td>\n",
       "      <td>...</td>\n",
       "      <td>...</td>\n",
       "      <td>...</td>\n",
       "      <td>...</td>\n",
       "      <td>...</td>\n",
       "      <td>...</td>\n",
       "      <td>...</td>\n",
       "      <td>...</td>\n",
       "      <td>...</td>\n",
       "      <td>...</td>\n",
       "      <td>...</td>\n",
       "    </tr>\n",
       "    <tr>\n",
       "      <th>85570</th>\n",
       "      <td>2022-08-31</td>\n",
       "      <td>WARREN</td>\n",
       "      <td>342.0</td>\n",
       "      <td>4805.82</td>\n",
       "      <td>287.70</td>\n",
       "      <td>75.92</td>\n",
       "      <td>6.0</td>\n",
       "      <td>0.0</td>\n",
       "      <td>6.0</td>\n",
       "      <td>54.0</td>\n",
       "      <td>...</td>\n",
       "      <td>NaN</td>\n",
       "      <td>NaN</td>\n",
       "      <td>NaN</td>\n",
       "      <td>NaN</td>\n",
       "      <td>NaN</td>\n",
       "      <td>NaN</td>\n",
       "      <td>NaN</td>\n",
       "      <td>NaN</td>\n",
       "      <td>NaN</td>\n",
       "      <td>NaN</td>\n",
       "    </tr>\n",
       "    <tr>\n",
       "      <th>85571</th>\n",
       "      <td>2022-08-31</td>\n",
       "      <td>WASHINGTON</td>\n",
       "      <td>2837.0</td>\n",
       "      <td>32482.06</td>\n",
       "      <td>2502.75</td>\n",
       "      <td>660.28</td>\n",
       "      <td>102.0</td>\n",
       "      <td>99.0</td>\n",
       "      <td>42.0</td>\n",
       "      <td>183.0</td>\n",
       "      <td>...</td>\n",
       "      <td>NaN</td>\n",
       "      <td>NaN</td>\n",
       "      <td>NaN</td>\n",
       "      <td>NaN</td>\n",
       "      <td>NaN</td>\n",
       "      <td>NaN</td>\n",
       "      <td>NaN</td>\n",
       "      <td>NaN</td>\n",
       "      <td>NaN</td>\n",
       "      <td>NaN</td>\n",
       "    </tr>\n",
       "    <tr>\n",
       "      <th>85572</th>\n",
       "      <td>2022-08-31</td>\n",
       "      <td>WINNEBAGO</td>\n",
       "      <td>1937.0</td>\n",
       "      <td>24790.31</td>\n",
       "      <td>1666.22</td>\n",
       "      <td>439.40</td>\n",
       "      <td>20.0</td>\n",
       "      <td>0.0</td>\n",
       "      <td>12.0</td>\n",
       "      <td>447.0</td>\n",
       "      <td>...</td>\n",
       "      <td>NaN</td>\n",
       "      <td>NaN</td>\n",
       "      <td>NaN</td>\n",
       "      <td>NaN</td>\n",
       "      <td>NaN</td>\n",
       "      <td>NaN</td>\n",
       "      <td>NaN</td>\n",
       "      <td>NaN</td>\n",
       "      <td>NaN</td>\n",
       "      <td>NaN</td>\n",
       "    </tr>\n",
       "    <tr>\n",
       "      <th>85573</th>\n",
       "      <td>2022-08-31</td>\n",
       "      <td>WOODBURY</td>\n",
       "      <td>231.0</td>\n",
       "      <td>2355.17</td>\n",
       "      <td>119.50</td>\n",
       "      <td>31.41</td>\n",
       "      <td>0.0</td>\n",
       "      <td>4.0</td>\n",
       "      <td>0.0</td>\n",
       "      <td>49.0</td>\n",
       "      <td>...</td>\n",
       "      <td>NaN</td>\n",
       "      <td>NaN</td>\n",
       "      <td>NaN</td>\n",
       "      <td>NaN</td>\n",
       "      <td>NaN</td>\n",
       "      <td>NaN</td>\n",
       "      <td>NaN</td>\n",
       "      <td>NaN</td>\n",
       "      <td>NaN</td>\n",
       "      <td>NaN</td>\n",
       "    </tr>\n",
       "    <tr>\n",
       "      <th>85574</th>\n",
       "      <td>2022-08-31</td>\n",
       "      <td>WRIGHT</td>\n",
       "      <td>1083.0</td>\n",
       "      <td>15289.53</td>\n",
       "      <td>984.15</td>\n",
       "      <td>259.47</td>\n",
       "      <td>6.0</td>\n",
       "      <td>6.0</td>\n",
       "      <td>52.0</td>\n",
       "      <td>288.0</td>\n",
       "      <td>...</td>\n",
       "      <td>NaN</td>\n",
       "      <td>NaN</td>\n",
       "      <td>NaN</td>\n",
       "      <td>NaN</td>\n",
       "      <td>NaN</td>\n",
       "      <td>NaN</td>\n",
       "      <td>NaN</td>\n",
       "      <td>NaN</td>\n",
       "      <td>NaN</td>\n",
       "      <td>NaN</td>\n",
       "    </tr>\n",
       "  </tbody>\n",
       "</table>\n",
       "<p>85575 rows × 36 columns</p>\n",
       "</div>"
      ],
      "text/plain": [
       "            Date      County  Bottles Sold  Sale (Dollars)  \\\n",
       "0     2012-01-03       ADAIR         339.0         4270.73   \n",
       "1     2012-01-03       ADAMS         113.0         1491.20   \n",
       "2     2012-01-03     AUDUBON         269.0         2909.50   \n",
       "3     2012-01-03      BENTON         108.0         1282.32   \n",
       "4     2012-01-03  BLACK HAWK         128.0         1430.20   \n",
       "...          ...         ...           ...             ...   \n",
       "85570 2022-08-31      WARREN         342.0         4805.82   \n",
       "85571 2022-08-31  WASHINGTON        2837.0        32482.06   \n",
       "85572 2022-08-31   WINNEBAGO        1937.0        24790.31   \n",
       "85573 2022-08-31    WOODBURY         231.0         2355.17   \n",
       "85574 2022-08-31      WRIGHT        1083.0        15289.53   \n",
       "\n",
       "       Volume Sold (Liters)  Volume Sold (Gallons)    Gin   Rum  Tequila  \\\n",
       "0                    319.12                  84.26    2.0  22.0      0.0   \n",
       "1                    112.94                  29.77    3.0   6.0      9.0   \n",
       "2                    235.63                  62.30    0.0  44.0      4.0   \n",
       "3                     94.50                  24.97    0.0   6.0      0.0   \n",
       "4                    110.10                  29.10    0.0  18.0      6.0   \n",
       "...                     ...                    ...    ...   ...      ...   \n",
       "85570                287.70                  75.92    6.0   0.0      6.0   \n",
       "85571               2502.75                 660.28  102.0  99.0     42.0   \n",
       "85572               1666.22                 439.40   20.0   0.0     12.0   \n",
       "85573                119.50                  31.41    0.0   4.0      0.0   \n",
       "85574                984.15                 259.47    6.0   6.0     52.0   \n",
       "\n",
       "       Vodka  ...  Asian ME  Pacific Estimate  Pacific ME  Other Estimate  \\\n",
       "0       39.0  ...      19.0               0.0        13.0            13.0   \n",
       "1       18.0  ...      12.0               0.0         9.0             0.0   \n",
       "2       76.0  ...      17.0               0.0        13.0             0.0   \n",
       "3       30.0  ...      34.0               0.0        17.0            65.0   \n",
       "4       36.0  ...     218.0              23.0        28.0          1997.0   \n",
       "...      ...  ...       ...               ...         ...             ...   \n",
       "85570   54.0  ...       NaN               NaN         NaN             NaN   \n",
       "85571  183.0  ...       NaN               NaN         NaN             NaN   \n",
       "85572  447.0  ...       NaN               NaN         NaN             NaN   \n",
       "85573   49.0  ...       NaN               NaN         NaN             NaN   \n",
       "85574  288.0  ...       NaN               NaN         NaN             NaN   \n",
       "\n",
       "       Other ME  Two+ Estimate  Two+ ME  HighIncome  LowIncome  MidIncome  \n",
       "0          14.0           48.0     23.0       215.0      539.0     1296.0  \n",
       "1           9.0           64.0     21.0       120.0      261.0      790.0  \n",
       "2          13.0           60.0     35.0       216.0      557.0      941.0  \n",
       "3          68.0          268.0     89.0      1247.0     1440.0     4512.0  \n",
       "4         428.0         2861.0    426.0      3961.0     8829.0    18194.0  \n",
       "...         ...            ...      ...         ...        ...        ...  \n",
       "85570       NaN            NaN      NaN         NaN        NaN        NaN  \n",
       "85571       NaN            NaN      NaN         NaN        NaN        NaN  \n",
       "85572       NaN            NaN      NaN         NaN        NaN        NaN  \n",
       "85573       NaN            NaN      NaN         NaN        NaN        NaN  \n",
       "85574       NaN            NaN      NaN         NaN        NaN        NaN  \n",
       "\n",
       "[85575 rows x 36 columns]"
      ]
     },
     "execution_count": 80,
     "metadata": {},
     "output_type": "execute_result"
    }
   ],
   "source": [
    "ests = pd.read_csv(\"EstimatesFinal.csv\")\n",
    "ests['County'] = ests['County'].str.upper()\n",
    "\n",
    "new_df = pd.merge(df_agg, ests,  how='left', left_on=['County','Year'], right_on = ['County','Year'])\n",
    "new_df"
   ]
  },
  {
   "cell_type": "code",
   "execution_count": 81,
   "id": "69d125be-ab1d-4e55-aff5-ce88be8ed73d",
   "metadata": {},
   "outputs": [
    {
     "data": {
      "text/plain": [
       "array(['EL PASO'], dtype=object)"
      ]
     },
     "execution_count": 81,
     "metadata": {},
     "output_type": "execute_result"
    }
   ],
   "source": [
    "new_df[(new_df['Year'] <= 2020) & new_df[\"MidIncome\"].isnull()]['County'].unique()"
   ]
  },
  {
   "cell_type": "code",
   "execution_count": 82,
   "id": "45da6570-fce6-4cf1-9204-4072c5a8bc3b",
   "metadata": {},
   "outputs": [],
   "source": [
    "# get years before 2021 (no population estimates for them)\n",
    "new_df_2020 = new_df[(new_df['Year'] <= 2020)]"
   ]
  },
  {
   "cell_type": "code",
   "execution_count": 83,
   "id": "6882e16b-7076-4230-af54-17862c361537",
   "metadata": {},
   "outputs": [
    {
     "data": {
      "text/plain": [
       "POLK          2161\n",
       "LINN          1903\n",
       "JOHNSON       1763\n",
       "BLACK HAWK    1721\n",
       "STORY         1586\n",
       "              ... \n",
       "DAVIS          404\n",
       "TAYLOR         396\n",
       "ADAMS          364\n",
       "FREMONT        139\n",
       "EL PASO          1\n",
       "Name: County, Length: 100, dtype: int64"
      ]
     },
     "execution_count": 83,
     "metadata": {},
     "output_type": "execute_result"
    }
   ],
   "source": [
    "new_df_2020['County'].value_counts()"
   ]
  },
  {
   "cell_type": "code",
   "execution_count": 84,
   "id": "e4e562d8-9f54-4884-a87f-23c07c573fb3",
   "metadata": {},
   "outputs": [],
   "source": [
    "# filter out EL PASO since that's now a county\n",
    "new_df_2020 = new_df_2020[new_df_2020['County'] != 'EL PASO']"
   ]
  },
  {
   "cell_type": "code",
   "execution_count": 85,
   "id": "f91f351d-029e-4a2b-942d-41e6866483ea",
   "metadata": {},
   "outputs": [
    {
     "data": {
      "text/plain": [
       "POLK          2161\n",
       "LINN          1903\n",
       "JOHNSON       1763\n",
       "BLACK HAWK    1721\n",
       "STORY         1586\n",
       "              ... \n",
       "KEOKUK         407\n",
       "DAVIS          404\n",
       "TAYLOR         396\n",
       "ADAMS          364\n",
       "FREMONT        139\n",
       "Name: County, Length: 99, dtype: int64"
      ]
     },
     "execution_count": 85,
     "metadata": {},
     "output_type": "execute_result"
    }
   ],
   "source": [
    "new_df_2020['County'].value_counts()"
   ]
  },
  {
   "cell_type": "code",
   "execution_count": 86,
   "id": "7fb9552f-9890-4d11-9607-47937cb1addf",
   "metadata": {},
   "outputs": [
    {
     "data": {
      "text/plain": [
       "Index(['Date', 'County', 'Bottles Sold', 'Sale (Dollars)',\n",
       "       'Volume Sold (Liters)', 'Volume Sold (Gallons)', 'Gin', 'Rum',\n",
       "       'Tequila', 'Vodka', 'Whiskey', 'OTHER', 'Year', 'Poverty ',\n",
       "       'Middle-Old', 'Middle-Young', 'Old', 'Young', 'Population',\n",
       "       'White Estimate', 'White ME', 'Black Estimate', 'Black ME',\n",
       "       'Native American Estimate', 'Native American ME', 'Asian Estimate',\n",
       "       'Asian ME', 'Pacific Estimate', 'Pacific ME', 'Other Estimate',\n",
       "       'Other ME', 'Two+ Estimate', 'Two+ ME', 'HighIncome', 'LowIncome',\n",
       "       'MidIncome'],\n",
       "      dtype='object')"
      ]
     },
     "execution_count": 86,
     "metadata": {},
     "output_type": "execute_result"
    }
   ],
   "source": [
    "new_df_2020.columns"
   ]
  },
  {
   "cell_type": "code",
   "execution_count": 87,
   "id": "32ea59da-0afe-416c-805b-7ad76eb73702",
   "metadata": {},
   "outputs": [],
   "source": [
    "new_df_2020['Bottles Sold PC'] = new_df_2020['Bottles Sold']/new_df_2020['Population']\n",
    "new_df_2020['Sales Volume PC'] = new_df_2020['Sale (Dollars)']/new_df_2020['Population']\n",
    "new_df_2020['Volume Sold PC'] = new_df_2020['Volume Sold (Liters)']/new_df_2020['Population']\n",
    "new_df_2020['Vodka Sold PC'] = new_df_2020['Vodka']/new_df_2020['Population']\n",
    "new_df_2020['Gin Sold PC'] = new_df_2020['Gin']/new_df_2020['Population']\n",
    "new_df_2020['Rum Sold PC'] = new_df_2020['Rum']/new_df_2020['Population']\n",
    "new_df_2020['Whiskey Sold PC'] = new_df_2020['Whiskey']/new_df_2020['Population']\n",
    "new_df_2020['Tequila Sold PC'] = new_df_2020['Tequila']/new_df_2020['Population']\n",
    "new_df_2020['Other Alc Sold PC'] = new_df_2020['OTHER']/new_df_2020['Population']"
   ]
  },
  {
   "cell_type": "code",
   "execution_count": 88,
   "id": "3d0d8782-58df-41e4-acd4-3d15b2878522",
   "metadata": {},
   "outputs": [],
   "source": [
    "new_df = new_df_2020.drop(columns=['White ME', 'Black ME', 'Native American ME', 'Asian ME', 'Pacific ME', 'Other ME', 'Two+ ME',\n",
    "                         'Bottles Sold', 'Sale (Dollars)', 'Volume Sold (Liters)', 'Volume Sold (Gallons)', 'County', 'Vodka',\n",
    "                         'Gin', 'Rum', 'Whiskey', 'Tequila', 'OTHER'])"
   ]
  },
  {
   "cell_type": "code",
   "execution_count": 89,
   "id": "9b5fa9ba-ca7f-4654-9ba8-fa1dfedb2611",
   "metadata": {},
   "outputs": [
    {
     "data": {
      "text/plain": [
       "Index(['Date', 'Year', 'Poverty ', 'Middle-Old', 'Middle-Young', 'Old',\n",
       "       'Young', 'Population', 'White Estimate', 'Black Estimate',\n",
       "       'Native American Estimate', 'Asian Estimate', 'Pacific Estimate',\n",
       "       'Other Estimate', 'Two+ Estimate', 'HighIncome', 'LowIncome',\n",
       "       'MidIncome', 'Bottles Sold PC', 'Sales Volume PC', 'Volume Sold PC',\n",
       "       'Vodka Sold PC', 'Gin Sold PC', 'Rum Sold PC', 'Whiskey Sold PC',\n",
       "       'Tequila Sold PC', 'Other Alc Sold PC'],\n",
       "      dtype='object')"
      ]
     },
     "execution_count": 89,
     "metadata": {},
     "output_type": "execute_result"
    }
   ],
   "source": [
    "new_df.columns"
   ]
  },
  {
   "cell_type": "code",
   "execution_count": 90,
   "id": "c67b5b2a-9003-49a5-9ae3-9495e3c4d392",
   "metadata": {},
   "outputs": [],
   "source": [
    "new_df['DOW'] = new_df['Date'].dt.day_name()\n",
    "new_df['dow_temp'] = new_df['Date'].dt.dayofweek"
   ]
  },
  {
   "cell_type": "code",
   "execution_count": 91,
   "id": "d350cd01-d4cc-420d-938a-e059dda0e04a",
   "metadata": {},
   "outputs": [],
   "source": [
    "def is_weekend(day):\n",
    "    if day >=5:\n",
    "        return 1\n",
    "    else:\n",
    "        return 0\n",
    "\n",
    "new_df['is_weekend'] = new_df['dow_temp'].apply(is_weekend)\n",
    "new_df = new_df.drop(columns=['dow_temp'])"
   ]
  },
  {
   "cell_type": "code",
   "execution_count": 94,
   "id": "314d05a1-a4e4-4a65-a218-bee48da4ea05",
   "metadata": {},
   "outputs": [],
   "source": [
    "new_df['Age Estimate Total'] = new_df[['White Estimate','Black Estimate','Native American Estimate','Asian Estimate','Pacific Estimate','Other Estimate','Two+ Estimate']].sum(axis=1)\n",
    "races = ['White', 'Black', 'Native American', 'Asian', 'Pacific', 'Two+', 'Other']\n",
    "for r in races:\n",
    "    new_df['{} Prop'.format(r)] = new_df['{} Estimate'.format(r) ]/new_df['Age Estimate Total']"
   ]
  },
  {
   "cell_type": "code",
   "execution_count": 98,
   "id": "6e0b0f3e-cdf0-4bcc-8c6a-73ee65e58cdc",
   "metadata": {},
   "outputs": [],
   "source": [
    "new_df['Household Income Total'] = new_df[['HighIncome', 'LowIncome', 'MidIncome']].sum(axis=1)\n",
    "income_level = ['High', 'Low', 'Mid']\n",
    "for i in income_level:\n",
    "    new_df['{}Income Prop'.format(i)] = new_df['{}Income'.format(i) ]/new_df['Household Income Total']"
   ]
  },
  {
   "cell_type": "code",
   "execution_count": 99,
   "id": "41a2b782-c3d7-4cc4-931d-f4af2816bcc4",
   "metadata": {},
   "outputs": [],
   "source": [
    "new_df['Age Total'] = new_df[['Middle-Old', 'Middle-Young', 'Old',\n",
    "       'Young']].sum(axis=1)\n",
    "age_range = ['Middle-Old', 'Middle-Young', 'Old',\n",
    "       'Young']\n",
    "for a in age_range:\n",
    "    new_df['{} Prop'.format(a)] = new_df['{}'.format(a) ]/new_df['Age Total']"
   ]
  },
  {
   "cell_type": "code",
   "execution_count": 100,
   "id": "90ff8f03-dfa0-48da-a0ca-018b1a2ef35f",
   "metadata": {},
   "outputs": [],
   "source": [
    "new_df_prop = new_df.drop(columns=['Middle-Old', 'Middle-Young', 'Old',\n",
    "       'Young', 'HighIncome', 'LowIncome', 'MidIncome', 'White Estimate','Black Estimate',\n",
    "        'Native American Estimate','Asian Estimate','Pacific Estimate','Other Estimate','Two+ Estimate',\n",
    "        'Age Total', 'Household Income Total', 'Age Estimate Total'])"
   ]
  },
  {
   "cell_type": "code",
   "execution_count": 102,
   "id": "98c7b760-0fef-49b9-b21c-8baa7241b03d",
   "metadata": {},
   "outputs": [
    {
     "data": {
      "text/plain": [
       "Index(['Date', 'Year', 'Poverty ', 'Population', 'Bottles Sold PC',\n",
       "       'Sales Volume PC', 'Volume Sold PC', 'Vodka Sold PC', 'Gin Sold PC',\n",
       "       'Rum Sold PC', 'Whiskey Sold PC', 'Tequila Sold PC',\n",
       "       'Other Alc Sold PC', 'DOW', 'is_weekend', 'White Prop', 'Black Prop',\n",
       "       'Native American Prop', 'Asian Prop', 'Pacific Prop', 'Two+ Prop',\n",
       "       'Other Prop', 'HighIncome Prop', 'LowIncome Prop', 'MidIncome Prop',\n",
       "       'Middle-Old Prop', 'Middle-Young Prop', 'Old Prop', 'Young Prop'],\n",
       "      dtype='object')"
      ]
     },
     "execution_count": 102,
     "metadata": {},
     "output_type": "execute_result"
    }
   ],
   "source": [
    "new_df_prop.columns"
   ]
  },
  {
   "cell_type": "code",
   "execution_count": 103,
   "id": "794e747b-df19-4318-895e-b6c081785927",
   "metadata": {},
   "outputs": [],
   "source": [
    "new_df_prop.to_csv('harlech_data_proportions.csv')"
   ]
  },
  {
   "cell_type": "code",
   "execution_count": null,
   "id": "4c4953fd-3500-48b2-bd86-7d3556d5bfb9",
   "metadata": {},
   "outputs": [],
   "source": []
  }
 ],
 "metadata": {
  "kernelspec": {
   "display_name": "Python 3",
   "language": "python",
   "name": "python3"
  },
  "language_info": {
   "codemirror_mode": {
    "name": "ipython",
    "version": 3
   },
   "file_extension": ".py",
   "mimetype": "text/x-python",
   "name": "python",
   "nbconvert_exporter": "python",
   "pygments_lexer": "ipython3",
   "version": "3.8.8"
  }
 },
 "nbformat": 4,
 "nbformat_minor": 5
}
